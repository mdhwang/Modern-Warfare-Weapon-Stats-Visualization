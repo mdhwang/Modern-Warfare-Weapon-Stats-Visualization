{
 "cells": [
  {
   "cell_type": "code",
   "execution_count": 1,
   "metadata": {},
   "outputs": [
    {
     "name": "stderr",
     "output_type": "stream",
     "text": [
      "/Users/matthewhwang/anaconda3/lib/python3.7/site-packages/dask/config.py:168: YAMLLoadWarning:\n",
      "\n",
      "calling yaml.load() without Loader=... is deprecated, as the default Loader is unsafe. Please read https://msg.pyyaml.org/load for full details.\n",
      "\n",
      "/Users/matthewhwang/anaconda3/lib/python3.7/site-packages/distributed/config.py:20: YAMLLoadWarning:\n",
      "\n",
      "calling yaml.load() without Loader=... is deprecated, as the default Loader is unsafe. Please read https://msg.pyyaml.org/load for full details.\n",
      "\n"
     ]
    }
   ],
   "source": [
    "import plotly.express as px\n",
    "import pandas as pd\n",
    "import csv\n",
    "import warnings\n",
    "warnings.filterwarnings('ignore')\n",
    "import plotly.graph_objects as go\n",
    "\n",
    "from get_stats import *\n",
    "%matplotlib inline  "
   ]
  },
  {
   "cell_type": "code",
   "execution_count": 57,
   "metadata": {},
   "outputs": [],
   "source": [
    "\n",
    "categories = ['Accuracy','Damage','Range','Fire Rate','Mobility','Control']\n",
    "    \n",
    "formatting = {}\n",
    "for each in categories:\n",
    "    formatting[each] = float\n",
    "    \n",
    "df = pd.read_csv('attachment_data.csv',dtype=formatting)\n"
   ]
  },
  {
   "cell_type": "code",
   "execution_count": 58,
   "metadata": {},
   "outputs": [],
   "source": [
    "def table_agg(df, weapon, attachemnts,categories):\n",
    "    table = []\n",
    "    base = df[(df.Weapon == weapon) & (df.Category == \"BASE\")].iloc[0,3:].tolist()\n",
    "    base.insert(0,\"STATS\")\n",
    "    base.insert(0,\"BASE\")\n",
    "    table.append(base)\n",
    "    final = df[(df.Weapon == weapon) & (df.Category == \"BASE\")].iloc[0,3:].tolist()\n",
    "    for i, attachment in enumerate(attachemnts):\n",
    "        try:\n",
    "            diff = df[(df.Weapon == weapon) & (df.Attachment == attachment)].iloc[0,3:].tolist()\n",
    "            final = [sum(i) for i in zip(final, diff)]\n",
    "            diff.insert(0,attachment)\n",
    "            diff.insert(0,categories[i])\n",
    "            table.append(diff)\n",
    "        except:\n",
    "            pass\n",
    "    final.insert(0,\"STATS\")\n",
    "    final.insert(0,\"FINAL\")\n",
    "    table.append(final)\n",
    "    header = [\"Category\",\"Attachment\",'Accuracy','Damage','Range','Fire Rate','Mobility','Control']\n",
    "    pd_table = pd.DataFrame(table, columns = header)\n",
    "    return pd_table"
   ]
  },
  {
   "cell_type": "code",
   "execution_count": 59,
   "metadata": {},
   "outputs": [],
   "source": [
    "test = table_agg(df, \"GRAU\", attachments, categories)"
   ]
  },
  {
   "cell_type": "code",
   "execution_count": 85,
   "metadata": {},
   "outputs": [
    {
     "name": "stdout",
     "output_type": "stream",
     "text": [
      "[3.87, 3.87, 0.0, 1.06, 3.87]\n",
      "[0.0, 0.0, 0.0, 0.0, 0.0]\n",
      "[2.11, 7.04, 0.0, -3.87, 0.0]\n",
      "[0.0, 0.0, 0.0, 0.0, 0.0]\n",
      "[-2.11, -5.99, -4.23, -0.7, 0.0]\n",
      "[2.82, 4.93, -2.46, 0.0, -2.11]\n"
     ]
    }
   ],
   "source": [
    "for each in categories:\n",
    "    string = each + \"_color\"\n",
    "    test[string] = color_selector(test[each])\n"
   ]
  },
  {
   "cell_type": "code",
   "execution_count": 86,
   "metadata": {},
   "outputs": [
    {
     "data": {
      "text/html": [
       "<div>\n",
       "<style scoped>\n",
       "    .dataframe tbody tr th:only-of-type {\n",
       "        vertical-align: middle;\n",
       "    }\n",
       "\n",
       "    .dataframe tbody tr th {\n",
       "        vertical-align: top;\n",
       "    }\n",
       "\n",
       "    .dataframe thead th {\n",
       "        text-align: right;\n",
       "    }\n",
       "</style>\n",
       "<table border=\"1\" class=\"dataframe\">\n",
       "  <thead>\n",
       "    <tr style=\"text-align: right;\">\n",
       "      <th></th>\n",
       "      <th>Category</th>\n",
       "      <th>Attachment</th>\n",
       "      <th>Accuracy</th>\n",
       "      <th>Damage</th>\n",
       "      <th>Range</th>\n",
       "      <th>Fire Rate</th>\n",
       "      <th>Mobility</th>\n",
       "      <th>Control</th>\n",
       "      <th>Accuracy_color</th>\n",
       "      <th>Damage_color</th>\n",
       "      <th>Range_color</th>\n",
       "      <th>Fire Rate_color</th>\n",
       "      <th>Mobility_color</th>\n",
       "      <th>Control_color</th>\n",
       "    </tr>\n",
       "  </thead>\n",
       "  <tbody>\n",
       "    <tr>\n",
       "      <th>0</th>\n",
       "      <td>BASE</td>\n",
       "      <td>STATS</td>\n",
       "      <td>70.07</td>\n",
       "      <td>71.83</td>\n",
       "      <td>65.85</td>\n",
       "      <td>65.14</td>\n",
       "      <td>65.14</td>\n",
       "      <td>71.13</td>\n",
       "      <td>white</td>\n",
       "      <td>white</td>\n",
       "      <td>white</td>\n",
       "      <td>white</td>\n",
       "      <td>white</td>\n",
       "      <td>white</td>\n",
       "    </tr>\n",
       "    <tr>\n",
       "      <th>1</th>\n",
       "      <td>Accuracy</td>\n",
       "      <td>COMMANDO_FOREGRIP</td>\n",
       "      <td>3.87</td>\n",
       "      <td>0.00</td>\n",
       "      <td>2.11</td>\n",
       "      <td>0.00</td>\n",
       "      <td>-2.11</td>\n",
       "      <td>2.82</td>\n",
       "      <td>green</td>\n",
       "      <td>white</td>\n",
       "      <td>green</td>\n",
       "      <td>white</td>\n",
       "      <td>red</td>\n",
       "      <td>green</td>\n",
       "    </tr>\n",
       "    <tr>\n",
       "      <th>2</th>\n",
       "      <td>Damage</td>\n",
       "      <td>TEMPUS_26.4_ARCHANGEL</td>\n",
       "      <td>3.87</td>\n",
       "      <td>0.00</td>\n",
       "      <td>7.04</td>\n",
       "      <td>0.00</td>\n",
       "      <td>-5.99</td>\n",
       "      <td>4.93</td>\n",
       "      <td>green</td>\n",
       "      <td>white</td>\n",
       "      <td>green</td>\n",
       "      <td>white</td>\n",
       "      <td>red</td>\n",
       "      <td>green</td>\n",
       "    </tr>\n",
       "    <tr>\n",
       "      <th>3</th>\n",
       "      <td>Range</td>\n",
       "      <td>60_ROUND</td>\n",
       "      <td>0.00</td>\n",
       "      <td>0.00</td>\n",
       "      <td>0.00</td>\n",
       "      <td>0.00</td>\n",
       "      <td>-4.23</td>\n",
       "      <td>-2.46</td>\n",
       "      <td>white</td>\n",
       "      <td>white</td>\n",
       "      <td>white</td>\n",
       "      <td>white</td>\n",
       "      <td>red</td>\n",
       "      <td>red</td>\n",
       "    </tr>\n",
       "    <tr>\n",
       "      <th>4</th>\n",
       "      <td>Fire Rate</td>\n",
       "      <td>LIGHTWEIGHT_SUPPRESSOR</td>\n",
       "      <td>1.06</td>\n",
       "      <td>0.00</td>\n",
       "      <td>-3.87</td>\n",
       "      <td>0.00</td>\n",
       "      <td>-0.70</td>\n",
       "      <td>0.00</td>\n",
       "      <td>green</td>\n",
       "      <td>white</td>\n",
       "      <td>red</td>\n",
       "      <td>white</td>\n",
       "      <td>red</td>\n",
       "      <td>white</td>\n",
       "    </tr>\n",
       "    <tr>\n",
       "      <th>5</th>\n",
       "      <td>Mobility</td>\n",
       "      <td>FTAC_R89_RUBBER</td>\n",
       "      <td>3.87</td>\n",
       "      <td>0.00</td>\n",
       "      <td>0.00</td>\n",
       "      <td>0.00</td>\n",
       "      <td>0.00</td>\n",
       "      <td>-2.11</td>\n",
       "      <td>green</td>\n",
       "      <td>white</td>\n",
       "      <td>white</td>\n",
       "      <td>white</td>\n",
       "      <td>white</td>\n",
       "      <td>red</td>\n",
       "    </tr>\n",
       "    <tr>\n",
       "      <th>6</th>\n",
       "      <td>FINAL</td>\n",
       "      <td>STATS</td>\n",
       "      <td>82.74</td>\n",
       "      <td>71.83</td>\n",
       "      <td>71.13</td>\n",
       "      <td>65.14</td>\n",
       "      <td>52.11</td>\n",
       "      <td>74.31</td>\n",
       "      <td>white</td>\n",
       "      <td>white</td>\n",
       "      <td>red</td>\n",
       "      <td>white</td>\n",
       "      <td>green</td>\n",
       "      <td>red</td>\n",
       "    </tr>\n",
       "  </tbody>\n",
       "</table>\n",
       "</div>"
      ],
      "text/plain": [
       "    Category              Attachment  Accuracy  Damage  Range  Fire Rate  \\\n",
       "0       BASE                   STATS     70.07   71.83  65.85      65.14   \n",
       "1   Accuracy       COMMANDO_FOREGRIP      3.87    0.00   2.11       0.00   \n",
       "2     Damage   TEMPUS_26.4_ARCHANGEL      3.87    0.00   7.04       0.00   \n",
       "3      Range                60_ROUND      0.00    0.00   0.00       0.00   \n",
       "4  Fire Rate  LIGHTWEIGHT_SUPPRESSOR      1.06    0.00  -3.87       0.00   \n",
       "5   Mobility         FTAC_R89_RUBBER      3.87    0.00   0.00       0.00   \n",
       "6      FINAL                   STATS     82.74   71.83  71.13      65.14   \n",
       "\n",
       "   Mobility  Control Accuracy_color Damage_color Range_color Fire Rate_color  \\\n",
       "0     65.14    71.13          white        white       white           white   \n",
       "1     -2.11     2.82          green        white       green           white   \n",
       "2     -5.99     4.93          green        white       green           white   \n",
       "3     -4.23    -2.46          white        white       white           white   \n",
       "4     -0.70     0.00          green        white         red           white   \n",
       "5      0.00    -2.11          green        white       white           white   \n",
       "6     52.11    74.31          white        white         red           white   \n",
       "\n",
       "  Mobility_color Control_color  \n",
       "0          white         white  \n",
       "1            red         green  \n",
       "2            red         green  \n",
       "3            red           red  \n",
       "4            red         white  \n",
       "5          white           red  \n",
       "6          green           red  "
      ]
     },
     "execution_count": 86,
     "metadata": {},
     "output_type": "execute_result"
    }
   ],
   "source": [
    "test"
   ]
  },
  {
   "cell_type": "code",
   "execution_count": 44,
   "metadata": {},
   "outputs": [],
   "source": []
  },
  {
   "cell_type": "code",
   "execution_count": 83,
   "metadata": {},
   "outputs": [],
   "source": [
    "def color_selector(column):\n",
    "    colors = []\n",
    "    \n",
    "    values = column.to_list()[1:-1]\n",
    "    print(values)\n",
    "    for value in values:\n",
    "        if value > 0:\n",
    "            colors.append('green')\n",
    "        elif value < 0:\n",
    "            colors.append('red')\n",
    "        else:\n",
    "            colors.append('white')\n",
    "    colors.insert(0,'white')\n",
    "    if values[-1] > values[0]:\n",
    "        fin = 'green'\n",
    "    elif values[-1] < values[0]:\n",
    "        fin = 'red'\n",
    "    else:\n",
    "        fin = 'white'\n",
    "    colors.append(fin)\n",
    "    return colors"
   ]
  },
  {
   "cell_type": "code",
   "execution_count": 53,
   "metadata": {},
   "outputs": [],
   "source": [
    "color_acc = [color_selector(each) for each in acc]"
   ]
  },
  {
   "cell_type": "code",
   "execution_count": 54,
   "metadata": {},
   "outputs": [
    {
     "data": {
      "text/plain": [
       "['green', 'green', 'white', 'green', 'green']"
      ]
     },
     "execution_count": 54,
     "metadata": {},
     "output_type": "execute_result"
    }
   ],
   "source": [
    "color_acc"
   ]
  },
  {
   "cell_type": "code",
   "execution_count": 35,
   "metadata": {},
   "outputs": [],
   "source": [
    "test = pd.DataFrame(a,columns=header)"
   ]
  },
  {
   "cell_type": "code",
   "execution_count": 34,
   "metadata": {},
   "outputs": [],
   "source": [
    "header = [\"Category\",\"Attachment\",'Accuracy','Damage','Range','Fire Rate','Mobility','Control']"
   ]
  },
  {
   "cell_type": "code",
   "execution_count": 36,
   "metadata": {},
   "outputs": [
    {
     "data": {
      "text/html": [
       "<div>\n",
       "<style scoped>\n",
       "    .dataframe tbody tr th:only-of-type {\n",
       "        vertical-align: middle;\n",
       "    }\n",
       "\n",
       "    .dataframe tbody tr th {\n",
       "        vertical-align: top;\n",
       "    }\n",
       "\n",
       "    .dataframe thead th {\n",
       "        text-align: right;\n",
       "    }\n",
       "</style>\n",
       "<table border=\"1\" class=\"dataframe\">\n",
       "  <thead>\n",
       "    <tr style=\"text-align: right;\">\n",
       "      <th></th>\n",
       "      <th>Category</th>\n",
       "      <th>Attachment</th>\n",
       "      <th>Accuracy</th>\n",
       "      <th>Damage</th>\n",
       "      <th>Range</th>\n",
       "      <th>Fire Rate</th>\n",
       "      <th>Mobility</th>\n",
       "      <th>Control</th>\n",
       "    </tr>\n",
       "  </thead>\n",
       "  <tbody>\n",
       "    <tr>\n",
       "      <th>0</th>\n",
       "      <td>BASE</td>\n",
       "      <td>STATS</td>\n",
       "      <td>70.07</td>\n",
       "      <td>71.83</td>\n",
       "      <td>65.85</td>\n",
       "      <td>65.14</td>\n",
       "      <td>65.14</td>\n",
       "      <td>71.13</td>\n",
       "    </tr>\n",
       "    <tr>\n",
       "      <th>1</th>\n",
       "      <td>UNDERBARREL</td>\n",
       "      <td>COMMANDO_FOREGRIP</td>\n",
       "      <td>3.87</td>\n",
       "      <td>0.00</td>\n",
       "      <td>2.11</td>\n",
       "      <td>0.00</td>\n",
       "      <td>-2.11</td>\n",
       "      <td>2.82</td>\n",
       "    </tr>\n",
       "    <tr>\n",
       "      <th>2</th>\n",
       "      <td>BARREL</td>\n",
       "      <td>TEMPUS_26.4_ARCHANGEL</td>\n",
       "      <td>3.87</td>\n",
       "      <td>0.00</td>\n",
       "      <td>7.04</td>\n",
       "      <td>0.00</td>\n",
       "      <td>-5.99</td>\n",
       "      <td>4.93</td>\n",
       "    </tr>\n",
       "    <tr>\n",
       "      <th>3</th>\n",
       "      <td>MAG</td>\n",
       "      <td>60_ROUND</td>\n",
       "      <td>0.00</td>\n",
       "      <td>0.00</td>\n",
       "      <td>0.00</td>\n",
       "      <td>0.00</td>\n",
       "      <td>-4.23</td>\n",
       "      <td>-2.46</td>\n",
       "    </tr>\n",
       "    <tr>\n",
       "      <th>4</th>\n",
       "      <td>MUZZLE</td>\n",
       "      <td>LIGHTWEIGHT_SUPPRESSOR</td>\n",
       "      <td>1.06</td>\n",
       "      <td>0.00</td>\n",
       "      <td>-3.87</td>\n",
       "      <td>0.00</td>\n",
       "      <td>-0.70</td>\n",
       "      <td>0.00</td>\n",
       "    </tr>\n",
       "    <tr>\n",
       "      <th>5</th>\n",
       "      <td>GRIP</td>\n",
       "      <td>FTAC_R89_RUBBER</td>\n",
       "      <td>3.87</td>\n",
       "      <td>0.00</td>\n",
       "      <td>0.00</td>\n",
       "      <td>0.00</td>\n",
       "      <td>0.00</td>\n",
       "      <td>-2.11</td>\n",
       "    </tr>\n",
       "    <tr>\n",
       "      <th>6</th>\n",
       "      <td>FINAL</td>\n",
       "      <td>STATS</td>\n",
       "      <td>82.74</td>\n",
       "      <td>71.83</td>\n",
       "      <td>71.13</td>\n",
       "      <td>65.14</td>\n",
       "      <td>52.11</td>\n",
       "      <td>74.31</td>\n",
       "    </tr>\n",
       "  </tbody>\n",
       "</table>\n",
       "</div>"
      ],
      "text/plain": [
       "      Category              Attachment  Accuracy  Damage  Range  Fire Rate  \\\n",
       "0         BASE                   STATS     70.07   71.83  65.85      65.14   \n",
       "1  UNDERBARREL       COMMANDO_FOREGRIP      3.87    0.00   2.11       0.00   \n",
       "2       BARREL   TEMPUS_26.4_ARCHANGEL      3.87    0.00   7.04       0.00   \n",
       "3          MAG                60_ROUND      0.00    0.00   0.00       0.00   \n",
       "4       MUZZLE  LIGHTWEIGHT_SUPPRESSOR      1.06    0.00  -3.87       0.00   \n",
       "5         GRIP         FTAC_R89_RUBBER      3.87    0.00   0.00       0.00   \n",
       "6        FINAL                   STATS     82.74   71.83  71.13      65.14   \n",
       "\n",
       "   Mobility  Control  \n",
       "0     65.14    71.13  \n",
       "1     -2.11     2.82  \n",
       "2     -5.99     4.93  \n",
       "3     -4.23    -2.46  \n",
       "4     -0.70     0.00  \n",
       "5      0.00    -2.11  \n",
       "6     52.11    74.31  "
      ]
     },
     "execution_count": 36,
     "metadata": {},
     "output_type": "execute_result"
    }
   ],
   "source": [
    "test"
   ]
  },
  {
   "cell_type": "code",
   "execution_count": null,
   "metadata": {},
   "outputs": [],
   "source": []
  },
  {
   "cell_type": "code",
   "execution_count": 6,
   "metadata": {
    "scrolled": true
   },
   "outputs": [
    {
     "data": {
      "text/html": [
       "<div>\n",
       "<style scoped>\n",
       "    .dataframe tbody tr th:only-of-type {\n",
       "        vertical-align: middle;\n",
       "    }\n",
       "\n",
       "    .dataframe tbody tr th {\n",
       "        vertical-align: top;\n",
       "    }\n",
       "\n",
       "    .dataframe thead th {\n",
       "        text-align: right;\n",
       "    }\n",
       "</style>\n",
       "<table border=\"1\" class=\"dataframe\">\n",
       "  <thead>\n",
       "    <tr style=\"text-align: right;\">\n",
       "      <th></th>\n",
       "      <th>Weapon</th>\n",
       "      <th>Category</th>\n",
       "      <th>Attachment</th>\n",
       "      <th>Accuracy</th>\n",
       "      <th>Damage</th>\n",
       "      <th>Range</th>\n",
       "      <th>Fire Rate</th>\n",
       "      <th>Mobility</th>\n",
       "      <th>Control</th>\n",
       "    </tr>\n",
       "  </thead>\n",
       "  <tbody>\n",
       "    <tr>\n",
       "      <th>165</th>\n",
       "      <td>GRAU</td>\n",
       "      <td>MUZZLE</td>\n",
       "      <td>TACTICAL_SUPPRESSOR</td>\n",
       "      <td>0.00</td>\n",
       "      <td>0.00</td>\n",
       "      <td>0.00</td>\n",
       "      <td>0.00</td>\n",
       "      <td>-2.11</td>\n",
       "      <td>-2.11</td>\n",
       "    </tr>\n",
       "    <tr>\n",
       "      <th>166</th>\n",
       "      <td>GRAU</td>\n",
       "      <td>LASER</td>\n",
       "      <td>5MW_LASER</td>\n",
       "      <td>3.87</td>\n",
       "      <td>0.00</td>\n",
       "      <td>0.00</td>\n",
       "      <td>0.00</td>\n",
       "      <td>1.76</td>\n",
       "      <td>-1.06</td>\n",
       "    </tr>\n",
       "    <tr>\n",
       "      <th>167</th>\n",
       "      <td>GRAU</td>\n",
       "      <td>MUZZLE</td>\n",
       "      <td>LIGHTWEIGHT_SUPPRESSOR</td>\n",
       "      <td>1.06</td>\n",
       "      <td>0.00</td>\n",
       "      <td>-3.87</td>\n",
       "      <td>0.00</td>\n",
       "      <td>-0.70</td>\n",
       "      <td>0.00</td>\n",
       "    </tr>\n",
       "    <tr>\n",
       "      <th>168</th>\n",
       "      <td>GRAU</td>\n",
       "      <td>MAG</td>\n",
       "      <td>60_ROUND</td>\n",
       "      <td>0.00</td>\n",
       "      <td>0.00</td>\n",
       "      <td>0.00</td>\n",
       "      <td>0.00</td>\n",
       "      <td>-4.23</td>\n",
       "      <td>-2.46</td>\n",
       "    </tr>\n",
       "    <tr>\n",
       "      <th>169</th>\n",
       "      <td>GRAU</td>\n",
       "      <td>GRIP</td>\n",
       "      <td>FTAC_R89_RUBBER</td>\n",
       "      <td>3.87</td>\n",
       "      <td>0.00</td>\n",
       "      <td>0.00</td>\n",
       "      <td>0.00</td>\n",
       "      <td>0.00</td>\n",
       "      <td>-2.11</td>\n",
       "    </tr>\n",
       "    <tr>\n",
       "      <th>170</th>\n",
       "      <td>GRAU</td>\n",
       "      <td>MUZZLE</td>\n",
       "      <td>COMPENSATOR</td>\n",
       "      <td>1.76</td>\n",
       "      <td>0.00</td>\n",
       "      <td>0.00</td>\n",
       "      <td>0.00</td>\n",
       "      <td>-1.06</td>\n",
       "      <td>2.82</td>\n",
       "    </tr>\n",
       "    <tr>\n",
       "      <th>171</th>\n",
       "      <td>GRAU</td>\n",
       "      <td>MUZZLE</td>\n",
       "      <td>BREACHER_DEVICE</td>\n",
       "      <td>1.41</td>\n",
       "      <td>0.00</td>\n",
       "      <td>0.00</td>\n",
       "      <td>0.00</td>\n",
       "      <td>-1.76</td>\n",
       "      <td>-0.70</td>\n",
       "    </tr>\n",
       "    <tr>\n",
       "      <th>172</th>\n",
       "      <td>GRAU</td>\n",
       "      <td>STOCK</td>\n",
       "      <td>FSS_BLACKJACK</td>\n",
       "      <td>1.76</td>\n",
       "      <td>0.00</td>\n",
       "      <td>0.00</td>\n",
       "      <td>0.00</td>\n",
       "      <td>-2.11</td>\n",
       "      <td>2.82</td>\n",
       "    </tr>\n",
       "    <tr>\n",
       "      <th>173</th>\n",
       "      <td>GRAU</td>\n",
       "      <td>BASE</td>\n",
       "      <td>NaN</td>\n",
       "      <td>70.07</td>\n",
       "      <td>71.83</td>\n",
       "      <td>65.85</td>\n",
       "      <td>65.14</td>\n",
       "      <td>65.14</td>\n",
       "      <td>71.13</td>\n",
       "    </tr>\n",
       "    <tr>\n",
       "      <th>174</th>\n",
       "      <td>GRAU</td>\n",
       "      <td>MUZZLE</td>\n",
       "      <td>FLASH_GUARD</td>\n",
       "      <td>0.00</td>\n",
       "      <td>0.00</td>\n",
       "      <td>-0.70</td>\n",
       "      <td>0.00</td>\n",
       "      <td>-0.70</td>\n",
       "      <td>0.00</td>\n",
       "    </tr>\n",
       "    <tr>\n",
       "      <th>175</th>\n",
       "      <td>GRAU</td>\n",
       "      <td>MAG</td>\n",
       "      <td>50_ROUND</td>\n",
       "      <td>0.00</td>\n",
       "      <td>0.00</td>\n",
       "      <td>0.00</td>\n",
       "      <td>0.00</td>\n",
       "      <td>-2.11</td>\n",
       "      <td>-2.11</td>\n",
       "    </tr>\n",
       "    <tr>\n",
       "      <th>176</th>\n",
       "      <td>GRAU</td>\n",
       "      <td>BARREL</td>\n",
       "      <td>ZLR_DRIFTER_A08</td>\n",
       "      <td>1.76</td>\n",
       "      <td>0.00</td>\n",
       "      <td>-5.99</td>\n",
       "      <td>0.00</td>\n",
       "      <td>5.99</td>\n",
       "      <td>1.76</td>\n",
       "    </tr>\n",
       "    <tr>\n",
       "      <th>177</th>\n",
       "      <td>GRAU</td>\n",
       "      <td>BARREL</td>\n",
       "      <td>TEMPUS_26.4_ARCHANGEL</td>\n",
       "      <td>3.87</td>\n",
       "      <td>0.00</td>\n",
       "      <td>7.04</td>\n",
       "      <td>0.00</td>\n",
       "      <td>-5.99</td>\n",
       "      <td>4.93</td>\n",
       "    </tr>\n",
       "    <tr>\n",
       "      <th>178</th>\n",
       "      <td>GRAU</td>\n",
       "      <td>BARREL</td>\n",
       "      <td>XRK_CZEN_MK2</td>\n",
       "      <td>1.06</td>\n",
       "      <td>0.00</td>\n",
       "      <td>4.23</td>\n",
       "      <td>0.00</td>\n",
       "      <td>-2.11</td>\n",
       "      <td>0.00</td>\n",
       "    </tr>\n",
       "    <tr>\n",
       "      <th>179</th>\n",
       "      <td>GRAU</td>\n",
       "      <td>UNDERBARREL</td>\n",
       "      <td>MERC_FOREGRIP</td>\n",
       "      <td>4.93</td>\n",
       "      <td>0.00</td>\n",
       "      <td>1.06</td>\n",
       "      <td>0.00</td>\n",
       "      <td>-1.76</td>\n",
       "      <td>1.76</td>\n",
       "    </tr>\n",
       "    <tr>\n",
       "      <th>180</th>\n",
       "      <td>GRAU</td>\n",
       "      <td>MUZZLE</td>\n",
       "      <td>MUZZLE_BRAKE</td>\n",
       "      <td>3.52</td>\n",
       "      <td>0.00</td>\n",
       "      <td>0.00</td>\n",
       "      <td>0.00</td>\n",
       "      <td>-1.06</td>\n",
       "      <td>0.70</td>\n",
       "    </tr>\n",
       "    <tr>\n",
       "      <th>181</th>\n",
       "      <td>GRAU</td>\n",
       "      <td>STOCK</td>\n",
       "      <td>NO_STOCK</td>\n",
       "      <td>-3.17</td>\n",
       "      <td>0.00</td>\n",
       "      <td>-1.76</td>\n",
       "      <td>0.00</td>\n",
       "      <td>8.80</td>\n",
       "      <td>-4.23</td>\n",
       "    </tr>\n",
       "    <tr>\n",
       "      <th>182</th>\n",
       "      <td>GRAU</td>\n",
       "      <td>UNDERBARREL</td>\n",
       "      <td>COMMANDO_FOREGRIP</td>\n",
       "      <td>3.87</td>\n",
       "      <td>0.00</td>\n",
       "      <td>2.11</td>\n",
       "      <td>0.00</td>\n",
       "      <td>-2.11</td>\n",
       "      <td>2.82</td>\n",
       "    </tr>\n",
       "    <tr>\n",
       "      <th>183</th>\n",
       "      <td>GRAU</td>\n",
       "      <td>GRIP</td>\n",
       "      <td>XRK_VOID_II</td>\n",
       "      <td>-1.76</td>\n",
       "      <td>0.00</td>\n",
       "      <td>0.00</td>\n",
       "      <td>0.00</td>\n",
       "      <td>3.87</td>\n",
       "      <td>-2.82</td>\n",
       "    </tr>\n",
       "    <tr>\n",
       "      <th>184</th>\n",
       "      <td>GRAU</td>\n",
       "      <td>UNDERBARREL</td>\n",
       "      <td>CRONEN_SHARK_II</td>\n",
       "      <td>1.41</td>\n",
       "      <td>0.00</td>\n",
       "      <td>1.76</td>\n",
       "      <td>0.00</td>\n",
       "      <td>-1.06</td>\n",
       "      <td>6.34</td>\n",
       "    </tr>\n",
       "    <tr>\n",
       "      <th>185</th>\n",
       "      <td>GRAU</td>\n",
       "      <td>BARREL</td>\n",
       "      <td>FSS_20.8_NEXUS</td>\n",
       "      <td>2.82</td>\n",
       "      <td>0.00</td>\n",
       "      <td>5.28</td>\n",
       "      <td>0.00</td>\n",
       "      <td>-3.17</td>\n",
       "      <td>3.87</td>\n",
       "    </tr>\n",
       "    <tr>\n",
       "      <th>186</th>\n",
       "      <td>GRAU</td>\n",
       "      <td>STOCK</td>\n",
       "      <td>XRK_STRIKELITE_III</td>\n",
       "      <td>-1.06</td>\n",
       "      <td>0.00</td>\n",
       "      <td>0.00</td>\n",
       "      <td>0.00</td>\n",
       "      <td>3.87</td>\n",
       "      <td>-2.46</td>\n",
       "    </tr>\n",
       "    <tr>\n",
       "      <th>187</th>\n",
       "      <td>GRAU</td>\n",
       "      <td>LASER</td>\n",
       "      <td>1MW_LASER</td>\n",
       "      <td>1.76</td>\n",
       "      <td>0.00</td>\n",
       "      <td>0.00</td>\n",
       "      <td>0.00</td>\n",
       "      <td>0.70</td>\n",
       "      <td>-1.06</td>\n",
       "    </tr>\n",
       "    <tr>\n",
       "      <th>188</th>\n",
       "      <td>GRAU</td>\n",
       "      <td>UNDERBARREL</td>\n",
       "      <td>OPERATOR_FOREGRIP</td>\n",
       "      <td>3.87</td>\n",
       "      <td>0.00</td>\n",
       "      <td>1.76</td>\n",
       "      <td>0.00</td>\n",
       "      <td>-1.06</td>\n",
       "      <td>0.70</td>\n",
       "    </tr>\n",
       "    <tr>\n",
       "      <th>189</th>\n",
       "      <td>GRAU</td>\n",
       "      <td>LASER</td>\n",
       "      <td>TAC_LASER</td>\n",
       "      <td>1.76</td>\n",
       "      <td>0.00</td>\n",
       "      <td>0.00</td>\n",
       "      <td>0.00</td>\n",
       "      <td>1.76</td>\n",
       "      <td>2.82</td>\n",
       "    </tr>\n",
       "    <tr>\n",
       "      <th>190</th>\n",
       "      <td>GRAU</td>\n",
       "      <td>MUZZLE</td>\n",
       "      <td>MONOLITHIC_SUPPRESSOR</td>\n",
       "      <td>1.76</td>\n",
       "      <td>0.00</td>\n",
       "      <td>3.17</td>\n",
       "      <td>0.00</td>\n",
       "      <td>-3.17</td>\n",
       "      <td>-1.06</td>\n",
       "    </tr>\n",
       "    <tr>\n",
       "      <th>191</th>\n",
       "      <td>GRAU</td>\n",
       "      <td>GRIP</td>\n",
       "      <td>CRONEN_SNIPER_ELITE</td>\n",
       "      <td>3.52</td>\n",
       "      <td>0.00</td>\n",
       "      <td>0.00</td>\n",
       "      <td>0.00</td>\n",
       "      <td>-2.82</td>\n",
       "      <td>3.52</td>\n",
       "    </tr>\n",
       "    <tr>\n",
       "      <th>192</th>\n",
       "      <td>GRAU</td>\n",
       "      <td>UNDERBARREL</td>\n",
       "      <td>RANGE_FOREGRIP</td>\n",
       "      <td>4.58</td>\n",
       "      <td>0.00</td>\n",
       "      <td>3.17</td>\n",
       "      <td>0.00</td>\n",
       "      <td>-2.82</td>\n",
       "      <td>2.82</td>\n",
       "    </tr>\n",
       "  </tbody>\n",
       "</table>\n",
       "</div>"
      ],
      "text/plain": [
       "    Weapon     Category              Attachment  Accuracy  Damage  Range  \\\n",
       "165   GRAU       MUZZLE     TACTICAL_SUPPRESSOR      0.00    0.00   0.00   \n",
       "166   GRAU        LASER               5MW_LASER      3.87    0.00   0.00   \n",
       "167   GRAU       MUZZLE  LIGHTWEIGHT_SUPPRESSOR      1.06    0.00  -3.87   \n",
       "168   GRAU          MAG                60_ROUND      0.00    0.00   0.00   \n",
       "169   GRAU         GRIP         FTAC_R89_RUBBER      3.87    0.00   0.00   \n",
       "170   GRAU       MUZZLE             COMPENSATOR      1.76    0.00   0.00   \n",
       "171   GRAU       MUZZLE         BREACHER_DEVICE      1.41    0.00   0.00   \n",
       "172   GRAU        STOCK           FSS_BLACKJACK      1.76    0.00   0.00   \n",
       "173   GRAU         BASE                     NaN     70.07   71.83  65.85   \n",
       "174   GRAU       MUZZLE             FLASH_GUARD      0.00    0.00  -0.70   \n",
       "175   GRAU          MAG                50_ROUND      0.00    0.00   0.00   \n",
       "176   GRAU       BARREL         ZLR_DRIFTER_A08      1.76    0.00  -5.99   \n",
       "177   GRAU       BARREL   TEMPUS_26.4_ARCHANGEL      3.87    0.00   7.04   \n",
       "178   GRAU       BARREL            XRK_CZEN_MK2      1.06    0.00   4.23   \n",
       "179   GRAU  UNDERBARREL           MERC_FOREGRIP      4.93    0.00   1.06   \n",
       "180   GRAU       MUZZLE            MUZZLE_BRAKE      3.52    0.00   0.00   \n",
       "181   GRAU        STOCK                NO_STOCK     -3.17    0.00  -1.76   \n",
       "182   GRAU  UNDERBARREL       COMMANDO_FOREGRIP      3.87    0.00   2.11   \n",
       "183   GRAU         GRIP             XRK_VOID_II     -1.76    0.00   0.00   \n",
       "184   GRAU  UNDERBARREL         CRONEN_SHARK_II      1.41    0.00   1.76   \n",
       "185   GRAU       BARREL          FSS_20.8_NEXUS      2.82    0.00   5.28   \n",
       "186   GRAU        STOCK      XRK_STRIKELITE_III     -1.06    0.00   0.00   \n",
       "187   GRAU        LASER               1MW_LASER      1.76    0.00   0.00   \n",
       "188   GRAU  UNDERBARREL       OPERATOR_FOREGRIP      3.87    0.00   1.76   \n",
       "189   GRAU        LASER               TAC_LASER      1.76    0.00   0.00   \n",
       "190   GRAU       MUZZLE   MONOLITHIC_SUPPRESSOR      1.76    0.00   3.17   \n",
       "191   GRAU         GRIP     CRONEN_SNIPER_ELITE      3.52    0.00   0.00   \n",
       "192   GRAU  UNDERBARREL          RANGE_FOREGRIP      4.58    0.00   3.17   \n",
       "\n",
       "     Fire Rate  Mobility  Control  \n",
       "165       0.00     -2.11    -2.11  \n",
       "166       0.00      1.76    -1.06  \n",
       "167       0.00     -0.70     0.00  \n",
       "168       0.00     -4.23    -2.46  \n",
       "169       0.00      0.00    -2.11  \n",
       "170       0.00     -1.06     2.82  \n",
       "171       0.00     -1.76    -0.70  \n",
       "172       0.00     -2.11     2.82  \n",
       "173      65.14     65.14    71.13  \n",
       "174       0.00     -0.70     0.00  \n",
       "175       0.00     -2.11    -2.11  \n",
       "176       0.00      5.99     1.76  \n",
       "177       0.00     -5.99     4.93  \n",
       "178       0.00     -2.11     0.00  \n",
       "179       0.00     -1.76     1.76  \n",
       "180       0.00     -1.06     0.70  \n",
       "181       0.00      8.80    -4.23  \n",
       "182       0.00     -2.11     2.82  \n",
       "183       0.00      3.87    -2.82  \n",
       "184       0.00     -1.06     6.34  \n",
       "185       0.00     -3.17     3.87  \n",
       "186       0.00      3.87    -2.46  \n",
       "187       0.00      0.70    -1.06  \n",
       "188       0.00     -1.06     0.70  \n",
       "189       0.00      1.76     2.82  \n",
       "190       0.00     -3.17    -1.06  \n",
       "191       0.00     -2.82     3.52  \n",
       "192       0.00     -2.82     2.82  "
      ]
     },
     "execution_count": 6,
     "metadata": {},
     "output_type": "execute_result"
    }
   ],
   "source": [
    "df[df.Weapon == \"GRAU\"]"
   ]
  },
  {
   "cell_type": "code",
   "execution_count": 101,
   "metadata": {},
   "outputs": [
    {
     "data": {
      "text/plain": [
       "[73.94, 72.89, 65.84, 65.85, 59.160000000000004, 79.23]"
      ]
     },
     "execution_count": 101,
     "metadata": {},
     "output_type": "execute_result"
    }
   ],
   "source": [
    "aggregate(df, \"KILO\", ['COMMANDO_FOREGRIP','BIPOD',''])"
   ]
  },
  {
   "cell_type": "code",
   "execution_count": 102,
   "metadata": {},
   "outputs": [],
   "source": [
    "m4base = df[df.Category == \"BASE\"].iloc[0,3:].tolist()\n",
    "upgrade2= [81.13, 69, 73.03, 50, 73.03, 81.83]"
   ]
  },
  {
   "cell_type": "code",
   "execution_count": 103,
   "metadata": {},
   "outputs": [],
   "source": [
    "import plotly.graph_objects as go\n",
    "import plotly.express as px\n",
    "\n",
    "from plotly.subplots import make_subplots\n",
    "\n",
    "upgrade = [0,0,0,0,0,0]\n",
    "\n",
    "categories = ['Accuracy','Damage','Range','Fire Rate','Mobility','Control']\n",
    "\n",
    "def make_graph(original = m4base, updated = upgrade, gun = \"M4A1\", gamertag = \"Gamertag\",values = values):\n",
    "\n",
    "    fig = make_subplots(\n",
    "        rows = 1, \n",
    "        cols = 2,\n",
    "        shared_xaxes = True,\n",
    "        vertical_spacing = 0.03,\n",
    "        specs = [[{\"type\": \"scatterpolar\"},{\"type\": \"table\"}],]\n",
    "    )\n",
    "    \n",
    "    fig.add_trace(\n",
    "            go.Scatterpolar(\n",
    "                mode = \"lines\",\n",
    "                fillcolor = 'green',\n",
    "                line = dict(color='green',width=3),\n",
    "                opacity = 0.5,\n",
    "                r = updated,\n",
    "                theta = categories,\n",
    "                fill = \"toself\",\n",
    "                showlegend=False,\n",
    "            ),\n",
    "            row=1, col=1\n",
    "    )\n",
    "        \n",
    "    fig.add_trace(\n",
    "            go.Scatterpolar(\n",
    "                mode = \"lines\",\n",
    "                fillcolor = 'gray',\n",
    "                line = dict(color='gray',width=3),\n",
    "                opacity = 0.5,\n",
    "                r = original,\n",
    "                theta = categories,\n",
    "                fill = \"toself\",\n",
    "                showlegend=False),\n",
    "            row=1, col=1\n",
    "    )\n",
    "    \n",
    "    fig.add_trace(\n",
    "        go.Table(        \n",
    "            columnwidth = [225,400],\n",
    "            header = dict(\n",
    "                values = [\"CATEGORY\",\"ATTACHMENT\"],\n",
    "                font = dict(size = 20,\n",
    "                color = \"black\"),\n",
    "                height = 36,\n",
    "                align=\"left\"\n",
    "            ),\n",
    "            cells=dict(\n",
    "                values = values,\n",
    "                height = 36,\n",
    "                align = \"left\",\n",
    "                font = dict(size = 16,\n",
    "                color = \"black\"),\n",
    "            )\n",
    "        ),\n",
    "        row=1, col=2\n",
    "    )\n",
    "    \n",
    "    fig.update_layout(\n",
    "        title={\n",
    "            'text': \"{}'s CUSTOM <br> {} BUILD\".format(gamertag, gun),\n",
    "            'y':0.93,\n",
    "            'x':0.5,\n",
    "            'xanchor': 'center',\n",
    "            'yanchor': 'top',\n",
    "            'font' : dict(\n",
    "                family=\"Courier New, monospace\",\n",
    "                size=32,\n",
    "                color=\"green\"\n",
    "                ),\n",
    "            },\n",
    "        template = \"plotly_dark\",\n",
    "        transition =  {\n",
    "                'duration': 1000,\n",
    "                'easing': 'cubic-in-out'},\n",
    "        font = dict(\n",
    "            family = \"Helvetica\",\n",
    "            size = 18,\n",
    "            color = \"gray\"\n",
    "            ),\n",
    "        margin = {'t':130},\n",
    "        polar = dict(\n",
    "            radialaxis = dict(showticklabels = True, \n",
    "                            color = 'gray',\n",
    "                            tickangle = 0,\n",
    "                            tickfont = dict(size = 12),\n",
    "                            range = [0,100],)\n",
    "            )\n",
    "        )\n",
    "\n",
    "\n",
    "    return fig"
   ]
  },
  {
   "cell_type": "code",
   "execution_count": 106,
   "metadata": {
    "scrolled": true
   },
   "outputs": [
    {
     "data": {
      "application/vnd.plotly.v1+json": {
       "config": {
        "plotlyServerURL": "https://plot.ly"
       },
       "data": [
        {
         "fill": "toself",
         "fillcolor": "green",
         "line": {
          "color": "green",
          "width": 3
         },
         "mode": "lines",
         "opacity": 0.5,
         "r": [
          81.13,
          69,
          73.03,
          50,
          73.03,
          81.83
         ],
         "showlegend": false,
         "subplot": "polar",
         "theta": [
          "Accuracy",
          "Damage",
          "Range",
          "Fire Rate",
          "Mobility",
          "Control"
         ],
         "type": "scatterpolar"
        },
        {
         "fill": "toself",
         "fillcolor": "gray",
         "line": {
          "color": "gray",
          "width": 3
         },
         "mode": "lines",
         "opacity": 0.5,
         "r": [
          70.07,
          72.89,
          64.08,
          65.85,
          60.92,
          72.89
         ],
         "showlegend": false,
         "subplot": "polar",
         "theta": [
          "Accuracy",
          "Damage",
          "Range",
          "Fire Rate",
          "Mobility",
          "Control"
         ],
         "type": "scatterpolar"
        },
        {
         "cells": {
          "align": "left",
          "font": {
           "color": "black",
           "size": 16
          },
          "height": 36,
          "values": [
           [
            "MUZZLE",
            "BARREL",
            "UNDERBARREL",
            "GRIP",
            "STOCK"
           ],
           [
            "A",
            "B",
            "C",
            "D",
            "E"
           ]
          ]
         },
         "columnwidth": [
          225,
          400
         ],
         "domain": {
          "x": [
           0.55,
           1
          ],
          "y": [
           0,
           1
          ]
         },
         "header": {
          "align": "left",
          "font": {
           "color": "black",
           "size": 20
          },
          "height": 36,
          "values": [
           "CATEGORY",
           "ATTACHMENT"
          ]
         },
         "type": "table"
        }
       ],
       "layout": {
        "font": {
         "color": "gray",
         "family": "Helvetica",
         "size": 18
        },
        "margin": {
         "t": 130
        },
        "polar": {
         "domain": {
          "x": [
           0,
           0.45
          ],
          "y": [
           0,
           1
          ]
         },
         "radialaxis": {
          "color": "gray",
          "range": [
           0,
           100
          ],
          "showticklabels": true,
          "tickangle": 0,
          "tickfont": {
           "size": 12
          }
         }
        },
        "template": {
         "data": {
          "bar": [
           {
            "error_x": {
             "color": "#f2f5fa"
            },
            "error_y": {
             "color": "#f2f5fa"
            },
            "marker": {
             "line": {
              "color": "rgb(17,17,17)",
              "width": 0.5
             }
            },
            "type": "bar"
           }
          ],
          "barpolar": [
           {
            "marker": {
             "line": {
              "color": "rgb(17,17,17)",
              "width": 0.5
             }
            },
            "type": "barpolar"
           }
          ],
          "carpet": [
           {
            "aaxis": {
             "endlinecolor": "#A2B1C6",
             "gridcolor": "#506784",
             "linecolor": "#506784",
             "minorgridcolor": "#506784",
             "startlinecolor": "#A2B1C6"
            },
            "baxis": {
             "endlinecolor": "#A2B1C6",
             "gridcolor": "#506784",
             "linecolor": "#506784",
             "minorgridcolor": "#506784",
             "startlinecolor": "#A2B1C6"
            },
            "type": "carpet"
           }
          ],
          "choropleth": [
           {
            "colorbar": {
             "outlinewidth": 0,
             "ticks": ""
            },
            "type": "choropleth"
           }
          ],
          "contour": [
           {
            "colorbar": {
             "outlinewidth": 0,
             "ticks": ""
            },
            "colorscale": [
             [
              0,
              "#0d0887"
             ],
             [
              0.1111111111111111,
              "#46039f"
             ],
             [
              0.2222222222222222,
              "#7201a8"
             ],
             [
              0.3333333333333333,
              "#9c179e"
             ],
             [
              0.4444444444444444,
              "#bd3786"
             ],
             [
              0.5555555555555556,
              "#d8576b"
             ],
             [
              0.6666666666666666,
              "#ed7953"
             ],
             [
              0.7777777777777778,
              "#fb9f3a"
             ],
             [
              0.8888888888888888,
              "#fdca26"
             ],
             [
              1,
              "#f0f921"
             ]
            ],
            "type": "contour"
           }
          ],
          "contourcarpet": [
           {
            "colorbar": {
             "outlinewidth": 0,
             "ticks": ""
            },
            "type": "contourcarpet"
           }
          ],
          "heatmap": [
           {
            "colorbar": {
             "outlinewidth": 0,
             "ticks": ""
            },
            "colorscale": [
             [
              0,
              "#0d0887"
             ],
             [
              0.1111111111111111,
              "#46039f"
             ],
             [
              0.2222222222222222,
              "#7201a8"
             ],
             [
              0.3333333333333333,
              "#9c179e"
             ],
             [
              0.4444444444444444,
              "#bd3786"
             ],
             [
              0.5555555555555556,
              "#d8576b"
             ],
             [
              0.6666666666666666,
              "#ed7953"
             ],
             [
              0.7777777777777778,
              "#fb9f3a"
             ],
             [
              0.8888888888888888,
              "#fdca26"
             ],
             [
              1,
              "#f0f921"
             ]
            ],
            "type": "heatmap"
           }
          ],
          "heatmapgl": [
           {
            "colorbar": {
             "outlinewidth": 0,
             "ticks": ""
            },
            "colorscale": [
             [
              0,
              "#0d0887"
             ],
             [
              0.1111111111111111,
              "#46039f"
             ],
             [
              0.2222222222222222,
              "#7201a8"
             ],
             [
              0.3333333333333333,
              "#9c179e"
             ],
             [
              0.4444444444444444,
              "#bd3786"
             ],
             [
              0.5555555555555556,
              "#d8576b"
             ],
             [
              0.6666666666666666,
              "#ed7953"
             ],
             [
              0.7777777777777778,
              "#fb9f3a"
             ],
             [
              0.8888888888888888,
              "#fdca26"
             ],
             [
              1,
              "#f0f921"
             ]
            ],
            "type": "heatmapgl"
           }
          ],
          "histogram": [
           {
            "marker": {
             "colorbar": {
              "outlinewidth": 0,
              "ticks": ""
             }
            },
            "type": "histogram"
           }
          ],
          "histogram2d": [
           {
            "colorbar": {
             "outlinewidth": 0,
             "ticks": ""
            },
            "colorscale": [
             [
              0,
              "#0d0887"
             ],
             [
              0.1111111111111111,
              "#46039f"
             ],
             [
              0.2222222222222222,
              "#7201a8"
             ],
             [
              0.3333333333333333,
              "#9c179e"
             ],
             [
              0.4444444444444444,
              "#bd3786"
             ],
             [
              0.5555555555555556,
              "#d8576b"
             ],
             [
              0.6666666666666666,
              "#ed7953"
             ],
             [
              0.7777777777777778,
              "#fb9f3a"
             ],
             [
              0.8888888888888888,
              "#fdca26"
             ],
             [
              1,
              "#f0f921"
             ]
            ],
            "type": "histogram2d"
           }
          ],
          "histogram2dcontour": [
           {
            "colorbar": {
             "outlinewidth": 0,
             "ticks": ""
            },
            "colorscale": [
             [
              0,
              "#0d0887"
             ],
             [
              0.1111111111111111,
              "#46039f"
             ],
             [
              0.2222222222222222,
              "#7201a8"
             ],
             [
              0.3333333333333333,
              "#9c179e"
             ],
             [
              0.4444444444444444,
              "#bd3786"
             ],
             [
              0.5555555555555556,
              "#d8576b"
             ],
             [
              0.6666666666666666,
              "#ed7953"
             ],
             [
              0.7777777777777778,
              "#fb9f3a"
             ],
             [
              0.8888888888888888,
              "#fdca26"
             ],
             [
              1,
              "#f0f921"
             ]
            ],
            "type": "histogram2dcontour"
           }
          ],
          "mesh3d": [
           {
            "colorbar": {
             "outlinewidth": 0,
             "ticks": ""
            },
            "type": "mesh3d"
           }
          ],
          "parcoords": [
           {
            "line": {
             "colorbar": {
              "outlinewidth": 0,
              "ticks": ""
             }
            },
            "type": "parcoords"
           }
          ],
          "pie": [
           {
            "automargin": true,
            "type": "pie"
           }
          ],
          "scatter": [
           {
            "marker": {
             "line": {
              "color": "#283442"
             }
            },
            "type": "scatter"
           }
          ],
          "scatter3d": [
           {
            "line": {
             "colorbar": {
              "outlinewidth": 0,
              "ticks": ""
             }
            },
            "marker": {
             "colorbar": {
              "outlinewidth": 0,
              "ticks": ""
             }
            },
            "type": "scatter3d"
           }
          ],
          "scattercarpet": [
           {
            "marker": {
             "colorbar": {
              "outlinewidth": 0,
              "ticks": ""
             }
            },
            "type": "scattercarpet"
           }
          ],
          "scattergeo": [
           {
            "marker": {
             "colorbar": {
              "outlinewidth": 0,
              "ticks": ""
             }
            },
            "type": "scattergeo"
           }
          ],
          "scattergl": [
           {
            "marker": {
             "line": {
              "color": "#283442"
             }
            },
            "type": "scattergl"
           }
          ],
          "scattermapbox": [
           {
            "marker": {
             "colorbar": {
              "outlinewidth": 0,
              "ticks": ""
             }
            },
            "type": "scattermapbox"
           }
          ],
          "scatterpolar": [
           {
            "marker": {
             "colorbar": {
              "outlinewidth": 0,
              "ticks": ""
             }
            },
            "type": "scatterpolar"
           }
          ],
          "scatterpolargl": [
           {
            "marker": {
             "colorbar": {
              "outlinewidth": 0,
              "ticks": ""
             }
            },
            "type": "scatterpolargl"
           }
          ],
          "scatterternary": [
           {
            "marker": {
             "colorbar": {
              "outlinewidth": 0,
              "ticks": ""
             }
            },
            "type": "scatterternary"
           }
          ],
          "surface": [
           {
            "colorbar": {
             "outlinewidth": 0,
             "ticks": ""
            },
            "colorscale": [
             [
              0,
              "#0d0887"
             ],
             [
              0.1111111111111111,
              "#46039f"
             ],
             [
              0.2222222222222222,
              "#7201a8"
             ],
             [
              0.3333333333333333,
              "#9c179e"
             ],
             [
              0.4444444444444444,
              "#bd3786"
             ],
             [
              0.5555555555555556,
              "#d8576b"
             ],
             [
              0.6666666666666666,
              "#ed7953"
             ],
             [
              0.7777777777777778,
              "#fb9f3a"
             ],
             [
              0.8888888888888888,
              "#fdca26"
             ],
             [
              1,
              "#f0f921"
             ]
            ],
            "type": "surface"
           }
          ],
          "table": [
           {
            "cells": {
             "fill": {
              "color": "#506784"
             },
             "line": {
              "color": "rgb(17,17,17)"
             }
            },
            "header": {
             "fill": {
              "color": "#2a3f5f"
             },
             "line": {
              "color": "rgb(17,17,17)"
             }
            },
            "type": "table"
           }
          ]
         },
         "layout": {
          "annotationdefaults": {
           "arrowcolor": "#f2f5fa",
           "arrowhead": 0,
           "arrowwidth": 1
          },
          "coloraxis": {
           "colorbar": {
            "outlinewidth": 0,
            "ticks": ""
           }
          },
          "colorscale": {
           "diverging": [
            [
             0,
             "#8e0152"
            ],
            [
             0.1,
             "#c51b7d"
            ],
            [
             0.2,
             "#de77ae"
            ],
            [
             0.3,
             "#f1b6da"
            ],
            [
             0.4,
             "#fde0ef"
            ],
            [
             0.5,
             "#f7f7f7"
            ],
            [
             0.6,
             "#e6f5d0"
            ],
            [
             0.7,
             "#b8e186"
            ],
            [
             0.8,
             "#7fbc41"
            ],
            [
             0.9,
             "#4d9221"
            ],
            [
             1,
             "#276419"
            ]
           ],
           "sequential": [
            [
             0,
             "#0d0887"
            ],
            [
             0.1111111111111111,
             "#46039f"
            ],
            [
             0.2222222222222222,
             "#7201a8"
            ],
            [
             0.3333333333333333,
             "#9c179e"
            ],
            [
             0.4444444444444444,
             "#bd3786"
            ],
            [
             0.5555555555555556,
             "#d8576b"
            ],
            [
             0.6666666666666666,
             "#ed7953"
            ],
            [
             0.7777777777777778,
             "#fb9f3a"
            ],
            [
             0.8888888888888888,
             "#fdca26"
            ],
            [
             1,
             "#f0f921"
            ]
           ],
           "sequentialminus": [
            [
             0,
             "#0d0887"
            ],
            [
             0.1111111111111111,
             "#46039f"
            ],
            [
             0.2222222222222222,
             "#7201a8"
            ],
            [
             0.3333333333333333,
             "#9c179e"
            ],
            [
             0.4444444444444444,
             "#bd3786"
            ],
            [
             0.5555555555555556,
             "#d8576b"
            ],
            [
             0.6666666666666666,
             "#ed7953"
            ],
            [
             0.7777777777777778,
             "#fb9f3a"
            ],
            [
             0.8888888888888888,
             "#fdca26"
            ],
            [
             1,
             "#f0f921"
            ]
           ]
          },
          "colorway": [
           "#636efa",
           "#EF553B",
           "#00cc96",
           "#ab63fa",
           "#FFA15A",
           "#19d3f3",
           "#FF6692",
           "#B6E880",
           "#FF97FF",
           "#FECB52"
          ],
          "font": {
           "color": "#f2f5fa"
          },
          "geo": {
           "bgcolor": "rgb(17,17,17)",
           "lakecolor": "rgb(17,17,17)",
           "landcolor": "rgb(17,17,17)",
           "showlakes": true,
           "showland": true,
           "subunitcolor": "#506784"
          },
          "hoverlabel": {
           "align": "left"
          },
          "hovermode": "closest",
          "mapbox": {
           "style": "dark"
          },
          "paper_bgcolor": "rgb(17,17,17)",
          "plot_bgcolor": "rgb(17,17,17)",
          "polar": {
           "angularaxis": {
            "gridcolor": "#506784",
            "linecolor": "#506784",
            "ticks": ""
           },
           "bgcolor": "rgb(17,17,17)",
           "radialaxis": {
            "gridcolor": "#506784",
            "linecolor": "#506784",
            "ticks": ""
           }
          },
          "scene": {
           "xaxis": {
            "backgroundcolor": "rgb(17,17,17)",
            "gridcolor": "#506784",
            "gridwidth": 2,
            "linecolor": "#506784",
            "showbackground": true,
            "ticks": "",
            "zerolinecolor": "#C8D4E3"
           },
           "yaxis": {
            "backgroundcolor": "rgb(17,17,17)",
            "gridcolor": "#506784",
            "gridwidth": 2,
            "linecolor": "#506784",
            "showbackground": true,
            "ticks": "",
            "zerolinecolor": "#C8D4E3"
           },
           "zaxis": {
            "backgroundcolor": "rgb(17,17,17)",
            "gridcolor": "#506784",
            "gridwidth": 2,
            "linecolor": "#506784",
            "showbackground": true,
            "ticks": "",
            "zerolinecolor": "#C8D4E3"
           }
          },
          "shapedefaults": {
           "line": {
            "color": "#f2f5fa"
           }
          },
          "sliderdefaults": {
           "bgcolor": "#C8D4E3",
           "bordercolor": "rgb(17,17,17)",
           "borderwidth": 1,
           "tickwidth": 0
          },
          "ternary": {
           "aaxis": {
            "gridcolor": "#506784",
            "linecolor": "#506784",
            "ticks": ""
           },
           "baxis": {
            "gridcolor": "#506784",
            "linecolor": "#506784",
            "ticks": ""
           },
           "bgcolor": "rgb(17,17,17)",
           "caxis": {
            "gridcolor": "#506784",
            "linecolor": "#506784",
            "ticks": ""
           }
          },
          "title": {
           "x": 0.05
          },
          "updatemenudefaults": {
           "bgcolor": "#506784",
           "borderwidth": 0
          },
          "xaxis": {
           "automargin": true,
           "gridcolor": "#283442",
           "linecolor": "#506784",
           "ticks": "",
           "title": {
            "standoff": 15
           },
           "zerolinecolor": "#283442",
           "zerolinewidth": 2
          },
          "yaxis": {
           "automargin": true,
           "gridcolor": "#283442",
           "linecolor": "#506784",
           "ticks": "",
           "title": {
            "standoff": 15
           },
           "zerolinecolor": "#283442",
           "zerolinewidth": 2
          }
         }
        },
        "title": {
         "font": {
          "color": "green",
          "family": "Courier New, monospace",
          "size": 32
         },
         "text": "gamer's CUSTOM <br> m4 BUILD",
         "x": 0.5,
         "xanchor": "center",
         "y": 0.93,
         "yanchor": "top"
        },
        "transition": {
         "duration": 1000,
         "easing": "cubic-in-out"
        }
       }
      },
      "text/html": [
       "<div>\n",
       "        \n",
       "        \n",
       "            <div id=\"e124a15b-d4f5-443f-aae7-49968bd50f14\" class=\"plotly-graph-div\" style=\"height:525px; width:100%;\"></div>\n",
       "            <script type=\"text/javascript\">\n",
       "                require([\"plotly\"], function(Plotly) {\n",
       "                    window.PLOTLYENV=window.PLOTLYENV || {};\n",
       "                    \n",
       "                if (document.getElementById(\"e124a15b-d4f5-443f-aae7-49968bd50f14\")) {\n",
       "                    Plotly.newPlot(\n",
       "                        'e124a15b-d4f5-443f-aae7-49968bd50f14',\n",
       "                        [{\"fill\": \"toself\", \"fillcolor\": \"green\", \"line\": {\"color\": \"green\", \"width\": 3}, \"mode\": \"lines\", \"opacity\": 0.5, \"r\": [81.13, 69, 73.03, 50, 73.03, 81.83], \"showlegend\": false, \"subplot\": \"polar\", \"theta\": [\"Accuracy\", \"Damage\", \"Range\", \"Fire Rate\", \"Mobility\", \"Control\"], \"type\": \"scatterpolar\"}, {\"fill\": \"toself\", \"fillcolor\": \"gray\", \"line\": {\"color\": \"gray\", \"width\": 3}, \"mode\": \"lines\", \"opacity\": 0.5, \"r\": [70.07, 72.89, 64.08, 65.85, 60.92, 72.89], \"showlegend\": false, \"subplot\": \"polar\", \"theta\": [\"Accuracy\", \"Damage\", \"Range\", \"Fire Rate\", \"Mobility\", \"Control\"], \"type\": \"scatterpolar\"}, {\"cells\": {\"align\": \"left\", \"font\": {\"color\": \"black\", \"size\": 16}, \"height\": 36, \"values\": [[\"MUZZLE\", \"BARREL\", \"UNDERBARREL\", \"GRIP\", \"STOCK\"], [\"A\", \"B\", \"C\", \"D\", \"E\"]]}, \"columnwidth\": [225, 400], \"domain\": {\"x\": [0.55, 1.0], \"y\": [0.0, 1.0]}, \"header\": {\"align\": \"left\", \"font\": {\"color\": \"black\", \"size\": 20}, \"height\": 36, \"values\": [\"CATEGORY\", \"ATTACHMENT\"]}, \"type\": \"table\"}],\n",
       "                        {\"font\": {\"color\": \"gray\", \"family\": \"Helvetica\", \"size\": 18}, \"margin\": {\"t\": 130}, \"polar\": {\"domain\": {\"x\": [0.0, 0.45], \"y\": [0.0, 1.0]}, \"radialaxis\": {\"color\": \"gray\", \"range\": [0, 100], \"showticklabels\": true, \"tickangle\": 0, \"tickfont\": {\"size\": 12}}}, \"template\": {\"data\": {\"bar\": [{\"error_x\": {\"color\": \"#f2f5fa\"}, \"error_y\": {\"color\": \"#f2f5fa\"}, \"marker\": {\"line\": {\"color\": \"rgb(17,17,17)\", \"width\": 0.5}}, \"type\": \"bar\"}], \"barpolar\": [{\"marker\": {\"line\": {\"color\": \"rgb(17,17,17)\", \"width\": 0.5}}, \"type\": \"barpolar\"}], \"carpet\": [{\"aaxis\": {\"endlinecolor\": \"#A2B1C6\", \"gridcolor\": \"#506784\", \"linecolor\": \"#506784\", \"minorgridcolor\": \"#506784\", \"startlinecolor\": \"#A2B1C6\"}, \"baxis\": {\"endlinecolor\": \"#A2B1C6\", \"gridcolor\": \"#506784\", \"linecolor\": \"#506784\", \"minorgridcolor\": \"#506784\", \"startlinecolor\": \"#A2B1C6\"}, \"type\": \"carpet\"}], \"choropleth\": [{\"colorbar\": {\"outlinewidth\": 0, \"ticks\": \"\"}, \"type\": \"choropleth\"}], \"contour\": [{\"colorbar\": {\"outlinewidth\": 0, \"ticks\": \"\"}, \"colorscale\": [[0.0, \"#0d0887\"], [0.1111111111111111, \"#46039f\"], [0.2222222222222222, \"#7201a8\"], [0.3333333333333333, \"#9c179e\"], [0.4444444444444444, \"#bd3786\"], [0.5555555555555556, \"#d8576b\"], [0.6666666666666666, \"#ed7953\"], [0.7777777777777778, \"#fb9f3a\"], [0.8888888888888888, \"#fdca26\"], [1.0, \"#f0f921\"]], \"type\": \"contour\"}], \"contourcarpet\": [{\"colorbar\": {\"outlinewidth\": 0, \"ticks\": \"\"}, \"type\": \"contourcarpet\"}], \"heatmap\": [{\"colorbar\": {\"outlinewidth\": 0, \"ticks\": \"\"}, \"colorscale\": [[0.0, \"#0d0887\"], [0.1111111111111111, \"#46039f\"], [0.2222222222222222, \"#7201a8\"], [0.3333333333333333, \"#9c179e\"], [0.4444444444444444, \"#bd3786\"], [0.5555555555555556, \"#d8576b\"], [0.6666666666666666, \"#ed7953\"], [0.7777777777777778, \"#fb9f3a\"], [0.8888888888888888, \"#fdca26\"], [1.0, \"#f0f921\"]], \"type\": \"heatmap\"}], \"heatmapgl\": [{\"colorbar\": {\"outlinewidth\": 0, \"ticks\": \"\"}, \"colorscale\": [[0.0, \"#0d0887\"], [0.1111111111111111, \"#46039f\"], [0.2222222222222222, \"#7201a8\"], [0.3333333333333333, \"#9c179e\"], [0.4444444444444444, \"#bd3786\"], [0.5555555555555556, \"#d8576b\"], [0.6666666666666666, \"#ed7953\"], [0.7777777777777778, \"#fb9f3a\"], [0.8888888888888888, \"#fdca26\"], [1.0, \"#f0f921\"]], \"type\": \"heatmapgl\"}], \"histogram\": [{\"marker\": {\"colorbar\": {\"outlinewidth\": 0, \"ticks\": \"\"}}, \"type\": \"histogram\"}], \"histogram2d\": [{\"colorbar\": {\"outlinewidth\": 0, \"ticks\": \"\"}, \"colorscale\": [[0.0, \"#0d0887\"], [0.1111111111111111, \"#46039f\"], [0.2222222222222222, \"#7201a8\"], [0.3333333333333333, \"#9c179e\"], [0.4444444444444444, \"#bd3786\"], [0.5555555555555556, \"#d8576b\"], [0.6666666666666666, \"#ed7953\"], [0.7777777777777778, \"#fb9f3a\"], [0.8888888888888888, \"#fdca26\"], [1.0, \"#f0f921\"]], \"type\": \"histogram2d\"}], \"histogram2dcontour\": [{\"colorbar\": {\"outlinewidth\": 0, \"ticks\": \"\"}, \"colorscale\": [[0.0, \"#0d0887\"], [0.1111111111111111, \"#46039f\"], [0.2222222222222222, \"#7201a8\"], [0.3333333333333333, \"#9c179e\"], [0.4444444444444444, \"#bd3786\"], [0.5555555555555556, \"#d8576b\"], [0.6666666666666666, \"#ed7953\"], [0.7777777777777778, \"#fb9f3a\"], [0.8888888888888888, \"#fdca26\"], [1.0, \"#f0f921\"]], \"type\": \"histogram2dcontour\"}], \"mesh3d\": [{\"colorbar\": {\"outlinewidth\": 0, \"ticks\": \"\"}, \"type\": \"mesh3d\"}], \"parcoords\": [{\"line\": {\"colorbar\": {\"outlinewidth\": 0, \"ticks\": \"\"}}, \"type\": \"parcoords\"}], \"pie\": [{\"automargin\": true, \"type\": \"pie\"}], \"scatter\": [{\"marker\": {\"line\": {\"color\": \"#283442\"}}, \"type\": \"scatter\"}], \"scatter3d\": [{\"line\": {\"colorbar\": {\"outlinewidth\": 0, \"ticks\": \"\"}}, \"marker\": {\"colorbar\": {\"outlinewidth\": 0, \"ticks\": \"\"}}, \"type\": \"scatter3d\"}], \"scattercarpet\": [{\"marker\": {\"colorbar\": {\"outlinewidth\": 0, \"ticks\": \"\"}}, \"type\": \"scattercarpet\"}], \"scattergeo\": [{\"marker\": {\"colorbar\": {\"outlinewidth\": 0, \"ticks\": \"\"}}, \"type\": \"scattergeo\"}], \"scattergl\": [{\"marker\": {\"line\": {\"color\": \"#283442\"}}, \"type\": \"scattergl\"}], \"scattermapbox\": [{\"marker\": {\"colorbar\": {\"outlinewidth\": 0, \"ticks\": \"\"}}, \"type\": \"scattermapbox\"}], \"scatterpolar\": [{\"marker\": {\"colorbar\": {\"outlinewidth\": 0, \"ticks\": \"\"}}, \"type\": \"scatterpolar\"}], \"scatterpolargl\": [{\"marker\": {\"colorbar\": {\"outlinewidth\": 0, \"ticks\": \"\"}}, \"type\": \"scatterpolargl\"}], \"scatterternary\": [{\"marker\": {\"colorbar\": {\"outlinewidth\": 0, \"ticks\": \"\"}}, \"type\": \"scatterternary\"}], \"surface\": [{\"colorbar\": {\"outlinewidth\": 0, \"ticks\": \"\"}, \"colorscale\": [[0.0, \"#0d0887\"], [0.1111111111111111, \"#46039f\"], [0.2222222222222222, \"#7201a8\"], [0.3333333333333333, \"#9c179e\"], [0.4444444444444444, \"#bd3786\"], [0.5555555555555556, \"#d8576b\"], [0.6666666666666666, \"#ed7953\"], [0.7777777777777778, \"#fb9f3a\"], [0.8888888888888888, \"#fdca26\"], [1.0, \"#f0f921\"]], \"type\": \"surface\"}], \"table\": [{\"cells\": {\"fill\": {\"color\": \"#506784\"}, \"line\": {\"color\": \"rgb(17,17,17)\"}}, \"header\": {\"fill\": {\"color\": \"#2a3f5f\"}, \"line\": {\"color\": \"rgb(17,17,17)\"}}, \"type\": \"table\"}]}, \"layout\": {\"annotationdefaults\": {\"arrowcolor\": \"#f2f5fa\", \"arrowhead\": 0, \"arrowwidth\": 1}, \"coloraxis\": {\"colorbar\": {\"outlinewidth\": 0, \"ticks\": \"\"}}, \"colorscale\": {\"diverging\": [[0, \"#8e0152\"], [0.1, \"#c51b7d\"], [0.2, \"#de77ae\"], [0.3, \"#f1b6da\"], [0.4, \"#fde0ef\"], [0.5, \"#f7f7f7\"], [0.6, \"#e6f5d0\"], [0.7, \"#b8e186\"], [0.8, \"#7fbc41\"], [0.9, \"#4d9221\"], [1, \"#276419\"]], \"sequential\": [[0.0, \"#0d0887\"], [0.1111111111111111, \"#46039f\"], [0.2222222222222222, \"#7201a8\"], [0.3333333333333333, \"#9c179e\"], [0.4444444444444444, \"#bd3786\"], [0.5555555555555556, \"#d8576b\"], [0.6666666666666666, \"#ed7953\"], [0.7777777777777778, \"#fb9f3a\"], [0.8888888888888888, \"#fdca26\"], [1.0, \"#f0f921\"]], \"sequentialminus\": [[0.0, \"#0d0887\"], [0.1111111111111111, \"#46039f\"], [0.2222222222222222, \"#7201a8\"], [0.3333333333333333, \"#9c179e\"], [0.4444444444444444, \"#bd3786\"], [0.5555555555555556, \"#d8576b\"], [0.6666666666666666, \"#ed7953\"], [0.7777777777777778, \"#fb9f3a\"], [0.8888888888888888, \"#fdca26\"], [1.0, \"#f0f921\"]]}, \"colorway\": [\"#636efa\", \"#EF553B\", \"#00cc96\", \"#ab63fa\", \"#FFA15A\", \"#19d3f3\", \"#FF6692\", \"#B6E880\", \"#FF97FF\", \"#FECB52\"], \"font\": {\"color\": \"#f2f5fa\"}, \"geo\": {\"bgcolor\": \"rgb(17,17,17)\", \"lakecolor\": \"rgb(17,17,17)\", \"landcolor\": \"rgb(17,17,17)\", \"showlakes\": true, \"showland\": true, \"subunitcolor\": \"#506784\"}, \"hoverlabel\": {\"align\": \"left\"}, \"hovermode\": \"closest\", \"mapbox\": {\"style\": \"dark\"}, \"paper_bgcolor\": \"rgb(17,17,17)\", \"plot_bgcolor\": \"rgb(17,17,17)\", \"polar\": {\"angularaxis\": {\"gridcolor\": \"#506784\", \"linecolor\": \"#506784\", \"ticks\": \"\"}, \"bgcolor\": \"rgb(17,17,17)\", \"radialaxis\": {\"gridcolor\": \"#506784\", \"linecolor\": \"#506784\", \"ticks\": \"\"}}, \"scene\": {\"xaxis\": {\"backgroundcolor\": \"rgb(17,17,17)\", \"gridcolor\": \"#506784\", \"gridwidth\": 2, \"linecolor\": \"#506784\", \"showbackground\": true, \"ticks\": \"\", \"zerolinecolor\": \"#C8D4E3\"}, \"yaxis\": {\"backgroundcolor\": \"rgb(17,17,17)\", \"gridcolor\": \"#506784\", \"gridwidth\": 2, \"linecolor\": \"#506784\", \"showbackground\": true, \"ticks\": \"\", \"zerolinecolor\": \"#C8D4E3\"}, \"zaxis\": {\"backgroundcolor\": \"rgb(17,17,17)\", \"gridcolor\": \"#506784\", \"gridwidth\": 2, \"linecolor\": \"#506784\", \"showbackground\": true, \"ticks\": \"\", \"zerolinecolor\": \"#C8D4E3\"}}, \"shapedefaults\": {\"line\": {\"color\": \"#f2f5fa\"}}, \"sliderdefaults\": {\"bgcolor\": \"#C8D4E3\", \"bordercolor\": \"rgb(17,17,17)\", \"borderwidth\": 1, \"tickwidth\": 0}, \"ternary\": {\"aaxis\": {\"gridcolor\": \"#506784\", \"linecolor\": \"#506784\", \"ticks\": \"\"}, \"baxis\": {\"gridcolor\": \"#506784\", \"linecolor\": \"#506784\", \"ticks\": \"\"}, \"bgcolor\": \"rgb(17,17,17)\", \"caxis\": {\"gridcolor\": \"#506784\", \"linecolor\": \"#506784\", \"ticks\": \"\"}}, \"title\": {\"x\": 0.05}, \"updatemenudefaults\": {\"bgcolor\": \"#506784\", \"borderwidth\": 0}, \"xaxis\": {\"automargin\": true, \"gridcolor\": \"#283442\", \"linecolor\": \"#506784\", \"ticks\": \"\", \"title\": {\"standoff\": 15}, \"zerolinecolor\": \"#283442\", \"zerolinewidth\": 2}, \"yaxis\": {\"automargin\": true, \"gridcolor\": \"#283442\", \"linecolor\": \"#506784\", \"ticks\": \"\", \"title\": {\"standoff\": 15}, \"zerolinecolor\": \"#283442\", \"zerolinewidth\": 2}}}, \"title\": {\"font\": {\"color\": \"green\", \"family\": \"Courier New, monospace\", \"size\": 32}, \"text\": \"gamer's CUSTOM <br> m4 BUILD\", \"x\": 0.5, \"xanchor\": \"center\", \"y\": 0.93, \"yanchor\": \"top\"}, \"transition\": {\"duration\": 1000, \"easing\": \"cubic-in-out\"}},\n",
       "                        {\"responsive\": true}\n",
       "                    ).then(function(){\n",
       "                            \n",
       "var gd = document.getElementById('e124a15b-d4f5-443f-aae7-49968bd50f14');\n",
       "var x = new MutationObserver(function (mutations, observer) {{\n",
       "        var display = window.getComputedStyle(gd).display;\n",
       "        if (!display || display === 'none') {{\n",
       "            console.log([gd, 'removed!']);\n",
       "            Plotly.purge(gd);\n",
       "            observer.disconnect();\n",
       "        }}\n",
       "}});\n",
       "\n",
       "// Listen for the removal of the full notebook cells\n",
       "var notebookContainer = gd.closest('#notebook-container');\n",
       "if (notebookContainer) {{\n",
       "    x.observe(notebookContainer, {childList: true});\n",
       "}}\n",
       "\n",
       "// Listen for the clearing of the current output cell\n",
       "var outputEl = gd.closest('.output');\n",
       "if (outputEl) {{\n",
       "    x.observe(outputEl, {childList: true});\n",
       "}}\n",
       "\n",
       "                        })\n",
       "                };\n",
       "                });\n",
       "            </script>\n",
       "        </div>"
      ]
     },
     "metadata": {},
     "output_type": "display_data"
    }
   ],
   "source": [
    "make_graph(m4base, upgrade2,\"m4\",\"gamer\",vals)"
   ]
  },
  {
   "cell_type": "code",
   "execution_count": 105,
   "metadata": {},
   "outputs": [],
   "source": [
    "vals = [['MUZZLE','BARREL','UNDERBARREL','GRIP','STOCK'],\n",
    "         ['A','B','C','D','E']]"
   ]
  },
  {
   "cell_type": "code",
   "execution_count": null,
   "metadata": {},
   "outputs": [],
   "source": []
  },
  {
   "cell_type": "code",
   "execution_count": 87,
   "metadata": {},
   "outputs": [],
   "source": [
    "l = ['white']"
   ]
  },
  {
   "cell_type": "code",
   "execution_count": 88,
   "metadata": {},
   "outputs": [
    {
     "data": {
      "text/plain": [
       "['white', 'white', 'white', 'white']"
      ]
     },
     "execution_count": 88,
     "metadata": {},
     "output_type": "execute_result"
    }
   ],
   "source": [
    "l*4"
   ]
  },
  {
   "cell_type": "code",
   "execution_count": null,
   "metadata": {},
   "outputs": [],
   "source": []
  }
 ],
 "metadata": {
  "kernelspec": {
   "display_name": "Python 3",
   "language": "python",
   "name": "python3"
  },
  "language_info": {
   "codemirror_mode": {
    "name": "ipython",
    "version": 3
   },
   "file_extension": ".py",
   "mimetype": "text/x-python",
   "name": "python",
   "nbconvert_exporter": "python",
   "pygments_lexer": "ipython3",
   "version": "3.7.3"
  }
 },
 "nbformat": 4,
 "nbformat_minor": 2
}
