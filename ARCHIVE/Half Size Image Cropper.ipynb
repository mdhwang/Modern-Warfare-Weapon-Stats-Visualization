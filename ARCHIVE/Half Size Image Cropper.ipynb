{
 "cells": [
  {
   "cell_type": "code",
   "execution_count": 1,
   "metadata": {},
   "outputs": [],
   "source": [
    "import cv2\n",
    "\n",
    "from os import listdir\n",
    "\n",
    "from image_helpers import *\n"
   ]
  },
  {
   "cell_type": "code",
   "execution_count": 2,
   "metadata": {},
   "outputs": [],
   "source": [
    "classes = listdir('data/Guns/')\n",
    "if '.DS_Store' in classes:\n",
    "    classes.remove(\".DS_Store\")\n",
    "for wep_class in classes:\n",
    "    guns = listdir('data/Guns/{}'.format(wep_class))\n",
    "    if '.DS_Store' in guns:\n",
    "        guns.remove(\".DS_Store\")\n",
    "    for gun in guns:\n",
    "        categories = listdir('data/Guns/{}/{}'.format(wep_class, gun))\n",
    "        if '.DS_Store' in categories:\n",
    "            categories.remove(\".DS_Store\")\n",
    "        for category in categories:\n",
    "            attachments = listdir('data/Guns/{}/{}/{}'.format(wep_class, gun, category))\n",
    "            if '.DS_Store' in attachments:\n",
    "                attachments.remove('.DS_Store')\n",
    "            for attachment in attachments:\n",
    "                path = 'data/Guns/{}/{}/{}/{}'.format(wep_class, gun, category, attachment)\n",
    "                img = cv2.imread(path, 0)\n",
    "                cropped = halfsize(img)\n",
    "                cv2.imwrite(path,cropped)"
   ]
  },
  {
   "cell_type": "code",
   "execution_count": null,
   "metadata": {},
   "outputs": [],
   "source": []
  }
 ],
 "metadata": {
  "kernelspec": {
   "display_name": "Python 3",
   "language": "python",
   "name": "python3"
  },
  "language_info": {
   "codemirror_mode": {
    "name": "ipython",
    "version": 3
   },
   "file_extension": ".py",
   "mimetype": "text/x-python",
   "name": "python",
   "nbconvert_exporter": "python",
   "pygments_lexer": "ipython3",
   "version": "3.7.3"
  }
 },
 "nbformat": 4,
 "nbformat_minor": 2
}
