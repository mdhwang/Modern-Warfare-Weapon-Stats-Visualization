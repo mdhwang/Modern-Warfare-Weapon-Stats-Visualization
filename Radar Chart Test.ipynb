{
 "cells": [
  {
   "cell_type": "code",
   "execution_count": 41,
   "metadata": {},
   "outputs": [],
   "source": [
    "import plotly.express as px\n",
    "import pandas as pd\n",
    "import json\n",
    "import warnings\n",
    "warnings.filterwarnings('ignore')"
   ]
  },
  {
   "cell_type": "code",
   "execution_count": 42,
   "metadata": {},
   "outputs": [],
   "source": [
    "with open(\"attachment_data.json\", \"r\") as file:\n",
    "    attachment_data = json.load(file)"
   ]
  },
  {
   "cell_type": "code",
   "execution_count": 43,
   "metadata": {},
   "outputs": [],
   "source": [
    "df = pd.DataFrame(attachment_data['M4A1'])"
   ]
  },
  {
   "cell_type": "code",
   "execution_count": 44,
   "metadata": {},
   "outputs": [
    {
     "data": {
      "text/plain": [
       "Index(['MUZZLE', 'BARREL', 'UNDERBARREL', 'GRIP', 'STOCK', 'LASER', 'BASE'], dtype='object')"
      ]
     },
     "execution_count": 44,
     "metadata": {},
     "output_type": "execute_result"
    }
   ],
   "source": [
    "df.columns"
   ]
  },
  {
   "cell_type": "code",
   "execution_count": 45,
   "metadata": {},
   "outputs": [],
   "source": [
    "single = df.iloc[:,0]"
   ]
  },
  {
   "cell_type": "code",
   "execution_count": 46,
   "metadata": {},
   "outputs": [
    {
     "data": {
      "text/plain": [
       "{'MUZZLE': {'COMPENSATOR': {'Accuracy': [72.89, 1.76, 0.0],\n",
       "   'Damage': [71.83, 0.0, 0.0],\n",
       "   'Range': [63.03, 0.0, 0.0],\n",
       "   'Fire Rate': [67.96, 0.0, 0.0],\n",
       "   'Mobility': [60.92, 0.0, 1.06],\n",
       "   'Control': [75.0, 3.17, 0.0]},\n",
       "  'LIGHTWEIGHT_SUPPRESSOR': {'Accuracy': [71.83, 0.7, 0.0],\n",
       "   'Damage': [71.83, 0.0, 0.0],\n",
       "   'Range': [55.28, 0.0, 3.87],\n",
       "   'Fire Rate': [67.96, 0.0, 0.0],\n",
       "   'Mobility': [61.62, 0.0, 0.7],\n",
       "   'Control': [71.83, 0.0, 0.0]},\n",
       "  'BREACHER_DEVICE': {'Accuracy': [71.13, 0.0, 0.0],\n",
       "   'Damage': [71.83, 0.0, 0.0],\n",
       "   'Range': [63.03, 0.0, 0.0],\n",
       "   'Fire Rate': [67.96, 0.0, 0.0],\n",
       "   'Mobility': [58.8, 0.0, 2.11],\n",
       "   'Control': [68.31, 0.0, 1.76]},\n",
       "  'MUZZLE_BREAK': {'Accuracy': [74.65, 3.52, 0.0],\n",
       "   'Damage': [71.83, 0.0, 0.0],\n",
       "   'Range': [63.03, 0.0, 0.0],\n",
       "   'Fire Rate': [67.96, 0.0, 0.0],\n",
       "   'Mobility': [60.92, 0.0, 1.06],\n",
       "   'Control': [72.89, 1.06, 0.0]},\n",
       "  'FLASH_HIDER': {'Accuracy': [71.13, 0.0, 0.0],\n",
       "   'Damage': [71.83, 0.0, 0.0],\n",
       "   'Range': [60.92, 0.0, 1.06],\n",
       "   'Fire Rate': [67.96, 0.0, 0.0],\n",
       "   'Mobility': [61.62, 0.0, 0.7],\n",
       "   'Control': [71.83, 0.0, 0.0]},\n",
       "  'MONOLITHIC_SUPPRESSOR': {'Accuracy': [72.89, 1.76, 0.0],\n",
       "   'Damage': [71.83, 0.0, 0.0],\n",
       "   'Range': [65.85, 2.82, 0.0],\n",
       "   'Fire Rate': [67.96, 0.0, 0.0],\n",
       "   'Mobility': [56.69, 0.0, 3.17],\n",
       "   'Control': [70.42, 0.0, 0.7]},\n",
       "  'TACTICAL_SUPPRESSOR': {'Accuracy': [72.54, 1.41, 0.0],\n",
       "   'Damage': [71.83, 0.0, 0.0],\n",
       "   'Range': [63.03, 0.0, 0.0],\n",
       "   'Fire Rate': [67.96, 0.0, 0.0],\n",
       "   'Mobility': [60.21, 0.0, 1.41],\n",
       "   'Control': [71.13, 0.0, 0.35]}},\n",
       " 'BARREL': {'CORVUS_CUSTOM_MARKSMAN': {'Accuracy': [73.94, 2.82, 0.0],\n",
       "   'Damage': [71.83, 0.0, 0.0],\n",
       "   'Range': [67.96, 4.93, 0.0],\n",
       "   'Fire Rate': [67.96, 0.0, 0.0],\n",
       "   'Mobility': [56.69, 0.0, 3.17],\n",
       "   'Control': [76.06, 4.23, 0.0]},\n",
       "  'FSS_11': {'Accuracy': [66.9, 0.0, 2.11],\n",
       "   'Damage': [71.83, 0.0, 0.0],\n",
       "   'Range': [55.28, 0.0, 3.87],\n",
       "   'Fire Rate': [67.96, 0.0, 0.0],\n",
       "   'Mobility': [69.01, 5.99, 0.0],\n",
       "   'Control': [68.31, 0.0, 1.76]},\n",
       "  'STOCK_M16_GRENADIER': {'Accuracy': [75.0, 3.87, 0.0],\n",
       "   'Damage': [71.83, 0.0, 0.0],\n",
       "   'Range': [70.07, 7.04, 0.0],\n",
       "   'Fire Rate': [67.96, 0.0, 0.0],\n",
       "   'Mobility': [51.06, 0.0, 5.99],\n",
       "   'Control': [77.11, 5.28, 0.0]},\n",
       "  'FSS_12': {'Accuracy': [72.89, 1.76, 0.0],\n",
       "   'Damage': [71.83, 0.0, 0.0],\n",
       "   'Range': [51.06, 0.0, 5.99],\n",
       "   'Fire Rate': [67.96, 0.0, 0.0],\n",
       "   'Mobility': [65.85, 2.82, 0.0],\n",
       "   'Control': [71.83, 0.0, 0.0]},\n",
       "  'FSS_14': {'Accuracy': [71.13, 0.0, 0.0],\n",
       "   'Damage': [71.83, 0.0, 0.0],\n",
       "   'Range': [56.69, 0.0, 3.17],\n",
       "   'Fire Rate': [67.96, 0.0, 0.0],\n",
       "   'Mobility': [65.85, 2.82, 0.0],\n",
       "   'Control': [71.83, 0.0, 0.0]}},\n",
       " 'UNDERBARREL': {'MERC_FOREGRIP': {'Accuracy': [76.06, 4.93, 0.0],\n",
       "   'Damage': [71.83, 0.0, 0.0],\n",
       "   'Range': [64.08, 1.06, 0.0],\n",
       "   'Fire Rate': [67.96, 0.0, 0.0],\n",
       "   'Mobility': [60.21, 0.0, 1.41],\n",
       "   'Control': [73.94, 2.11, 0.0]},\n",
       "  'COMMANDO_FOREGRIP': {'Accuracy': [75.0, 3.87, 0.0],\n",
       "   'Damage': [71.83, 0.0, 0.0],\n",
       "   'Range': [65.14, 2.11, 0.0],\n",
       "   'Fire Rate': [67.96, 0.0, 0.0],\n",
       "   'Mobility': [58.8, 0.0, 2.11],\n",
       "   'Control': [75.0, 3.17, 0.0]},\n",
       "  'RANGER_FOREGRIP': {'Accuracy': [75.35, 4.23, 0.0],\n",
       "   'Damage': [71.83, 0.0, 0.0],\n",
       "   'Range': [65.85, 2.82, 0.0],\n",
       "   'Fire Rate': [67.96, 0.0, 0.0],\n",
       "   'Mobility': [58.1, 0.0, 2.46],\n",
       "   'Control': [75.0, 3.17, 0.0]},\n",
       "  'TACTICAL_FOREGRIP': {'Accuracy': [71.83, 0.7, 0.0],\n",
       "   'Damage': [71.83, 0.0, 0.0],\n",
       "   'Range': [64.08, 1.06, 0.0],\n",
       "   'Fire Rate': [67.96, 0.0, 0.0],\n",
       "   'Mobility': [60.92, 0.0, 1.06],\n",
       "   'Control': [78.17, 6.34, 0.0]},\n",
       "  'OPERATOR_FOREGRIP': {'Accuracy': [75.0, 3.87, 0.0],\n",
       "   'Damage': [71.83, 0.0, 0.0],\n",
       "   'Range': [64.44, 1.41, 0.0],\n",
       "   'Fire Rate': [67.96, 0.0, 0.0],\n",
       "   'Mobility': [60.92, 0.0, 1.06],\n",
       "   'Control': [72.89, 1.06, 0.0]}},\n",
       " 'GRIP': {'GRANULATED_GRIP_TAPE': {'Accuracy': [72.89, 1.76, 0.0],\n",
       "   'Damage': [71.83, 0.0, 0.0],\n",
       "   'Range': [63.03, 0.0, 0.0],\n",
       "   'Fire Rate': [67.96, 0.0, 0.0],\n",
       "   'Mobility': [58.8, 0.0, 2.11],\n",
       "   'Control': [73.94, 2.11, 0.0]},\n",
       "  'STIPPLED_GRIP_TAPE': {'Accuracy': [71.13, 0.0, 0.0],\n",
       "   'Damage': [71.83, 0.0, 0.0],\n",
       "   'Range': [63.03, 0.0, 0.0],\n",
       "   'Fire Rate': [67.96, 0.0, 0.0],\n",
       "   'Mobility': [65.85, 2.82, 0.0],\n",
       "   'Control': [68.31, 0.0, 1.76]},\n",
       "  'RUBBERIZED_GRIP_TAPE': {'Accuracy': [75.0, 3.87, 0.0],\n",
       "   'Damage': [71.83, 0.0, 0.0],\n",
       "   'Range': [63.03, 0.0, 0.0],\n",
       "   'Fire Rate': [67.96, 0.0, 0.0],\n",
       "   'Mobility': [63.03, 0.0, 0.0],\n",
       "   'Control': [68.31, 0.0, 1.76]}},\n",
       " 'STOCK': {'SINGUARD_ARMS_INVADER': {'Accuracy': [69.01, 0.0, 1.06],\n",
       "   'Damage': [71.83, 0.0, 0.0],\n",
       "   'Range': [63.03, 0.0, 0.0],\n",
       "   'Fire Rate': [67.96, 0.0, 0.0],\n",
       "   'Mobility': [66.9, 3.87, 0.0],\n",
       "   'Control': [66.9, 0.0, 2.46]},\n",
       "  'FORGE_TAC_CQS': {'Accuracy': [66.9, 0.0, 2.11],\n",
       "   'Damage': [71.83, 0.0, 0.0],\n",
       "   'Range': [63.03, 0.0, 0.0],\n",
       "   'Fire Rate': [67.96, 0.0, 0.0],\n",
       "   'Mobility': [65.85, 2.82, 0.0],\n",
       "   'Control': [70.42, 0.0, 0.7]},\n",
       "  'M16_STOCK': {'Accuracy': [72.89, 1.76, 0.0],\n",
       "   'Damage': [71.83, 0.0, 0.0],\n",
       "   'Range': [63.03, 0.0, 0.0],\n",
       "   'Fire Rate': [67.96, 0.0, 0.0],\n",
       "   'Mobility': [58.8, 0.0, 2.11],\n",
       "   'Control': [75.0, 3.17, 0.0]},\n",
       "  'NO_STOCK': {'Accuracy': [64.79, 0.0, 3.17],\n",
       "   'Damage': [71.83, 0.0, 0.0],\n",
       "   'Range': [58.8, 0.0, 2.11],\n",
       "   'Fire Rate': [67.96, 0.0, 0.0],\n",
       "   'Mobility': [71.83, 8.8, 0.0],\n",
       "   'Control': [64.08, 0.0, 3.87]}},\n",
       " 'LASER': {'1MW_LASER': {'Accuracy': [72.89, 1.76, 0.0],\n",
       "   'Damage': [71.83, 0.0, 0.0],\n",
       "   'Range': [63.03, 0.0, 0.0],\n",
       "   'Fire Rate': [67.96, 0.0, 0.0],\n",
       "   'Mobility': [64.08, 1.06, 0.0],\n",
       "   'Control': [70.42, 0.0, 0.7]},\n",
       "  'TAC_LASER': {'Accuracy': [72.89, 1.76, 0.0],\n",
       "   'Damage': [71.83, 0.0, 0.0],\n",
       "   'Range': [63.03, 0.0, 0.0],\n",
       "   'Fire Rate': [67.96, 0.0, 0.0],\n",
       "   'Mobility': [65.14, 2.11, 0.0],\n",
       "   'Control': [75.0, 3.17, 0.0]},\n",
       "  '5MW_LASER': {'Accuracy': [75.0, 3.87, 0.0],\n",
       "   'Damage': [71.83, 0.0, 0.0],\n",
       "   'Range': [63.03, 0.0, 0.0],\n",
       "   'Fire Rate': [67.96, 0.0, 0.0],\n",
       "   'Mobility': [65.14, 2.11, 0.0],\n",
       "   'Control': [70.42, 0.0, 0.7]}},\n",
       " 'BASE': {'BASE': {'Accuracy': [71.13, 0.0, 0.0],\n",
       "   'Damage': [71.83, 0.0, 0.0],\n",
       "   'Range': [63.03, 0.0, 0.0],\n",
       "   'Fire Rate': [67.96, 0.0, 0.0],\n",
       "   'Mobility': [63.03, 0.0, 0.0],\n",
       "   'Control': [71.83, 0.0, 0.0]}}}"
      ]
     },
     "execution_count": 46,
     "metadata": {},
     "output_type": "execute_result"
    }
   ],
   "source": [
    "attachment_data['M4A1']"
   ]
  },
  {
   "cell_type": "code",
   "execution_count": 47,
   "metadata": {},
   "outputs": [
    {
     "name": "stdout",
     "output_type": "stream",
     "text": [
      "MUZZLE\n",
      "BARREL\n",
      "UNDERBARREL\n",
      "GRIP\n",
      "STOCK\n",
      "LASER\n",
      "BASE\n"
     ]
    }
   ],
   "source": [
    "for each in attachment_data['M4A1'].keys():\n",
    "    print(each)"
   ]
  },
  {
   "cell_type": "code",
   "execution_count": 50,
   "metadata": {},
   "outputs": [],
   "source": [
    "stats = []\n",
    "for each in attachment_data['M4A1']['BASE']['BASE'].keys():\n",
    "    stats.append(attachment_data['M4A1']['BASE']['BASE'][each][0])"
   ]
  },
  {
   "cell_type": "code",
   "execution_count": 51,
   "metadata": {},
   "outputs": [
    {
     "data": {
      "text/plain": [
       "[71.13, 71.83, 63.03, 67.96, 63.03, 71.83]"
      ]
     },
     "execution_count": 51,
     "metadata": {},
     "output_type": "execute_result"
    }
   ],
   "source": [
    "stats"
   ]
  },
  {
   "cell_type": "code",
   "execution_count": 54,
   "metadata": {},
   "outputs": [],
   "source": [
    "titles = list(attachment_data['M4A1']['BASE']['BASE'].keys())"
   ]
  },
  {
   "cell_type": "code",
   "execution_count": 62,
   "metadata": {},
   "outputs": [
    {
     "data": {
      "application/vnd.plotly.v1+json": {
       "config": {
        "plotlyServerURL": "https://plot.ly"
       },
       "data": [
        {
         "fill": "toself",
         "hovertemplate": "r=%{r}<br>theta=%{theta}<extra></extra>",
         "legendgroup": "",
         "line": {
          "color": "#636efa",
          "dash": "solid"
         },
         "mode": "lines",
         "name": "",
         "r": [
          71.13,
          71.83,
          63.03,
          67.96,
          63.03,
          71.83,
          71.13
         ],
         "showlegend": false,
         "subplot": "polar",
         "theta": [
          "Accuracy",
          "Damage",
          "Range",
          "Fire Rate",
          "Mobility",
          "Control",
          "Accuracy"
         ],
         "type": "scatterpolar"
        }
       ],
       "layout": {
        "legend": {
         "tracegroupgap": 0
        },
        "margin": {
         "t": 60
        },
        "polar": {
         "angularaxis": {
          "direction": "clockwise",
          "rotation": 90
         },
         "domain": {
          "x": [
           0,
           1
          ],
          "y": [
           0,
           1
          ]
         },
         "radialaxis": {
          "range": [
           0,
           100
          ]
         }
        },
        "template": {
         "data": {
          "bar": [
           {
            "error_x": {
             "color": "#2a3f5f"
            },
            "error_y": {
             "color": "#2a3f5f"
            },
            "marker": {
             "line": {
              "color": "#E5ECF6",
              "width": 0.5
             }
            },
            "type": "bar"
           }
          ],
          "barpolar": [
           {
            "marker": {
             "line": {
              "color": "#E5ECF6",
              "width": 0.5
             }
            },
            "type": "barpolar"
           }
          ],
          "carpet": [
           {
            "aaxis": {
             "endlinecolor": "#2a3f5f",
             "gridcolor": "white",
             "linecolor": "white",
             "minorgridcolor": "white",
             "startlinecolor": "#2a3f5f"
            },
            "baxis": {
             "endlinecolor": "#2a3f5f",
             "gridcolor": "white",
             "linecolor": "white",
             "minorgridcolor": "white",
             "startlinecolor": "#2a3f5f"
            },
            "type": "carpet"
           }
          ],
          "choropleth": [
           {
            "colorbar": {
             "outlinewidth": 0,
             "ticks": ""
            },
            "type": "choropleth"
           }
          ],
          "contour": [
           {
            "colorbar": {
             "outlinewidth": 0,
             "ticks": ""
            },
            "colorscale": [
             [
              0,
              "#0d0887"
             ],
             [
              0.1111111111111111,
              "#46039f"
             ],
             [
              0.2222222222222222,
              "#7201a8"
             ],
             [
              0.3333333333333333,
              "#9c179e"
             ],
             [
              0.4444444444444444,
              "#bd3786"
             ],
             [
              0.5555555555555556,
              "#d8576b"
             ],
             [
              0.6666666666666666,
              "#ed7953"
             ],
             [
              0.7777777777777778,
              "#fb9f3a"
             ],
             [
              0.8888888888888888,
              "#fdca26"
             ],
             [
              1,
              "#f0f921"
             ]
            ],
            "type": "contour"
           }
          ],
          "contourcarpet": [
           {
            "colorbar": {
             "outlinewidth": 0,
             "ticks": ""
            },
            "type": "contourcarpet"
           }
          ],
          "heatmap": [
           {
            "colorbar": {
             "outlinewidth": 0,
             "ticks": ""
            },
            "colorscale": [
             [
              0,
              "#0d0887"
             ],
             [
              0.1111111111111111,
              "#46039f"
             ],
             [
              0.2222222222222222,
              "#7201a8"
             ],
             [
              0.3333333333333333,
              "#9c179e"
             ],
             [
              0.4444444444444444,
              "#bd3786"
             ],
             [
              0.5555555555555556,
              "#d8576b"
             ],
             [
              0.6666666666666666,
              "#ed7953"
             ],
             [
              0.7777777777777778,
              "#fb9f3a"
             ],
             [
              0.8888888888888888,
              "#fdca26"
             ],
             [
              1,
              "#f0f921"
             ]
            ],
            "type": "heatmap"
           }
          ],
          "heatmapgl": [
           {
            "colorbar": {
             "outlinewidth": 0,
             "ticks": ""
            },
            "colorscale": [
             [
              0,
              "#0d0887"
             ],
             [
              0.1111111111111111,
              "#46039f"
             ],
             [
              0.2222222222222222,
              "#7201a8"
             ],
             [
              0.3333333333333333,
              "#9c179e"
             ],
             [
              0.4444444444444444,
              "#bd3786"
             ],
             [
              0.5555555555555556,
              "#d8576b"
             ],
             [
              0.6666666666666666,
              "#ed7953"
             ],
             [
              0.7777777777777778,
              "#fb9f3a"
             ],
             [
              0.8888888888888888,
              "#fdca26"
             ],
             [
              1,
              "#f0f921"
             ]
            ],
            "type": "heatmapgl"
           }
          ],
          "histogram": [
           {
            "marker": {
             "colorbar": {
              "outlinewidth": 0,
              "ticks": ""
             }
            },
            "type": "histogram"
           }
          ],
          "histogram2d": [
           {
            "colorbar": {
             "outlinewidth": 0,
             "ticks": ""
            },
            "colorscale": [
             [
              0,
              "#0d0887"
             ],
             [
              0.1111111111111111,
              "#46039f"
             ],
             [
              0.2222222222222222,
              "#7201a8"
             ],
             [
              0.3333333333333333,
              "#9c179e"
             ],
             [
              0.4444444444444444,
              "#bd3786"
             ],
             [
              0.5555555555555556,
              "#d8576b"
             ],
             [
              0.6666666666666666,
              "#ed7953"
             ],
             [
              0.7777777777777778,
              "#fb9f3a"
             ],
             [
              0.8888888888888888,
              "#fdca26"
             ],
             [
              1,
              "#f0f921"
             ]
            ],
            "type": "histogram2d"
           }
          ],
          "histogram2dcontour": [
           {
            "colorbar": {
             "outlinewidth": 0,
             "ticks": ""
            },
            "colorscale": [
             [
              0,
              "#0d0887"
             ],
             [
              0.1111111111111111,
              "#46039f"
             ],
             [
              0.2222222222222222,
              "#7201a8"
             ],
             [
              0.3333333333333333,
              "#9c179e"
             ],
             [
              0.4444444444444444,
              "#bd3786"
             ],
             [
              0.5555555555555556,
              "#d8576b"
             ],
             [
              0.6666666666666666,
              "#ed7953"
             ],
             [
              0.7777777777777778,
              "#fb9f3a"
             ],
             [
              0.8888888888888888,
              "#fdca26"
             ],
             [
              1,
              "#f0f921"
             ]
            ],
            "type": "histogram2dcontour"
           }
          ],
          "mesh3d": [
           {
            "colorbar": {
             "outlinewidth": 0,
             "ticks": ""
            },
            "type": "mesh3d"
           }
          ],
          "parcoords": [
           {
            "line": {
             "colorbar": {
              "outlinewidth": 0,
              "ticks": ""
             }
            },
            "type": "parcoords"
           }
          ],
          "pie": [
           {
            "automargin": true,
            "type": "pie"
           }
          ],
          "scatter": [
           {
            "marker": {
             "colorbar": {
              "outlinewidth": 0,
              "ticks": ""
             }
            },
            "type": "scatter"
           }
          ],
          "scatter3d": [
           {
            "line": {
             "colorbar": {
              "outlinewidth": 0,
              "ticks": ""
             }
            },
            "marker": {
             "colorbar": {
              "outlinewidth": 0,
              "ticks": ""
             }
            },
            "type": "scatter3d"
           }
          ],
          "scattercarpet": [
           {
            "marker": {
             "colorbar": {
              "outlinewidth": 0,
              "ticks": ""
             }
            },
            "type": "scattercarpet"
           }
          ],
          "scattergeo": [
           {
            "marker": {
             "colorbar": {
              "outlinewidth": 0,
              "ticks": ""
             }
            },
            "type": "scattergeo"
           }
          ],
          "scattergl": [
           {
            "marker": {
             "colorbar": {
              "outlinewidth": 0,
              "ticks": ""
             }
            },
            "type": "scattergl"
           }
          ],
          "scattermapbox": [
           {
            "marker": {
             "colorbar": {
              "outlinewidth": 0,
              "ticks": ""
             }
            },
            "type": "scattermapbox"
           }
          ],
          "scatterpolar": [
           {
            "marker": {
             "colorbar": {
              "outlinewidth": 0,
              "ticks": ""
             }
            },
            "type": "scatterpolar"
           }
          ],
          "scatterpolargl": [
           {
            "marker": {
             "colorbar": {
              "outlinewidth": 0,
              "ticks": ""
             }
            },
            "type": "scatterpolargl"
           }
          ],
          "scatterternary": [
           {
            "marker": {
             "colorbar": {
              "outlinewidth": 0,
              "ticks": ""
             }
            },
            "type": "scatterternary"
           }
          ],
          "surface": [
           {
            "colorbar": {
             "outlinewidth": 0,
             "ticks": ""
            },
            "colorscale": [
             [
              0,
              "#0d0887"
             ],
             [
              0.1111111111111111,
              "#46039f"
             ],
             [
              0.2222222222222222,
              "#7201a8"
             ],
             [
              0.3333333333333333,
              "#9c179e"
             ],
             [
              0.4444444444444444,
              "#bd3786"
             ],
             [
              0.5555555555555556,
              "#d8576b"
             ],
             [
              0.6666666666666666,
              "#ed7953"
             ],
             [
              0.7777777777777778,
              "#fb9f3a"
             ],
             [
              0.8888888888888888,
              "#fdca26"
             ],
             [
              1,
              "#f0f921"
             ]
            ],
            "type": "surface"
           }
          ],
          "table": [
           {
            "cells": {
             "fill": {
              "color": "#EBF0F8"
             },
             "line": {
              "color": "white"
             }
            },
            "header": {
             "fill": {
              "color": "#C8D4E3"
             },
             "line": {
              "color": "white"
             }
            },
            "type": "table"
           }
          ]
         },
         "layout": {
          "annotationdefaults": {
           "arrowcolor": "#2a3f5f",
           "arrowhead": 0,
           "arrowwidth": 1
          },
          "coloraxis": {
           "colorbar": {
            "outlinewidth": 0,
            "ticks": ""
           }
          },
          "colorscale": {
           "diverging": [
            [
             0,
             "#8e0152"
            ],
            [
             0.1,
             "#c51b7d"
            ],
            [
             0.2,
             "#de77ae"
            ],
            [
             0.3,
             "#f1b6da"
            ],
            [
             0.4,
             "#fde0ef"
            ],
            [
             0.5,
             "#f7f7f7"
            ],
            [
             0.6,
             "#e6f5d0"
            ],
            [
             0.7,
             "#b8e186"
            ],
            [
             0.8,
             "#7fbc41"
            ],
            [
             0.9,
             "#4d9221"
            ],
            [
             1,
             "#276419"
            ]
           ],
           "sequential": [
            [
             0,
             "#0d0887"
            ],
            [
             0.1111111111111111,
             "#46039f"
            ],
            [
             0.2222222222222222,
             "#7201a8"
            ],
            [
             0.3333333333333333,
             "#9c179e"
            ],
            [
             0.4444444444444444,
             "#bd3786"
            ],
            [
             0.5555555555555556,
             "#d8576b"
            ],
            [
             0.6666666666666666,
             "#ed7953"
            ],
            [
             0.7777777777777778,
             "#fb9f3a"
            ],
            [
             0.8888888888888888,
             "#fdca26"
            ],
            [
             1,
             "#f0f921"
            ]
           ],
           "sequentialminus": [
            [
             0,
             "#0d0887"
            ],
            [
             0.1111111111111111,
             "#46039f"
            ],
            [
             0.2222222222222222,
             "#7201a8"
            ],
            [
             0.3333333333333333,
             "#9c179e"
            ],
            [
             0.4444444444444444,
             "#bd3786"
            ],
            [
             0.5555555555555556,
             "#d8576b"
            ],
            [
             0.6666666666666666,
             "#ed7953"
            ],
            [
             0.7777777777777778,
             "#fb9f3a"
            ],
            [
             0.8888888888888888,
             "#fdca26"
            ],
            [
             1,
             "#f0f921"
            ]
           ]
          },
          "colorway": [
           "#636efa",
           "#EF553B",
           "#00cc96",
           "#ab63fa",
           "#FFA15A",
           "#19d3f3",
           "#FF6692",
           "#B6E880",
           "#FF97FF",
           "#FECB52"
          ],
          "font": {
           "color": "#2a3f5f"
          },
          "geo": {
           "bgcolor": "white",
           "lakecolor": "white",
           "landcolor": "#E5ECF6",
           "showlakes": true,
           "showland": true,
           "subunitcolor": "white"
          },
          "hoverlabel": {
           "align": "left"
          },
          "hovermode": "closest",
          "mapbox": {
           "style": "light"
          },
          "paper_bgcolor": "white",
          "plot_bgcolor": "#E5ECF6",
          "polar": {
           "angularaxis": {
            "gridcolor": "white",
            "linecolor": "white",
            "ticks": ""
           },
           "bgcolor": "#E5ECF6",
           "radialaxis": {
            "gridcolor": "white",
            "linecolor": "white",
            "ticks": ""
           }
          },
          "scene": {
           "xaxis": {
            "backgroundcolor": "#E5ECF6",
            "gridcolor": "white",
            "gridwidth": 2,
            "linecolor": "white",
            "showbackground": true,
            "ticks": "",
            "zerolinecolor": "white"
           },
           "yaxis": {
            "backgroundcolor": "#E5ECF6",
            "gridcolor": "white",
            "gridwidth": 2,
            "linecolor": "white",
            "showbackground": true,
            "ticks": "",
            "zerolinecolor": "white"
           },
           "zaxis": {
            "backgroundcolor": "#E5ECF6",
            "gridcolor": "white",
            "gridwidth": 2,
            "linecolor": "white",
            "showbackground": true,
            "ticks": "",
            "zerolinecolor": "white"
           }
          },
          "shapedefaults": {
           "line": {
            "color": "#2a3f5f"
           }
          },
          "ternary": {
           "aaxis": {
            "gridcolor": "white",
            "linecolor": "white",
            "ticks": ""
           },
           "baxis": {
            "gridcolor": "white",
            "linecolor": "white",
            "ticks": ""
           },
           "bgcolor": "#E5ECF6",
           "caxis": {
            "gridcolor": "white",
            "linecolor": "white",
            "ticks": ""
           }
          },
          "title": {
           "x": 0.05
          },
          "xaxis": {
           "automargin": true,
           "gridcolor": "white",
           "linecolor": "white",
           "ticks": "",
           "title": {
            "standoff": 15
           },
           "zerolinecolor": "white",
           "zerolinewidth": 2
          },
          "yaxis": {
           "automargin": true,
           "gridcolor": "white",
           "linecolor": "white",
           "ticks": "",
           "title": {
            "standoff": 15
           },
           "zerolinecolor": "white",
           "zerolinewidth": 2
          }
         }
        }
       }
      },
      "text/html": [
       "<div>\n",
       "        \n",
       "        \n",
       "            <div id=\"9c8a4cc9-1d4b-43cf-9eb2-f00789958590\" class=\"plotly-graph-div\" style=\"height:525px; width:100%;\"></div>\n",
       "            <script type=\"text/javascript\">\n",
       "                require([\"plotly\"], function(Plotly) {\n",
       "                    window.PLOTLYENV=window.PLOTLYENV || {};\n",
       "                    \n",
       "                if (document.getElementById(\"9c8a4cc9-1d4b-43cf-9eb2-f00789958590\")) {\n",
       "                    Plotly.newPlot(\n",
       "                        '9c8a4cc9-1d4b-43cf-9eb2-f00789958590',\n",
       "                        [{\"fill\": \"toself\", \"hovertemplate\": \"r=%{r}<br>theta=%{theta}<extra></extra>\", \"legendgroup\": \"\", \"line\": {\"color\": \"#636efa\", \"dash\": \"solid\"}, \"mode\": \"lines\", \"name\": \"\", \"r\": [71.13, 71.83, 63.03, 67.96, 63.03, 71.83, 71.13], \"showlegend\": false, \"subplot\": \"polar\", \"theta\": [\"Accuracy\", \"Damage\", \"Range\", \"Fire Rate\", \"Mobility\", \"Control\", \"Accuracy\"], \"type\": \"scatterpolar\"}],\n",
       "                        {\"legend\": {\"tracegroupgap\": 0}, \"margin\": {\"t\": 60}, \"polar\": {\"angularaxis\": {\"direction\": \"clockwise\", \"rotation\": 90}, \"domain\": {\"x\": [0.0, 1.0], \"y\": [0.0, 1.0]}, \"radialaxis\": {\"range\": [0, 100]}}, \"template\": {\"data\": {\"bar\": [{\"error_x\": {\"color\": \"#2a3f5f\"}, \"error_y\": {\"color\": \"#2a3f5f\"}, \"marker\": {\"line\": {\"color\": \"#E5ECF6\", \"width\": 0.5}}, \"type\": \"bar\"}], \"barpolar\": [{\"marker\": {\"line\": {\"color\": \"#E5ECF6\", \"width\": 0.5}}, \"type\": \"barpolar\"}], \"carpet\": [{\"aaxis\": {\"endlinecolor\": \"#2a3f5f\", \"gridcolor\": \"white\", \"linecolor\": \"white\", \"minorgridcolor\": \"white\", \"startlinecolor\": \"#2a3f5f\"}, \"baxis\": {\"endlinecolor\": \"#2a3f5f\", \"gridcolor\": \"white\", \"linecolor\": \"white\", \"minorgridcolor\": \"white\", \"startlinecolor\": \"#2a3f5f\"}, \"type\": \"carpet\"}], \"choropleth\": [{\"colorbar\": {\"outlinewidth\": 0, \"ticks\": \"\"}, \"type\": \"choropleth\"}], \"contour\": [{\"colorbar\": {\"outlinewidth\": 0, \"ticks\": \"\"}, \"colorscale\": [[0.0, \"#0d0887\"], [0.1111111111111111, \"#46039f\"], [0.2222222222222222, \"#7201a8\"], [0.3333333333333333, \"#9c179e\"], [0.4444444444444444, \"#bd3786\"], [0.5555555555555556, \"#d8576b\"], [0.6666666666666666, \"#ed7953\"], [0.7777777777777778, \"#fb9f3a\"], [0.8888888888888888, \"#fdca26\"], [1.0, \"#f0f921\"]], \"type\": \"contour\"}], \"contourcarpet\": [{\"colorbar\": {\"outlinewidth\": 0, \"ticks\": \"\"}, \"type\": \"contourcarpet\"}], \"heatmap\": [{\"colorbar\": {\"outlinewidth\": 0, \"ticks\": \"\"}, \"colorscale\": [[0.0, \"#0d0887\"], [0.1111111111111111, \"#46039f\"], [0.2222222222222222, \"#7201a8\"], [0.3333333333333333, \"#9c179e\"], [0.4444444444444444, \"#bd3786\"], [0.5555555555555556, \"#d8576b\"], [0.6666666666666666, \"#ed7953\"], [0.7777777777777778, \"#fb9f3a\"], [0.8888888888888888, \"#fdca26\"], [1.0, \"#f0f921\"]], \"type\": \"heatmap\"}], \"heatmapgl\": [{\"colorbar\": {\"outlinewidth\": 0, \"ticks\": \"\"}, \"colorscale\": [[0.0, \"#0d0887\"], [0.1111111111111111, \"#46039f\"], [0.2222222222222222, \"#7201a8\"], [0.3333333333333333, \"#9c179e\"], [0.4444444444444444, \"#bd3786\"], [0.5555555555555556, \"#d8576b\"], [0.6666666666666666, \"#ed7953\"], [0.7777777777777778, \"#fb9f3a\"], [0.8888888888888888, \"#fdca26\"], [1.0, \"#f0f921\"]], \"type\": \"heatmapgl\"}], \"histogram\": [{\"marker\": {\"colorbar\": {\"outlinewidth\": 0, \"ticks\": \"\"}}, \"type\": \"histogram\"}], \"histogram2d\": [{\"colorbar\": {\"outlinewidth\": 0, \"ticks\": \"\"}, \"colorscale\": [[0.0, \"#0d0887\"], [0.1111111111111111, \"#46039f\"], [0.2222222222222222, \"#7201a8\"], [0.3333333333333333, \"#9c179e\"], [0.4444444444444444, \"#bd3786\"], [0.5555555555555556, \"#d8576b\"], [0.6666666666666666, \"#ed7953\"], [0.7777777777777778, \"#fb9f3a\"], [0.8888888888888888, \"#fdca26\"], [1.0, \"#f0f921\"]], \"type\": \"histogram2d\"}], \"histogram2dcontour\": [{\"colorbar\": {\"outlinewidth\": 0, \"ticks\": \"\"}, \"colorscale\": [[0.0, \"#0d0887\"], [0.1111111111111111, \"#46039f\"], [0.2222222222222222, \"#7201a8\"], [0.3333333333333333, \"#9c179e\"], [0.4444444444444444, \"#bd3786\"], [0.5555555555555556, \"#d8576b\"], [0.6666666666666666, \"#ed7953\"], [0.7777777777777778, \"#fb9f3a\"], [0.8888888888888888, \"#fdca26\"], [1.0, \"#f0f921\"]], \"type\": \"histogram2dcontour\"}], \"mesh3d\": [{\"colorbar\": {\"outlinewidth\": 0, \"ticks\": \"\"}, \"type\": \"mesh3d\"}], \"parcoords\": [{\"line\": {\"colorbar\": {\"outlinewidth\": 0, \"ticks\": \"\"}}, \"type\": \"parcoords\"}], \"pie\": [{\"automargin\": true, \"type\": \"pie\"}], \"scatter\": [{\"marker\": {\"colorbar\": {\"outlinewidth\": 0, \"ticks\": \"\"}}, \"type\": \"scatter\"}], \"scatter3d\": [{\"line\": {\"colorbar\": {\"outlinewidth\": 0, \"ticks\": \"\"}}, \"marker\": {\"colorbar\": {\"outlinewidth\": 0, \"ticks\": \"\"}}, \"type\": \"scatter3d\"}], \"scattercarpet\": [{\"marker\": {\"colorbar\": {\"outlinewidth\": 0, \"ticks\": \"\"}}, \"type\": \"scattercarpet\"}], \"scattergeo\": [{\"marker\": {\"colorbar\": {\"outlinewidth\": 0, \"ticks\": \"\"}}, \"type\": \"scattergeo\"}], \"scattergl\": [{\"marker\": {\"colorbar\": {\"outlinewidth\": 0, \"ticks\": \"\"}}, \"type\": \"scattergl\"}], \"scattermapbox\": [{\"marker\": {\"colorbar\": {\"outlinewidth\": 0, \"ticks\": \"\"}}, \"type\": \"scattermapbox\"}], \"scatterpolar\": [{\"marker\": {\"colorbar\": {\"outlinewidth\": 0, \"ticks\": \"\"}}, \"type\": \"scatterpolar\"}], \"scatterpolargl\": [{\"marker\": {\"colorbar\": {\"outlinewidth\": 0, \"ticks\": \"\"}}, \"type\": \"scatterpolargl\"}], \"scatterternary\": [{\"marker\": {\"colorbar\": {\"outlinewidth\": 0, \"ticks\": \"\"}}, \"type\": \"scatterternary\"}], \"surface\": [{\"colorbar\": {\"outlinewidth\": 0, \"ticks\": \"\"}, \"colorscale\": [[0.0, \"#0d0887\"], [0.1111111111111111, \"#46039f\"], [0.2222222222222222, \"#7201a8\"], [0.3333333333333333, \"#9c179e\"], [0.4444444444444444, \"#bd3786\"], [0.5555555555555556, \"#d8576b\"], [0.6666666666666666, \"#ed7953\"], [0.7777777777777778, \"#fb9f3a\"], [0.8888888888888888, \"#fdca26\"], [1.0, \"#f0f921\"]], \"type\": \"surface\"}], \"table\": [{\"cells\": {\"fill\": {\"color\": \"#EBF0F8\"}, \"line\": {\"color\": \"white\"}}, \"header\": {\"fill\": {\"color\": \"#C8D4E3\"}, \"line\": {\"color\": \"white\"}}, \"type\": \"table\"}]}, \"layout\": {\"annotationdefaults\": {\"arrowcolor\": \"#2a3f5f\", \"arrowhead\": 0, \"arrowwidth\": 1}, \"coloraxis\": {\"colorbar\": {\"outlinewidth\": 0, \"ticks\": \"\"}}, \"colorscale\": {\"diverging\": [[0, \"#8e0152\"], [0.1, \"#c51b7d\"], [0.2, \"#de77ae\"], [0.3, \"#f1b6da\"], [0.4, \"#fde0ef\"], [0.5, \"#f7f7f7\"], [0.6, \"#e6f5d0\"], [0.7, \"#b8e186\"], [0.8, \"#7fbc41\"], [0.9, \"#4d9221\"], [1, \"#276419\"]], \"sequential\": [[0.0, \"#0d0887\"], [0.1111111111111111, \"#46039f\"], [0.2222222222222222, \"#7201a8\"], [0.3333333333333333, \"#9c179e\"], [0.4444444444444444, \"#bd3786\"], [0.5555555555555556, \"#d8576b\"], [0.6666666666666666, \"#ed7953\"], [0.7777777777777778, \"#fb9f3a\"], [0.8888888888888888, \"#fdca26\"], [1.0, \"#f0f921\"]], \"sequentialminus\": [[0.0, \"#0d0887\"], [0.1111111111111111, \"#46039f\"], [0.2222222222222222, \"#7201a8\"], [0.3333333333333333, \"#9c179e\"], [0.4444444444444444, \"#bd3786\"], [0.5555555555555556, \"#d8576b\"], [0.6666666666666666, \"#ed7953\"], [0.7777777777777778, \"#fb9f3a\"], [0.8888888888888888, \"#fdca26\"], [1.0, \"#f0f921\"]]}, \"colorway\": [\"#636efa\", \"#EF553B\", \"#00cc96\", \"#ab63fa\", \"#FFA15A\", \"#19d3f3\", \"#FF6692\", \"#B6E880\", \"#FF97FF\", \"#FECB52\"], \"font\": {\"color\": \"#2a3f5f\"}, \"geo\": {\"bgcolor\": \"white\", \"lakecolor\": \"white\", \"landcolor\": \"#E5ECF6\", \"showlakes\": true, \"showland\": true, \"subunitcolor\": \"white\"}, \"hoverlabel\": {\"align\": \"left\"}, \"hovermode\": \"closest\", \"mapbox\": {\"style\": \"light\"}, \"paper_bgcolor\": \"white\", \"plot_bgcolor\": \"#E5ECF6\", \"polar\": {\"angularaxis\": {\"gridcolor\": \"white\", \"linecolor\": \"white\", \"ticks\": \"\"}, \"bgcolor\": \"#E5ECF6\", \"radialaxis\": {\"gridcolor\": \"white\", \"linecolor\": \"white\", \"ticks\": \"\"}}, \"scene\": {\"xaxis\": {\"backgroundcolor\": \"#E5ECF6\", \"gridcolor\": \"white\", \"gridwidth\": 2, \"linecolor\": \"white\", \"showbackground\": true, \"ticks\": \"\", \"zerolinecolor\": \"white\"}, \"yaxis\": {\"backgroundcolor\": \"#E5ECF6\", \"gridcolor\": \"white\", \"gridwidth\": 2, \"linecolor\": \"white\", \"showbackground\": true, \"ticks\": \"\", \"zerolinecolor\": \"white\"}, \"zaxis\": {\"backgroundcolor\": \"#E5ECF6\", \"gridcolor\": \"white\", \"gridwidth\": 2, \"linecolor\": \"white\", \"showbackground\": true, \"ticks\": \"\", \"zerolinecolor\": \"white\"}}, \"shapedefaults\": {\"line\": {\"color\": \"#2a3f5f\"}}, \"ternary\": {\"aaxis\": {\"gridcolor\": \"white\", \"linecolor\": \"white\", \"ticks\": \"\"}, \"baxis\": {\"gridcolor\": \"white\", \"linecolor\": \"white\", \"ticks\": \"\"}, \"bgcolor\": \"#E5ECF6\", \"caxis\": {\"gridcolor\": \"white\", \"linecolor\": \"white\", \"ticks\": \"\"}}, \"title\": {\"x\": 0.05}, \"xaxis\": {\"automargin\": true, \"gridcolor\": \"white\", \"linecolor\": \"white\", \"ticks\": \"\", \"title\": {\"standoff\": 15}, \"zerolinecolor\": \"white\", \"zerolinewidth\": 2}, \"yaxis\": {\"automargin\": true, \"gridcolor\": \"white\", \"linecolor\": \"white\", \"ticks\": \"\", \"title\": {\"standoff\": 15}, \"zerolinecolor\": \"white\", \"zerolinewidth\": 2}}}},\n",
       "                        {\"responsive\": true}\n",
       "                    ).then(function(){\n",
       "                            \n",
       "var gd = document.getElementById('9c8a4cc9-1d4b-43cf-9eb2-f00789958590');\n",
       "var x = new MutationObserver(function (mutations, observer) {{\n",
       "        var display = window.getComputedStyle(gd).display;\n",
       "        if (!display || display === 'none') {{\n",
       "            console.log([gd, 'removed!']);\n",
       "            Plotly.purge(gd);\n",
       "            observer.disconnect();\n",
       "        }}\n",
       "}});\n",
       "\n",
       "// Listen for the removal of the full notebook cells\n",
       "var notebookContainer = gd.closest('#notebook-container');\n",
       "if (notebookContainer) {{\n",
       "    x.observe(notebookContainer, {childList: true});\n",
       "}}\n",
       "\n",
       "// Listen for the clearing of the current output cell\n",
       "var outputEl = gd.closest('.output');\n",
       "if (outputEl) {{\n",
       "    x.observe(outputEl, {childList: true});\n",
       "}}\n",
       "\n",
       "                        })\n",
       "                };\n",
       "                });\n",
       "            </script>\n",
       "        </div>"
      ]
     },
     "metadata": {},
     "output_type": "display_data"
    }
   ],
   "source": [
    "df = pd.DataFrame(dict(\n",
    "    r=stats,\n",
    "    theta=titles))\n",
    "fig = px.line_polar(df, r='r', theta='theta', line_close=True,range_r=[0,100])\n",
    "fig.update_traces(fill='toself')\n",
    "fig.show()"
   ]
  },
  {
   "cell_type": "code",
   "execution_count": null,
   "metadata": {},
   "outputs": [],
   "source": []
  }
 ],
 "metadata": {
  "kernelspec": {
   "display_name": "Python 3",
   "language": "python",
   "name": "python3"
  },
  "language_info": {
   "codemirror_mode": {
    "name": "ipython",
    "version": 3
   },
   "file_extension": ".py",
   "mimetype": "text/x-python",
   "name": "python",
   "nbconvert_exporter": "python",
   "pygments_lexer": "ipython3",
   "version": "3.7.3"
  }
 },
 "nbformat": 4,
 "nbformat_minor": 2
}
