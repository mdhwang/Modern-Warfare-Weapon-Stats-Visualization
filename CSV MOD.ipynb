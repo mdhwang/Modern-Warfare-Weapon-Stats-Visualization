{
 "cells": [
  {
   "cell_type": "code",
   "execution_count": 1,
   "metadata": {},
   "outputs": [],
   "source": [
    "import pandas as pd"
   ]
  },
  {
   "cell_type": "code",
   "execution_count": 2,
   "metadata": {},
   "outputs": [],
   "source": [
    "df = pd.read_csv(\"attachment_data.csv\")"
   ]
  },
  {
   "cell_type": "code",
   "execution_count": 17,
   "metadata": {},
   "outputs": [],
   "source": [
    "df = df.replace(\"SmW Laser\", \"5mW Laser\")"
   ]
  },
  {
   "cell_type": "code",
   "execution_count": 20,
   "metadata": {},
   "outputs": [],
   "source": [
    "df = df.replace(\"mW Laser\", \"1mW Laser\")"
   ]
  },
  {
   "cell_type": "code",
   "execution_count": 30,
   "metadata": {},
   "outputs": [],
   "source": [
    "df = df.replace(\"Mo! Money\", \"Mo' Money\")"
   ]
  },
  {
   "cell_type": "code",
   "execution_count": 31,
   "metadata": {},
   "outputs": [],
   "source": [
    "df.to_csv('test.csv')"
   ]
  },
  {
   "cell_type": "code",
   "execution_count": 32,
   "metadata": {},
   "outputs": [
    {
     "data": {
      "text/html": [
       "<div>\n",
       "<style scoped>\n",
       "    .dataframe tbody tr th:only-of-type {\n",
       "        vertical-align: middle;\n",
       "    }\n",
       "\n",
       "    .dataframe tbody tr th {\n",
       "        vertical-align: top;\n",
       "    }\n",
       "\n",
       "    .dataframe thead th {\n",
       "        text-align: right;\n",
       "    }\n",
       "</style>\n",
       "<table border=\"1\" class=\"dataframe\">\n",
       "  <thead>\n",
       "    <tr style=\"text-align: right;\">\n",
       "      <th></th>\n",
       "      <th>Class</th>\n",
       "      <th>Weapon</th>\n",
       "      <th>Category</th>\n",
       "      <th>Attachment</th>\n",
       "      <th>Accuracy</th>\n",
       "      <th>Damage</th>\n",
       "      <th>Range</th>\n",
       "      <th>Fire Rate</th>\n",
       "      <th>Mobility</th>\n",
       "      <th>Control</th>\n",
       "    </tr>\n",
       "  </thead>\n",
       "  <tbody>\n",
       "    <tr>\n",
       "      <th>3</th>\n",
       "      <td>Handgun</td>\n",
       "      <td>1911</td>\n",
       "      <td>Perk</td>\n",
       "      <td>Frangible - Disabling</td>\n",
       "      <td>0.0</td>\n",
       "      <td>0.0</td>\n",
       "      <td>0.0</td>\n",
       "      <td>0.00</td>\n",
       "      <td>0.0</td>\n",
       "      <td>0.0</td>\n",
       "    </tr>\n",
       "    <tr>\n",
       "      <th>4</th>\n",
       "      <td>Handgun</td>\n",
       "      <td>1911</td>\n",
       "      <td>Perk</td>\n",
       "      <td>Frangible - Wounding</td>\n",
       "      <td>0.0</td>\n",
       "      <td>0.0</td>\n",
       "      <td>0.0</td>\n",
       "      <td>0.00</td>\n",
       "      <td>0.0</td>\n",
       "      <td>0.0</td>\n",
       "    </tr>\n",
       "    <tr>\n",
       "      <th>5</th>\n",
       "      <td>Handgun</td>\n",
       "      <td>1911</td>\n",
       "      <td>Perk</td>\n",
       "      <td>Mo' Money</td>\n",
       "      <td>0.0</td>\n",
       "      <td>0.0</td>\n",
       "      <td>0.0</td>\n",
       "      <td>0.00</td>\n",
       "      <td>0.0</td>\n",
       "      <td>0.0</td>\n",
       "    </tr>\n",
       "    <tr>\n",
       "      <th>6</th>\n",
       "      <td>Handgun</td>\n",
       "      <td>1911</td>\n",
       "      <td>Perk</td>\n",
       "      <td>Recon</td>\n",
       "      <td>0.0</td>\n",
       "      <td>0.0</td>\n",
       "      <td>0.0</td>\n",
       "      <td>0.00</td>\n",
       "      <td>0.0</td>\n",
       "      <td>0.0</td>\n",
       "    </tr>\n",
       "    <tr>\n",
       "      <th>7</th>\n",
       "      <td>Handgun</td>\n",
       "      <td>1911</td>\n",
       "      <td>Perk</td>\n",
       "      <td>Sleight of Hand</td>\n",
       "      <td>0.0</td>\n",
       "      <td>0.0</td>\n",
       "      <td>0.0</td>\n",
       "      <td>2.11</td>\n",
       "      <td>0.0</td>\n",
       "      <td>0.0</td>\n",
       "    </tr>\n",
       "    <tr>\n",
       "      <th>...</th>\n",
       "      <td>...</td>\n",
       "      <td>...</td>\n",
       "      <td>...</td>\n",
       "      <td>...</td>\n",
       "      <td>...</td>\n",
       "      <td>...</td>\n",
       "      <td>...</td>\n",
       "      <td>...</td>\n",
       "      <td>...</td>\n",
       "      <td>...</td>\n",
       "    </tr>\n",
       "    <tr>\n",
       "      <th>2274</th>\n",
       "      <td>Sub Machine Gun</td>\n",
       "      <td>Fennec</td>\n",
       "      <td>Perk</td>\n",
       "      <td>Mo' Money</td>\n",
       "      <td>0.0</td>\n",
       "      <td>0.0</td>\n",
       "      <td>0.0</td>\n",
       "      <td>0.00</td>\n",
       "      <td>0.0</td>\n",
       "      <td>0.0</td>\n",
       "    </tr>\n",
       "    <tr>\n",
       "      <th>2275</th>\n",
       "      <td>Sub Machine Gun</td>\n",
       "      <td>Fennec</td>\n",
       "      <td>Perk</td>\n",
       "      <td>Sleight of Hand</td>\n",
       "      <td>0.0</td>\n",
       "      <td>0.0</td>\n",
       "      <td>0.0</td>\n",
       "      <td>2.11</td>\n",
       "      <td>0.0</td>\n",
       "      <td>0.0</td>\n",
       "    </tr>\n",
       "    <tr>\n",
       "      <th>2276</th>\n",
       "      <td>Sub Machine Gun</td>\n",
       "      <td>Fennec</td>\n",
       "      <td>Perk</td>\n",
       "      <td>Fast Melee</td>\n",
       "      <td>0.0</td>\n",
       "      <td>0.0</td>\n",
       "      <td>0.0</td>\n",
       "      <td>0.00</td>\n",
       "      <td>0.0</td>\n",
       "      <td>0.0</td>\n",
       "    </tr>\n",
       "    <tr>\n",
       "      <th>2277</th>\n",
       "      <td>Sub Machine Gun</td>\n",
       "      <td>Fennec</td>\n",
       "      <td>Perk</td>\n",
       "      <td>Frangible - Wounding</td>\n",
       "      <td>0.0</td>\n",
       "      <td>0.0</td>\n",
       "      <td>0.0</td>\n",
       "      <td>0.00</td>\n",
       "      <td>0.0</td>\n",
       "      <td>0.0</td>\n",
       "    </tr>\n",
       "    <tr>\n",
       "      <th>2278</th>\n",
       "      <td>Sub Machine Gun</td>\n",
       "      <td>Fennec</td>\n",
       "      <td>Perk</td>\n",
       "      <td>Recon</td>\n",
       "      <td>0.0</td>\n",
       "      <td>0.0</td>\n",
       "      <td>0.0</td>\n",
       "      <td>0.00</td>\n",
       "      <td>0.0</td>\n",
       "      <td>0.0</td>\n",
       "    </tr>\n",
       "  </tbody>\n",
       "</table>\n",
       "<p>423 rows × 10 columns</p>\n",
       "</div>"
      ],
      "text/plain": [
       "                Class  Weapon Category             Attachment  Accuracy  \\\n",
       "3             Handgun    1911     Perk  Frangible - Disabling       0.0   \n",
       "4             Handgun    1911     Perk   Frangible - Wounding       0.0   \n",
       "5             Handgun    1911     Perk              Mo' Money       0.0   \n",
       "6             Handgun    1911     Perk                  Recon       0.0   \n",
       "7             Handgun    1911     Perk        Sleight of Hand       0.0   \n",
       "...               ...     ...      ...                    ...       ...   \n",
       "2274  Sub Machine Gun  Fennec     Perk              Mo' Money       0.0   \n",
       "2275  Sub Machine Gun  Fennec     Perk        Sleight of Hand       0.0   \n",
       "2276  Sub Machine Gun  Fennec     Perk             Fast Melee       0.0   \n",
       "2277  Sub Machine Gun  Fennec     Perk   Frangible - Wounding       0.0   \n",
       "2278  Sub Machine Gun  Fennec     Perk                  Recon       0.0   \n",
       "\n",
       "      Damage  Range  Fire Rate  Mobility  Control  \n",
       "3        0.0    0.0       0.00       0.0      0.0  \n",
       "4        0.0    0.0       0.00       0.0      0.0  \n",
       "5        0.0    0.0       0.00       0.0      0.0  \n",
       "6        0.0    0.0       0.00       0.0      0.0  \n",
       "7        0.0    0.0       2.11       0.0      0.0  \n",
       "...      ...    ...        ...       ...      ...  \n",
       "2274     0.0    0.0       0.00       0.0      0.0  \n",
       "2275     0.0    0.0       2.11       0.0      0.0  \n",
       "2276     0.0    0.0       0.00       0.0      0.0  \n",
       "2277     0.0    0.0       0.00       0.0      0.0  \n",
       "2278     0.0    0.0       0.00       0.0      0.0  \n",
       "\n",
       "[423 rows x 10 columns]"
      ]
     },
     "execution_count": 32,
     "metadata": {},
     "output_type": "execute_result"
    }
   ],
   "source": [
    "df[df.Category == \"Perk\"]"
   ]
  },
  {
   "cell_type": "code",
   "execution_count": 33,
   "metadata": {},
   "outputs": [],
   "source": [
    "a = ['a','b']"
   ]
  },
  {
   "cell_type": "code",
   "execution_count": 34,
   "metadata": {},
   "outputs": [],
   "source": [
    "a.remove('a')"
   ]
  },
  {
   "cell_type": "code",
   "execution_count": 35,
   "metadata": {},
   "outputs": [
    {
     "data": {
      "text/plain": [
       "['b']"
      ]
     },
     "execution_count": 35,
     "metadata": {},
     "output_type": "execute_result"
    }
   ],
   "source": [
    "a\n"
   ]
  },
  {
   "cell_type": "code",
   "execution_count": 36,
   "metadata": {},
   "outputs": [],
   "source": [
    "import dash_table"
   ]
  },
  {
   "cell_type": "code",
   "execution_count": 37,
   "metadata": {},
   "outputs": [
    {
     "data": {
      "text/plain": [
       "(DataTable(columns=['test', 'test', 'test'], data=[1, 2, 3], id='gulag1'),)"
      ]
     },
     "execution_count": 37,
     "metadata": {},
     "output_type": "execute_result"
    }
   ],
   "source": [
    "\n",
    "dash_table.DataTable(\n",
    "    id = 'gulag1',\n",
    "    columns = ['test','test','test'],\n",
    "    data = [1,2,3]\n",
    "),"
   ]
  },
  {
   "cell_type": "code",
   "execution_count": null,
   "metadata": {},
   "outputs": [],
   "source": []
  }
 ],
 "metadata": {
  "kernelspec": {
   "display_name": "Python 3",
   "language": "python",
   "name": "python3"
  },
  "language_info": {
   "codemirror_mode": {
    "name": "ipython",
    "version": 3
   },
   "file_extension": ".py",
   "mimetype": "text/x-python",
   "name": "python",
   "nbconvert_exporter": "python",
   "pygments_lexer": "ipython3",
   "version": "3.7.3"
  }
 },
 "nbformat": 4,
 "nbformat_minor": 2
}
