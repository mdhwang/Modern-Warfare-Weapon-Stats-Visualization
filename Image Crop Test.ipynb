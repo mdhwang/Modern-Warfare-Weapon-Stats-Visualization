{
 "cells": [
  {
   "cell_type": "code",
   "execution_count": 20,
   "metadata": {},
   "outputs": [],
   "source": [
    "import cv2\n",
    "import matplotlib.pyplot as plt\n",
    "\n",
    "img = cv2.imread('data/images/COVER-IMAGE.png',0)\n",
    "RGB_img = cv2.cvtColor(img, cv2.COLOR_BGR2RGB)"
   ]
  },
  {
   "cell_type": "code",
   "execution_count": 174,
   "metadata": {},
   "outputs": [],
   "source": [
    "x0,x1,y0,y1 = (195,490,831,970)"
   ]
  },
  {
   "cell_type": "code",
   "execution_count": 175,
   "metadata": {
    "scrolled": true
   },
   "outputs": [],
   "source": [
    "crop = img[y0:y1,x0:x1]"
   ]
  },
  {
   "cell_type": "code",
   "execution_count": 176,
   "metadata": {},
   "outputs": [
    {
     "data": {
      "text/plain": [
       "<matplotlib.image.AxesImage at 0x134be3e48>"
      ]
     },
     "execution_count": 176,
     "metadata": {},
     "output_type": "execute_result"
    },
    {
     "data": {
      "image/png": "[encoded data removed]",
      "text/plain": [
       "<Figure size 432x288 with 1 Axes>"
      ]
     },
     "metadata": {
      "needs_background": "light"
     },
     "output_type": "display_data"
    }
   ],
   "source": [
    "plt.imshow(crop)"
   ]
  },
  {
   "cell_type": "code",
   "execution_count": 177,
   "metadata": {},
   "outputs": [
    {
     "data": {
      "image/png": "[encoded data removed]",
      "text/plain": [
       "<Figure size 432x288 with 1 Axes>"
      ]
     },
     "metadata": {
      "needs_background": "light"
     },
     "output_type": "display_data"
    },
    {
     "data": {
      "image/png": "[encoded data removed]",
      "text/plain": [
       "<Figure size 432x288 with 1 Axes>"
      ]
     },
     "metadata": {
      "needs_background": "light"
     },
     "output_type": "display_data"
    },
    {
     "data": {
      "image/png": "[encoded data removed]",
      "text/plain": [
       "<Figure size 432x288 with 1 Axes>"
      ]
     },
     "metadata": {
      "needs_background": "light"
     },
     "output_type": "display_data"
    },
    {
     "data": {
      "image/png": "[encoded data removed]",
      "text/plain": [
       "<Figure size 432x288 with 1 Axes>"
      ]
     },
     "metadata": {
      "needs_background": "light"
     },
     "output_type": "display_data"
    },
    {
     "data": {
      "image/png": "[encoded data removed]",
      "text/plain": [
       "<Figure size 432x288 with 1 Axes>"
      ]
     },
     "metadata": {
      "needs_background": "light"
     },
     "output_type": "display_data"
    },
    {
     "data": {
      "image/png": "[encoded data removed]",
      "text/plain": [
       "<Figure size 432x288 with 1 Axes>"
      ]
     },
     "metadata": {
      "needs_background": "light"
     },
     "output_type": "display_data"
    }
   ],
   "source": [
    "slice_size = round(crop.shape[0]/6)\n",
    "lib = []\n",
    "\n",
    "for i in range(0,6):\n",
    "    start = i * slice_size\n",
    "    end = start + slice_size\n",
    "    s = crop[start:end,:]\n",
    "    plt.figure()\n",
    "    plt.imshow(s)\n",
    "    lib.append(s)\n",
    "    "
   ]
  },
  {
   "cell_type": "code",
   "execution_count": 203,
   "metadata": {},
   "outputs": [],
   "source": [
    "def color_classifier(segment):\n",
    "    colors = {}\n",
    "    values = ['border','base','boost','break','remain']\n",
    "    for each in values:\n",
    "        colors[each] = 0\n",
    "        \n",
    "    for each in segment:\n",
    "        if each < 40:\n",
    "            colors['border'] += 1\n",
    "        elif each < 70:\n",
    "            colors['remain'] += 1\n",
    "        elif each < 110:\n",
    "            colors['break'] += 1\n",
    "        elif each < 145:\n",
    "            colors['base'] += 1\n",
    "        else:\n",
    "            colors['boost'] += 1\n",
    "    total = colors['base'] + colors['boost'] + colors['break'] + colors['remain']\n",
    "    value = colors['base'] + colors['boost'] - colors['break']\n",
    "    add = colors['boost']\n",
    "    weak = colors['break']\n",
    "    value_pct = round(value*100 / total,2)\n",
    "    add_pct = round(add*100 / total,2)\n",
    "    weak_pct = round(weak*100 / total,2)\n",
    "    return value_pct, add_pct, weak_pct\n",
    "            "
   ]
  },
  {
   "cell_type": "code",
   "execution_count": 204,
   "metadata": {
    "scrolled": true
   },
   "outputs": [
    {
     "data": {
      "image/png": "[encoded data removed]",
      "text/plain": [
       "<Figure size 432x288 with 1 Axes>"
      ]
     },
     "metadata": {
      "needs_background": "light"
     },
     "output_type": "display_data"
    },
    {
     "data": {
      "image/png": "[encoded data removed]",
      "text/plain": [
       "<Figure size 432x288 with 1 Axes>"
      ]
     },
     "metadata": {
      "needs_background": "light"
     },
     "output_type": "display_data"
    },
    {
     "data": {
      "image/png": "[encoded data removed]",
      "text/plain": [
       "<Figure size 432x288 with 1 Axes>"
      ]
     },
     "metadata": {
      "needs_background": "light"
     },
     "output_type": "display_data"
    },
    {
     "data": {
      "image/png": "[encoded data removed]",
      "text/plain": [
       "<Figure size 432x288 with 1 Axes>"
      ]
     },
     "metadata": {
      "needs_background": "light"
     },
     "output_type": "display_data"
    },
    {
     "data": {
      "image/png": "[encoded data removed]",
      "text/plain": [
       "<Figure size 432x288 with 1 Axes>"
      ]
     },
     "metadata": {
      "needs_background": "light"
     },
     "output_type": "display_data"
    },
    {
     "data": {
      "image/png": "[encoded data removed]",
      "text/plain": [
       "<Figure size 432x288 with 1 Axes>"
      ]
     },
     "metadata": {
      "needs_background": "light"
     },
     "output_type": "display_data"
    }
   ],
   "source": [
    "stats = {}\n",
    "for i,each in enumerate(lib):\n",
    "    mid = round(each.shape[0]/2)\n",
    "    arr = each[mid,:]\n",
    "    arr2 = each[mid-1:mid+1,:]\n",
    "    plt.figure()\n",
    "    plt.imshow(arr2)\n",
    "    stats[categories[i]] = color_classifier(arr)"
   ]
  },
  {
   "cell_type": "code",
   "execution_count": 205,
   "metadata": {},
   "outputs": [],
   "source": [
    "categories = ['Accuracy','Damage','Range','Fire Rate','Mobility','Control']"
   ]
  },
  {
   "cell_type": "code",
   "execution_count": 206,
   "metadata": {},
   "outputs": [
    {
     "data": {
      "text/plain": [
       "{'Accuracy': (84.86, 13.73, 0.0),\n",
       " 'Damage': (71.83, 0.0, 0.0),\n",
       " 'Range': (64.08, 1.06, 0.0),\n",
       " 'Fire Rate': (67.96, 0.0, 0.0),\n",
       " 'Mobility': (60.92, 0.0, 1.06),\n",
       " 'Control': (78.17, 6.34, 0.0)}"
      ]
     },
     "execution_count": 206,
     "metadata": {},
     "output_type": "execute_result"
    }
   ],
   "source": [
    "stats"
   ]
  },
  {
   "cell_type": "code",
   "execution_count": 213,
   "metadata": {},
   "outputs": [
    {
     "data": {
      "text/plain": [
       "array([ 11,  11,  11,  11,  11, 129, 129, 129, 129, 129, 129, 129, 129,\n",
       "       129, 129, 129, 129, 129, 129, 129, 129, 129, 129, 129, 129, 129,\n",
       "       129, 129, 129, 129, 129, 129, 129, 129, 129, 129, 129, 129, 129,\n",
       "       129, 129, 129, 129, 129, 129, 129, 129, 129, 129, 129, 129, 129,\n",
       "       129, 129, 129, 129, 129, 129, 129, 129, 129, 129, 129, 129, 129,\n",
       "       129, 129, 129, 129, 129, 129, 129, 129, 129, 129, 129, 129, 129,\n",
       "       129, 129, 129, 129, 129, 129, 129, 129, 129, 129, 129, 129, 129,\n",
       "       129, 129, 129, 129, 129, 129, 129, 129, 129, 129, 129, 129, 129,\n",
       "       129, 129, 129, 129, 129, 129, 129, 129, 129, 129, 129, 129, 129,\n",
       "       129, 129, 129, 129, 129, 129, 129, 129, 129, 129, 129, 129, 129,\n",
       "       129, 129, 129, 129, 129, 129, 129, 129, 129, 129, 129, 129, 129,\n",
       "       129, 129, 129, 129, 129, 129, 129, 129, 129, 129, 129, 129, 129,\n",
       "       129, 129, 129, 129, 129, 129, 129, 129, 129, 129, 129, 129, 129,\n",
       "       129, 129, 129, 129, 129, 129, 129, 129, 129, 129, 129, 129, 129,\n",
       "       129, 129, 129, 129, 129, 129, 129, 129, 129, 129, 129, 129, 129,\n",
       "       129, 129, 129, 129, 129, 129, 129, 129, 129, 129, 129, 129, 174,\n",
       "       174, 174, 174, 174, 174, 174, 174, 174, 174, 174, 174, 174, 174,\n",
       "       174, 174, 174, 174, 174, 174, 174, 174, 174, 174, 174, 174, 174,\n",
       "       174, 174, 174, 174, 174, 174, 174, 174, 174, 174, 174, 174,  59,\n",
       "        59,  59,  59,  59,  59,  59,  59,  59,  59,  59,  59,  59,  59,\n",
       "        59,  59,  59,  59,  59,  59,  59,  59,  59,  59,  59,  59,  59,\n",
       "        59,  59,  59,  59,  59,  59,  59,  59,  59,  59,  59,  59,  59,\n",
       "        59,  59,  59,  11,  11,  11,  11,  11,  11], dtype=uint8)"
      ]
     },
     "execution_count": 213,
     "metadata": {},
     "output_type": "execute_result"
    }
   ],
   "source": [
    "lib[0][12]"
   ]
  },
  {
   "cell_type": "code",
   "execution_count": 215,
   "metadata": {},
   "outputs": [],
   "source": [
    "from os import listdir\n",
    "from os.path import isfile, join\n",
    "mypath = 'data/images/M4A1'\n",
    "onlyfiles = [f for f in listdir(mypath) if isfile(join(mypath, f))]"
   ]
  },
  {
   "cell_type": "code",
   "execution_count": 216,
   "metadata": {},
   "outputs": [
    {
     "data": {
      "text/plain": [
       "['M4A1-STOCK-SINGUARD-ARMS-INVADER.png',\n",
       " 'M4A1-GRIP-GRANULATED-GRIP-TAPE.png',\n",
       " 'M4A1-LASER-1MW-LASER.png',\n",
       " 'M4A1-MUZZLE-COMPENSATOR.png',\n",
       " 'M4A1-LASER-TAC-LASER.png',\n",
       " 'M4A1-MUZZLE-LIGHTWEIGHT-SUPPRESSOR.png',\n",
       " 'M4A1-BASE.png',\n",
       " 'M4A1-BARREL-CORVUS-CUSTOM-MARKSMAN.png',\n",
       " 'M4A1-MUZZLE-BREACHER-DEVICE.png',\n",
       " 'M4A1-STOCK-FORGE-TAC-CQS.png',\n",
       " 'M4A1-BARREL-FSS-11.5-COMMANDO.png',\n",
       " 'M4A1-UNDERBARREL-MERC-FOREGRIP.png',\n",
       " 'M4A1-MUZZLE-MUZZLE-BREAK.png',\n",
       " 'M4A1-MUZZLE-FLASH-HIDER.png',\n",
       " 'M4A1-BARREL-STOCK-M16-GRENADIER.png',\n",
       " 'M4A1-STOCK-M16-STOCK.png',\n",
       " 'M4A1-MUZZLE-MONOLITHIC-SUPPRESSOR.png',\n",
       " 'M4A1-LASER-5MW-LASER.png',\n",
       " 'M4A1-GRIP-STIPPLED-GRIP-TAPE.png',\n",
       " 'M4A1-GRIP-RUBBERIZED-GRIP-TAPE.png',\n",
       " 'M4A1-STOCK-NO-STOCK.png',\n",
       " 'M4A1-UNDERBARREL-COMMANDO-FOREGRIP.png',\n",
       " 'M4A1-BARREL-FSS-12.4-PREDATOR.png',\n",
       " 'M4A1-UNDERBARREL-RANGER-FOREGRIP.png',\n",
       " 'M4A1-UNDERBARREL-TACTICAL-FOREGRIP.png',\n",
       " 'M4A1-MUZZLE-TACTICAL-SUPPRESSOR.png',\n",
       " 'M4A1-UNDERBARREL-OPERATOR-FOREGRIP.png',\n",
       " 'M4A1-BARREL-FSS-14.5-TAC-LITE.png']"
      ]
     },
     "execution_count": 216,
     "metadata": {},
     "output_type": "execute_result"
    }
   ],
   "source": [
    "onlyfiles"
   ]
  },
  {
   "cell_type": "code",
   "execution_count": 218,
   "metadata": {},
   "outputs": [],
   "source": [
    "attachment = onlyfiles[0]\n",
    "category = attachment.split('-')[1]\n",
    "name = '_'.join(attachment.split('.')[0].split('-')[2:])"
   ]
  },
  {
   "cell_type": "code",
   "execution_count": 219,
   "metadata": {},
   "outputs": [
    {
     "data": {
      "text/plain": [
       "'SINGUARD_ARMS_INVADER'"
      ]
     },
     "execution_count": 219,
     "metadata": {},
     "output_type": "execute_result"
    }
   ],
   "source": [
    "name"
   ]
  },
  {
   "cell_type": "code",
   "execution_count": null,
   "metadata": {},
   "outputs": [],
   "source": []
  }
 ],
 "metadata": {
  "kernelspec": {
   "display_name": "Python 3",
   "language": "python",
   "name": "python3"
  },
  "language_info": {
   "codemirror_mode": {
    "name": "ipython",
    "version": 3
   },
   "file_extension": ".py",
   "mimetype": "text/x-python",
   "name": "python",
   "nbconvert_exporter": "python",
   "pygments_lexer": "ipython3",
   "version": "3.7.3"
  }
 },
 "nbformat": 4,
 "nbformat_minor": 2
}
