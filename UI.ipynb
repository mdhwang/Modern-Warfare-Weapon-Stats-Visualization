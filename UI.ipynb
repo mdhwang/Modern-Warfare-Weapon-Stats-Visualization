{
 "cells": [
  {
   "cell_type": "code",
   "execution_count": 3,
   "metadata": {},
   "outputs": [
    {
     "name": "stderr",
     "output_type": "stream",
     "text": [
      "/Users/matthewhwang/anaconda3/lib/python3.7/site-packages/dask/config.py:168: YAMLLoadWarning:\n",
      "\n",
      "calling yaml.load() without Loader=... is deprecated, as the default Loader is unsafe. Please read https://msg.pyyaml.org/load for full details.\n",
      "\n",
      "/Users/matthewhwang/anaconda3/lib/python3.7/site-packages/distributed/config.py:20: YAMLLoadWarning:\n",
      "\n",
      "calling yaml.load() without Loader=... is deprecated, as the default Loader is unsafe. Please read https://msg.pyyaml.org/load for full details.\n",
      "\n"
     ]
    }
   ],
   "source": [
    "import pandas as pd\n",
    "\n",
    "import plotly.express as px\n",
    "import warnings\n",
    "import plotly.graph_objects as go\n",
    "import numpy as np"
   ]
  },
  {
   "cell_type": "code",
   "execution_count": 4,
   "metadata": {},
   "outputs": [],
   "source": [
    "types = ['MUZZLE','BARREL','UNDERBARREL','GRIP','STOCK','LASER','BASE']\n",
    "categories = ['Accuracy','Damage','Range','Fire Rate','Mobility','Control']\n",
    "    \n",
    "formatting = {}\n",
    "for each in categories:\n",
    "    formatting[each] = float\n",
    "    \n",
    "df = pd.read_csv('attachment_data.csv',dtype=formatting)"
   ]
  },
  {
   "cell_type": "code",
   "execution_count": 16,
   "metadata": {},
   "outputs": [],
   "source": [
    "def create_options(category, attachments):\n",
    "    options = []\n",
    "    for each in attachments:\n",
    "        line = {}\n",
    "        line['label'] = category + \" - \" + each\n",
    "        line['value'] = each\n",
    "        options.append(line)\n",
    "    return options"
   ]
  },
  {
   "cell_type": "code",
   "execution_count": 17,
   "metadata": {},
   "outputs": [],
   "source": [
    "stonks = df[df.Category == \"STOCK\"].Attachment.to_list()"
   ]
  },
  {
   "cell_type": "code",
   "execution_count": 18,
   "metadata": {},
   "outputs": [
    {
     "data": {
      "text/plain": [
       "[{'label': 'STOCK - SINGUARD_ARMS_INVADER', 'value': 'SINGUARD_ARMS_INVADER'},\n",
       " {'label': 'STOCK - FORGE_TAC_CQS', 'value': 'FORGE_TAC_CQS'},\n",
       " {'label': 'STOCK - M16_STOCK', 'value': 'M16_STOCK'},\n",
       " {'label': 'STOCK - NO_STOCK', 'value': 'NO_STOCK'}]"
      ]
     },
     "execution_count": 18,
     "metadata": {},
     "output_type": "execute_result"
    }
   ],
   "source": [
    "create_options(\"STOCK\",stonks)"
   ]
  },
  {
   "cell_type": "code",
   "execution_count": 5,
   "metadata": {},
   "outputs": [
    {
     "data": {
      "text/plain": [
       "Accuracy     71.13\n",
       "Damage       71.83\n",
       "Range        63.03\n",
       "Fire Rate    67.96\n",
       "Mobility     63.03\n",
       "Control      71.83\n",
       "Name: 6, dtype: object"
      ]
     },
     "execution_count": 5,
     "metadata": {},
     "output_type": "execute_result"
    }
   ],
   "source": [
    "mask = (df.Weapon == \"M4A1\") & (df.Category == \"BASE\")\n",
    "vals = df[mask].iloc[0,3:]\n",
    "vals"
   ]
  },
  {
   "cell_type": "code",
   "execution_count": 6,
   "metadata": {},
   "outputs": [],
   "source": [
    "def get_attachment_vals(weapon,category,attachment):\n",
    "    mask = (df.Weapon == weapon) & (df.Category == category) & (df.Attachment == attachment)\n",
    "    vals = np.array(df[mask].iloc[0,3:].to_list())\n",
    "    return vals"
   ]
  },
  {
   "cell_type": "code",
   "execution_count": 7,
   "metadata": {},
   "outputs": [
    {
     "name": "stdout",
     "output_type": "stream",
     "text": [
      "GUN OPTIONS\n",
      "------------------------\n"
     ]
    },
    {
     "ename": "NameError",
     "evalue": "name 'weapon_options' is not defined",
     "output_type": "error",
     "traceback": [
      "\u001b[0;31m---------------------------------------------------------------------------\u001b[0m",
      "\u001b[0;31mNameError\u001b[0m                                 Traceback (most recent call last)",
      "\u001b[0;32m<ipython-input-7-41a11f48ecc0>\u001b[0m in \u001b[0;36m<module>\u001b[0;34m\u001b[0m\n\u001b[1;32m      1\u001b[0m \u001b[0mprint\u001b[0m\u001b[0;34m(\u001b[0m\u001b[0;34m\"GUN OPTIONS\"\u001b[0m\u001b[0;34m)\u001b[0m\u001b[0;34m\u001b[0m\u001b[0;34m\u001b[0m\u001b[0m\n\u001b[1;32m      2\u001b[0m \u001b[0mprint\u001b[0m\u001b[0;34m(\u001b[0m\u001b[0;34m\"------------------------\"\u001b[0m\u001b[0;34m)\u001b[0m\u001b[0;34m\u001b[0m\u001b[0;34m\u001b[0m\u001b[0m\n\u001b[0;32m----> 3\u001b[0;31m \u001b[0;32mfor\u001b[0m \u001b[0mgun\u001b[0m \u001b[0;32min\u001b[0m \u001b[0mweapon_options\u001b[0m\u001b[0;34m:\u001b[0m\u001b[0;34m\u001b[0m\u001b[0;34m\u001b[0m\u001b[0m\n\u001b[0m\u001b[1;32m      4\u001b[0m     \u001b[0mprint\u001b[0m\u001b[0;34m(\u001b[0m\u001b[0;34m\"- \"\u001b[0m \u001b[0;34m+\u001b[0m \u001b[0mgun\u001b[0m\u001b[0;34m)\u001b[0m\u001b[0;34m\u001b[0m\u001b[0;34m\u001b[0m\u001b[0m\n\u001b[1;32m      5\u001b[0m \u001b[0mweapon\u001b[0m \u001b[0;34m=\u001b[0m \u001b[0minput\u001b[0m\u001b[0;34m(\u001b[0m\u001b[0;34m\"What Weapon? : \"\u001b[0m\u001b[0;34m)\u001b[0m\u001b[0;34m\u001b[0m\u001b[0;34m\u001b[0m\u001b[0m\n",
      "\u001b[0;31mNameError\u001b[0m: name 'weapon_options' is not defined"
     ]
    }
   ],
   "source": [
    "print(\"GUN OPTIONS\")\n",
    "print(\"------------------------\")\n",
    "for gun in weapon_options:\n",
    "    print(\"- \" + gun)\n",
    "weapon = input(\"What Weapon? : \")\n",
    "mask = (df.Weapon == weapon) & (df.Category == \"BASE\")\n",
    "m4base = df[mask].iloc[0,3:].to_list()\n",
    "vals = np.array(m4base)\n",
    "\n",
    "print(\"------------------------\")\n",
    "count = 0\n",
    "while count < 5:\n",
    "    print(\"ATTACHMENT OPTIONS - {} OF 5 SELECTED\".format(count))\n",
    "    print(\"------------------------\")\n",
    "    for each in types:\n",
    "        print(\"- \" + each)\n",
    "    print(\"- NONE\")\n",
    "    category = input(\"What Category? : \")\n",
    "    if category == \"NONE\":\n",
    "        break\n",
    "    print(\"------------------------\")\n",
    "    print(\"{} OPTIONS\".format(category))\n",
    "    mask = (df.Weapon == weapon) & (df.Category == category)\n",
    "    for each in df[mask].Attachment.to_list():\n",
    "        print(\"- \" + each)\n",
    "    attachment = input(\"What Attachment? : \")\n",
    "    vals += get_attachment_vals(weapon,category,attachment)\n",
    "    count += 1\n",
    "    \n",
    "    \n"
   ]
  },
  {
   "cell_type": "code",
   "execution_count": null,
   "metadata": {},
   "outputs": [],
   "source": [
    "vals"
   ]
  },
  {
   "cell_type": "code",
   "execution_count": null,
   "metadata": {},
   "outputs": [],
   "source": [
    "fig = px.line_polar(df, \n",
    "                    r = vals, \n",
    "                    theta = categories, \n",
    "                    line_close = True,\n",
    "                    range_r = [0,100],\n",
    "                    render_mode = 'svg',\n",
    "                    template = \"plotly_dark\",\n",
    "                    width=1000,\n",
    "                    height=1000,\n",
    "                   )\n",
    "fig.update_traces(fill='toself',line_color='green')\n",
    "fig.update_layout(\n",
    "    title={\n",
    "        'text': \"M4A1 BASE STATS\",\n",
    "        'y':0.98,\n",
    "        'x':0.5,\n",
    "        'xanchor': 'center',\n",
    "        'yanchor': 'top',\n",
    "        'font' : dict(\n",
    "            family=\"Courier New, monospace\",\n",
    "            size=64,\n",
    "            color=\"green\"\n",
    "            ),\n",
    "        },\n",
    "    \n",
    "    font = dict(\n",
    "        family = \"Helvetica\",\n",
    "        size = 30,\n",
    "        color = \"gray\"\n",
    "        ),\n",
    "    margin = {'t':130},\n",
    "    polar = dict(\n",
    "        radialaxis = dict(showticklabels = True, \n",
    "                          color = 'gray',\n",
    "                          tickangle = 0,\n",
    "                          tickfont = dict(size = 16)),\n",
    "        )\n",
    "    )\n",
    "\n",
    "fig.add_trace(go.Scatterpolar(\n",
    "        mode = \"lines\",\n",
    "#         connectgasps = True,\n",
    "\n",
    "        fillcolor = 'gray',\n",
    "        line = dict(color='gray',width=3),\n",
    "        opacity = 0.5,\n",
    "        r = m4base,\n",
    "        theta = categories,\n",
    "        fill = \"toself\",\n",
    "        showlegend=False,\n",
    "        name = \"BASE\"))\n",
    "\n",
    "fig.show()"
   ]
  },
  {
   "cell_type": "code",
   "execution_count": null,
   "metadata": {},
   "outputs": [],
   "source": []
  },
  {
   "cell_type": "code",
   "execution_count": null,
   "metadata": {},
   "outputs": [],
   "source": []
  },
  {
   "cell_type": "code",
   "execution_count": null,
   "metadata": {},
   "outputs": [],
   "source": []
  }
 ],
 "metadata": {
  "kernelspec": {
   "display_name": "Python 3",
   "language": "python",
   "name": "python3"
  },
  "language_info": {
   "codemirror_mode": {
    "name": "ipython",
    "version": 3
   },
   "file_extension": ".py",
   "mimetype": "text/x-python",
   "name": "python",
   "nbconvert_exporter": "python",
   "pygments_lexer": "ipython3",
   "version": "3.7.3"
  }
 },
 "nbformat": 4,
 "nbformat_minor": 2
}
