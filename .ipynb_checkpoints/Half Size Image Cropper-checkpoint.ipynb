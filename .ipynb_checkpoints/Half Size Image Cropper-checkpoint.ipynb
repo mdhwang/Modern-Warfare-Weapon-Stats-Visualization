{
 "cells": [
  {
   "cell_type": "code",
   "execution_count": 1,
   "metadata": {},
   "outputs": [],
   "source": [
    "import cv2\n",
    "\n",
    "from os import listdir\n",
    "\n",
    "from image_helpers import *\n"
   ]
  },
  {
   "cell_type": "code",
   "execution_count": 4,
   "metadata": {},
   "outputs": [
    {
     "ename": "NameError",
     "evalue": "name 'halfsize' is not defined",
     "output_type": "error",
     "traceback": [
      "\u001b[0;31m---------------------------------------------------------------------------\u001b[0m",
      "\u001b[0;31mNameError\u001b[0m                                 Traceback (most recent call last)",
      "\u001b[0;32m<ipython-input-4-f10a60532e75>\u001b[0m in \u001b[0;36m<module>\u001b[0;34m\u001b[0m\n\u001b[1;32m     17\u001b[0m                 \u001b[0mpath\u001b[0m \u001b[0;34m=\u001b[0m \u001b[0;34m'data/Guns/{}/{}/{}/{}'\u001b[0m\u001b[0;34m.\u001b[0m\u001b[0mformat\u001b[0m\u001b[0;34m(\u001b[0m\u001b[0mwep_class\u001b[0m\u001b[0;34m,\u001b[0m \u001b[0mgun\u001b[0m\u001b[0;34m,\u001b[0m \u001b[0mcategory\u001b[0m\u001b[0;34m,\u001b[0m \u001b[0mattachment\u001b[0m\u001b[0;34m)\u001b[0m\u001b[0;34m\u001b[0m\u001b[0;34m\u001b[0m\u001b[0m\n\u001b[1;32m     18\u001b[0m                 \u001b[0mimg\u001b[0m \u001b[0;34m=\u001b[0m \u001b[0mcv2\u001b[0m\u001b[0;34m.\u001b[0m\u001b[0mimread\u001b[0m\u001b[0;34m(\u001b[0m\u001b[0mpath\u001b[0m\u001b[0;34m,\u001b[0m \u001b[0;36m0\u001b[0m\u001b[0;34m)\u001b[0m\u001b[0;34m\u001b[0m\u001b[0;34m\u001b[0m\u001b[0m\n\u001b[0;32m---> 19\u001b[0;31m                 \u001b[0mcropped\u001b[0m \u001b[0;34m=\u001b[0m \u001b[0mhalfsize\u001b[0m\u001b[0;34m(\u001b[0m\u001b[0mimg\u001b[0m\u001b[0;34m)\u001b[0m\u001b[0;34m\u001b[0m\u001b[0;34m\u001b[0m\u001b[0m\n\u001b[0m\u001b[1;32m     20\u001b[0m                 \u001b[0mcv2\u001b[0m\u001b[0;34m.\u001b[0m\u001b[0mimwrite\u001b[0m\u001b[0;34m(\u001b[0m\u001b[0mpath\u001b[0m\u001b[0;34m,\u001b[0m\u001b[0mcropped\u001b[0m\u001b[0;34m)\u001b[0m\u001b[0;34m\u001b[0m\u001b[0;34m\u001b[0m\u001b[0m\n",
      "\u001b[0;31mNameError\u001b[0m: name 'halfsize' is not defined"
     ]
    }
   ],
   "source": [
    "classes = listdir('data/Guns/')\n",
    "if '.DS_Store' in classes:\n",
    "    classes.remove(\".DS_Store\")\n",
    "for wep_class in classes:\n",
    "    guns = listdir('data/Guns/{}'.format(wep_class))\n",
    "    if '.DS_Store' in guns:\n",
    "        guns.remove(\".DS_Store\")\n",
    "    for gun in guns:\n",
    "        categories = listdir('data/Guns/{}/{}'.format(wep_class, gun))\n",
    "        if '.DS_Store' in categories:\n",
    "            categories.remove(\".DS_Store\")\n",
    "        for category in categories:\n",
    "            attachments = listdir('data/Guns/{}/{}/{}'.format(wep_class, gun, category))\n",
    "            if '.DS_Store' in attachments:\n",
    "                attachments.remove('.DS_Store')\n",
    "            for attachment in attachments:\n",
    "                path = 'data/Guns/{}/{}/{}/{}'.format(wep_class, gun, category, attachment)\n",
    "                img = cv2.imread(path, 0)\n",
    "                cropped = halfsize(img)\n",
    "                cv2.imwrite(path,cropped)"
   ]
  },
  {
   "cell_type": "code",
   "execution_count": null,
   "metadata": {},
   "outputs": [],
   "source": []
  }
 ],
 "metadata": {
  "kernelspec": {
   "display_name": "Python 3",
   "language": "python",
   "name": "python3"
  },
  "language_info": {
   "codemirror_mode": {
    "name": "ipython",
    "version": 3
   },
   "file_extension": ".py",
   "mimetype": "text/x-python",
   "name": "python",
   "nbconvert_exporter": "python",
   "pygments_lexer": "ipython3",
   "version": "3.7.3"
  }
 },
 "nbformat": 4,
 "nbformat_minor": 2
}
