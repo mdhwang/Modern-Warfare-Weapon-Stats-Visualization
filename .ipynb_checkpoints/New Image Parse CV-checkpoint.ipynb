{
 "cells": [
  {
   "cell_type": "code",
   "execution_count": 4,
   "metadata": {},
   "outputs": [
    {
     "name": "stdout",
     "output_type": "stream",
     "text": [
      "['Rifles']\n",
      "['Aug']\n",
      "['Barrel', 'Underbarrel', 'Base']\n",
      "Barrel\n",
      "['screenshot.png']\n",
      "Underbarrel\n",
      "['screenshot.png']\n",
      "Base\n",
      "['screenshot.png']\n"
     ]
    },
    {
     "data": {
      "image/png": "[encoded data removed]",
      "text/plain": [
       "<Figure size 432x288 with 1 Axes>"
      ]
     },
     "metadata": {
      "needs_background": "light"
     },
     "output_type": "display_data"
    }
   ],
   "source": [
    "import cv2\n",
    "\n",
    "from os import listdir\n",
    "# from os.path import isfile, join\n",
    "\n",
    "# from color_classifier import *\n",
    "\n",
    "from image_helpers import *\n",
    "\n",
    "import matplotlib.pyplot as plt\n",
    "\n",
    "# import csv\n",
    "\n",
    "# stats table coordinates\n",
    "x0,x1,y0,y1 = (195,490,831,970)\n",
    "\n",
    "coords = {\n",
    "    'stats_table' : (195,490,831,970),\n",
    "    \n",
    "}\n",
    "\n",
    "categories = ['Accuracy','Damage','Range','Fire Rate','Mobility','Control']\n",
    "\n",
    "csv_header = ['Weapon','Category','Attachment','Accuracy','Damage','Range','Fire Rate','Mobility','Control']\n",
    "\n",
    "\n",
    "rows = []\n",
    "classes = listdir('data/Guns/')\n",
    "classes.remove(\".DS_Store\")\n",
    "print(classes)\n",
    "for wep_class in classes:\n",
    "    guns = listdir('data/Guns/{}'.format(wep_class))\n",
    "    guns.remove(\".DS_Store\")\n",
    "    print(guns)\n",
    "    for gun in guns:\n",
    "        categories = listdir('data/Guns/{}/{}'.format(wep_class,gun))\n",
    "        categories.remove(\".DS_Store\")\n",
    "        print(categories)\n",
    "        for category in categories:\n",
    "            attachments = listdir('data/Guns/{}/{}/{}'.format(wep_class,gun,category))\n",
    "            print(category)\n",
    "            print(attachments)\n",
    "            for attachment in attachments:\n",
    "                path = 'data/Guns/{}/{}/{}/{}'.format(wep_class,gun,category,attachment)\n",
    "                img = cv2.imread(path,0)\n",
    "                cropped = halfsize(img)\n",
    "                plt.imshow(cropped)\n",
    "                stats_window = img[y0:y1,x0:x1]\n",
    "                plt.imshow(stats_window,'gray')"
   ]
  },
  {
   "cell_type": "code",
   "execution_count": null,
   "metadata": {},
   "outputs": [],
   "source": []
  }
 ],
 "metadata": {
  "kernelspec": {
   "display_name": "Python 3",
   "language": "python",
   "name": "python3"
  },
  "language_info": {
   "codemirror_mode": {
    "name": "ipython",
    "version": 3
   },
   "file_extension": ".py",
   "mimetype": "text/x-python",
   "name": "python",
   "nbconvert_exporter": "python",
   "pygments_lexer": "ipython3",
   "version": "3.7.3"
  }
 },
 "nbformat": 4,
 "nbformat_minor": 2
}
