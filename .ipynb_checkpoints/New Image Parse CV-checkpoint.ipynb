{
 "cells": [
  {
   "cell_type": "code",
   "execution_count": 1,
   "metadata": {},
   "outputs": [],
   "source": [
    "import cv2\n",
    "\n",
    "from os import listdir\n",
    "\n",
    "from color_classifier import *\n",
    "\n",
    "from image_helpers import *\n",
    "\n",
    "import pytesseract as tess\n",
    "\n",
    "\n",
    "coords = {\n",
    "    'stats_table' : (195, 490, 831, 970),\n",
    "    'Name' : (1550, 1870, 175, 205),\n",
    "}\n",
    "\n",
    "\n",
    "categories = ['Accuracy','Damage','Range','Fire Rate','Mobility','Control']\n",
    "\n",
    "csv_header = ['Class', 'Weapon','Category','Attachment','Accuracy','Damage','Range','Fire Rate','Mobility','Control']\n",
    "\n",
    "\n",
    "rows = []\n",
    "classes = listdir('data/Guns/')\n",
    "if '.DS_Store' in classes:\n",
    "    classes.remove(\".DS_Store\")\n",
    "for wep_class in classes:\n",
    "    guns = listdir('data/Guns/{}'.format(wep_class))\n",
    "    if '.DS_Store' in guns:\n",
    "        guns.remove(\".DS_Store\")\n",
    "    for gun in guns:\n",
    "        categories = listdir('data/Guns/{}/{}'.format(wep_class, gun))\n",
    "        if '.DS_Store' in categories:\n",
    "            categories.remove(\".DS_Store\")\n",
    "        for category in categories:\n",
    "            attachments = listdir('data/Guns/{}/{}/{}'.format(wep_class, gun, category))\n",
    "            if '.DS_Store' in attachments:\n",
    "                attachments.remove('.DS_Store')\n",
    "            for attachment in attachments:\n",
    "                path = 'data/Guns/{}/{}/{}/{}'.format(wep_class, gun, category, attachment)\n",
    "                img = cv2.imread(path, 0)\n",
    "                \n",
    "                x0,x1,y0,y1 = coords['stats_table']\n",
    "                stats_window = img[y0:y1,x0:x1]\n",
    "                \n",
    "                x0,x1,y0,y1 = coords['Name']\n",
    "                attachment_window = img[y0:y1,x0:x1]\n",
    "                att_name = tess.image_to_string(attachment_window)\n",
    "                \n",
    "                stat_lines = []    \n",
    "                slice_size = round(stats_window.shape[0]/6)\n",
    "                for i in range(0,6):\n",
    "                    start = i * slice_size\n",
    "                    end = start + slice_size\n",
    "                    stat = stats_window[start:end,:]\n",
    "                    stat_lines.append(stat)\n",
    "                \n",
    "                attachment_stats = []\n",
    "                for i,each in enumerate(stat_lines):\n",
    "                    mid = round(each.shape[0]/2)\n",
    "                    arr = each[mid,:]\n",
    "                    attachment_stats.append(color_classifier(arr,category))\n",
    "                \n",
    "                row = [wep_class, gun, category, att_name] + attachment_stats\n",
    "                rows.append(row)\n",
    "                \n",
    "with open(\"attachment_data2.csv\",\"w\") as file:\n",
    "    writer = csv.writer(file)\n",
    "    writer.writerow(csv_header)\n",
    "    for row in rows:\n",
    "        writer.writerow(row)"
   ]
  },
  {
   "cell_type": "code",
   "execution_count": 131,
   "metadata": {},
   "outputs": [
    {
     "data": {
      "text/plain": [
       "[['Rifles',\n",
       "  'Aug',\n",
       "  'Barrel',\n",
       "  '407mm Lightweight',\n",
       "  0.7,\n",
       "  0.0,\n",
       "  3.87,\n",
       "  0.0,\n",
       "  -2.11,\n",
       "  0.0],\n",
       " ['Rifles',\n",
       "  'Aug',\n",
       "  'Barrel',\n",
       "  '622mm Long Barrel',\n",
       "  3.87,\n",
       "  0.0,\n",
       "  7.04,\n",
       "  0.0,\n",
       "  -5.99,\n",
       "  4.93],\n",
       " ['Rifles',\n",
       "  'Aug',\n",
       "  'Barrel',\n",
       "  '407mm Extended Barrel',\n",
       "  1.76,\n",
       "  0.0,\n",
       "  3.87,\n",
       "  0.0,\n",
       "  -1.41,\n",
       "  1.76],\n",
       " ['Rifles',\n",
       "  'Aug',\n",
       "  'Underbarrel',\n",
       "  'Commando Foregrip',\n",
       "  3.87,\n",
       "  0.0,\n",
       "  1.76,\n",
       "  0.0,\n",
       "  -2.11,\n",
       "  2.82],\n",
       " ['Rifles', 'Aug', 'Laser', 'SmW Laser', 3.87, 0.0, 0.0, 0.0, 2.11, -1.06],\n",
       " ['Rifles', 'Aug', 'Muzzle', 'Compensator', 1.76, 0.0, 0.0, 0.0, -1.06, 2.82],\n",
       " ['Rifles',\n",
       "  'Aug',\n",
       "  'Stock',\n",
       "  'FTAC Ultralight Hollow',\n",
       "  -1.06,\n",
       "  0.0,\n",
       "  0.0,\n",
       "  0.0,\n",
       "  3.87,\n",
       "  -2.46],\n",
       " ['Rifles',\n",
       "  'Aug',\n",
       "  'Ammunition',\n",
       "  '5.56 NATO 60-Round Drums',\n",
       "  -2.11,\n",
       "  8.1,\n",
       "  9.86,\n",
       "  -3.87,\n",
       "  -4.93,\n",
       "  -4.93],\n",
       " ['Rifles',\n",
       "  'Aug',\n",
       "  'Grip',\n",
       "  'Granulated Grip Tape',\n",
       "  1.76,\n",
       "  0.0,\n",
       "  0.0,\n",
       "  0.0,\n",
       "  -2.11,\n",
       "  1.76],\n",
       " ['Rifles', 'Aug', 'Base', '', 65.14, 53.87, 58.1, 75.0, 63.03, 70.07]]"
      ]
     },
     "execution_count": 131,
     "metadata": {},
     "output_type": "execute_result"
    }
   ],
   "source": [
    "rows"
   ]
  },
  {
   "cell_type": "code",
   "execution_count": 125,
   "metadata": {},
   "outputs": [
    {
     "name": "stdout",
     "output_type": "stream",
     "text": [
      "407mm Extended Barrel\n",
      "ede mEL\n"
     ]
    },
    {
     "data": {
      "image/png": "[encoded data removed]",
      "text/plain": [
       "<Figure size 432x288 with 1 Axes>"
      ]
     },
     "metadata": {
      "needs_background": "light"
     },
     "output_type": "display_data"
    }
   ],
   "source": [
    "import pytesseract as tess\n",
    "\n",
    "path = 'data/Guns/Rifles/Aug/Barrel/screenshot2.png'\n",
    "img = cv2.imread(path, 0)\n",
    "cropped = halfsize(img)\n",
    "\n",
    "x0, x1, y0, y1 = (1550, 1870, 175, 205)\n",
    "attachment_window = img[y0:y1,x0:x1]\n",
    "ret, thresh = cv2.threshold(attachment_window, 127, 255, cv2.THRESH_BINARY_INV)\n",
    "print(tess.image_to_string(attachment_window))\n",
    "plt.imshow(thresh,'gray')\n",
    "print(tess.image_to_string(thresh))\n",
    "# plt.imshow(attachment_window,'gray')"
   ]
  },
  {
   "cell_type": "code",
   "execution_count": null,
   "metadata": {},
   "outputs": [],
   "source": []
  }
 ],
 "metadata": {
  "kernelspec": {
   "display_name": "Python 3",
   "language": "python",
   "name": "python3"
  },
  "language_info": {
   "codemirror_mode": {
    "name": "ipython",
    "version": 3
   },
   "file_extension": ".py",
   "mimetype": "text/x-python",
   "name": "python",
   "nbconvert_exporter": "python",
   "pygments_lexer": "ipython3",
   "version": "3.7.3"
  }
 },
 "nbformat": 4,
 "nbformat_minor": 2
}
