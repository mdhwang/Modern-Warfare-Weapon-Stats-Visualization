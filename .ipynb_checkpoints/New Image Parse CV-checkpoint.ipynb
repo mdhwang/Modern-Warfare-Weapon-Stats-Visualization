{
 "cells": [
  {
   "cell_type": "code",
   "execution_count": 100,
   "metadata": {},
   "outputs": [
    {
     "name": "stdout",
     "output_type": "stream",
     "text": [
      "['Rifles']\n",
      "Barrel\n",
      "['.DS_Store', 'screenshot.png', 'screenshot1.png', 'screenshot2.png']\n"
     ]
    },
    {
     "ename": "AttributeError",
     "evalue": "'NoneType' object has no attribute 'shape'",
     "output_type": "error",
     "traceback": [
      "\u001b[0;31m---------------------------------------------------------------------------\u001b[0m",
      "\u001b[0;31mAttributeError\u001b[0m                            Traceback (most recent call last)",
      "\u001b[0;32m<ipython-input-100-2c1973a4ded2>\u001b[0m in \u001b[0;36m<module>\u001b[0;34m\u001b[0m\n\u001b[1;32m     49\u001b[0m                 \u001b[0mpath\u001b[0m \u001b[0;34m=\u001b[0m \u001b[0;34m'data/Guns/{}/{}/{}/{}'\u001b[0m\u001b[0;34m.\u001b[0m\u001b[0mformat\u001b[0m\u001b[0;34m(\u001b[0m\u001b[0mwep_class\u001b[0m\u001b[0;34m,\u001b[0m \u001b[0mgun\u001b[0m\u001b[0;34m,\u001b[0m \u001b[0mcategory\u001b[0m\u001b[0;34m,\u001b[0m \u001b[0mattachment\u001b[0m\u001b[0;34m)\u001b[0m\u001b[0;34m\u001b[0m\u001b[0;34m\u001b[0m\u001b[0m\n\u001b[1;32m     50\u001b[0m                 \u001b[0mimg\u001b[0m \u001b[0;34m=\u001b[0m \u001b[0mcv2\u001b[0m\u001b[0;34m.\u001b[0m\u001b[0mimread\u001b[0m\u001b[0;34m(\u001b[0m\u001b[0mpath\u001b[0m\u001b[0;34m,\u001b[0m \u001b[0;36m0\u001b[0m\u001b[0;34m)\u001b[0m\u001b[0;34m\u001b[0m\u001b[0;34m\u001b[0m\u001b[0m\n\u001b[0;32m---> 51\u001b[0;31m                 \u001b[0mcropped\u001b[0m \u001b[0;34m=\u001b[0m \u001b[0mhalfsize\u001b[0m\u001b[0;34m(\u001b[0m\u001b[0mimg\u001b[0m\u001b[0;34m)\u001b[0m\u001b[0;34m\u001b[0m\u001b[0;34m\u001b[0m\u001b[0m\n\u001b[0m\u001b[1;32m     52\u001b[0m \u001b[0;34m\u001b[0m\u001b[0m\n\u001b[1;32m     53\u001b[0m                 \u001b[0mx0\u001b[0m\u001b[0;34m,\u001b[0m\u001b[0mx1\u001b[0m\u001b[0;34m,\u001b[0m\u001b[0my0\u001b[0m\u001b[0;34m,\u001b[0m\u001b[0my1\u001b[0m \u001b[0;34m=\u001b[0m \u001b[0mcoords\u001b[0m\u001b[0;34m[\u001b[0m\u001b[0;34m'stats_table'\u001b[0m\u001b[0;34m]\u001b[0m\u001b[0;34m\u001b[0m\u001b[0;34m\u001b[0m\u001b[0m\n",
      "\u001b[0;32m~/projects/Modern-Warfare-Weapon-Stats-Visualization/image_helpers.py\u001b[0m in \u001b[0;36mhalfsize\u001b[0;34m(img)\u001b[0m\n\u001b[1;32m     15\u001b[0m \u001b[0;34m\u001b[0m\u001b[0m\n\u001b[1;32m     16\u001b[0m \u001b[0;32mdef\u001b[0m \u001b[0mhalfsize\u001b[0m\u001b[0;34m(\u001b[0m\u001b[0mimg\u001b[0m\u001b[0;34m)\u001b[0m\u001b[0;34m:\u001b[0m\u001b[0;34m\u001b[0m\u001b[0;34m\u001b[0m\u001b[0m\n\u001b[0;32m---> 17\u001b[0;31m     \u001b[0my\u001b[0m\u001b[0;34m,\u001b[0m\u001b[0mx\u001b[0m \u001b[0;34m=\u001b[0m \u001b[0mimg\u001b[0m\u001b[0;34m.\u001b[0m\u001b[0mshape\u001b[0m\u001b[0;34m\u001b[0m\u001b[0;34m\u001b[0m\u001b[0m\n\u001b[0m\u001b[1;32m     18\u001b[0m     \u001b[0mhalf\u001b[0m \u001b[0;34m=\u001b[0m \u001b[0mint\u001b[0m\u001b[0;34m(\u001b[0m\u001b[0mx\u001b[0m\u001b[0;34m/\u001b[0m\u001b[0;36m2\u001b[0m\u001b[0;34m)\u001b[0m\u001b[0;34m\u001b[0m\u001b[0;34m\u001b[0m\u001b[0m\n\u001b[1;32m     19\u001b[0m     \u001b[0mcropped\u001b[0m \u001b[0;34m=\u001b[0m \u001b[0mimg\u001b[0m\u001b[0;34m[\u001b[0m\u001b[0;36m0\u001b[0m\u001b[0;34m:\u001b[0m\u001b[0my\u001b[0m\u001b[0;34m,\u001b[0m\u001b[0;36m0\u001b[0m\u001b[0;34m:\u001b[0m\u001b[0mhalf\u001b[0m\u001b[0;34m]\u001b[0m\u001b[0;34m\u001b[0m\u001b[0;34m\u001b[0m\u001b[0m\n",
      "\u001b[0;31mAttributeError\u001b[0m: 'NoneType' object has no attribute 'shape'"
     ]
    }
   ],
   "source": [
    "import cv2\n",
    "\n",
    "from os import listdir\n",
    "# from os.path import isfile, join\n",
    "\n",
    "from color_classifier import *\n",
    "\n",
    "from image_helpers import *\n",
    "\n",
    "import matplotlib.pyplot as plt\n",
    "\n",
    "import pytesseract as tess\n",
    "\n",
    "# import csv\n",
    "\n",
    "# stats table coordinates\n",
    "x0,x1,y0,y1 = (195,490,831,970)\n",
    "\n",
    "\n",
    "coords = {\n",
    "    'stats_table' : (195, 490, 831, 970),\n",
    "    'Barrel' : (500, 700, 260, 285),\n",
    "    'Name' : (1550, 1870, 175, 205),\n",
    "    \n",
    "    \n",
    "}\n",
    "\n",
    "\n",
    "categories = ['Accuracy','Damage','Range','Fire Rate','Mobility','Control']\n",
    "\n",
    "csv_header = ['Weapon','Category','Attachment','Accuracy','Damage','Range','Fire Rate','Mobility','Control']\n",
    "\n",
    "\n",
    "rows = []\n",
    "classes = listdir('data/Guns/')\n",
    "classes.remove(\".DS_Store\")\n",
    "print(classes)\n",
    "for wep_class in classes:\n",
    "    guns = listdir('data/Guns/{}'.format(wep_class))\n",
    "    guns.remove(\".DS_Store\")\n",
    "#     print(guns)\n",
    "    for gun in guns:\n",
    "        categories = listdir('data/Guns/{}/{}'.format(wep_class, gun))\n",
    "        categories.remove(\".DS_Store\")\n",
    "#         print(categories)\n",
    "        for category in categories:\n",
    "            attachments = listdir('data/Guns/{}/{}/{}'.format(wep_class, gun, category))\n",
    "            print(category)\n",
    "            print(attachments)\n",
    "            for attachment in attachments:\n",
    "                path = 'data/Guns/{}/{}/{}/{}'.format(wep_class, gun, category, attachment)\n",
    "                img = cv2.imread(path, 0)\n",
    "                cropped = halfsize(img)\n",
    "                \n",
    "                x0,x1,y0,y1 = coords['stats_table']\n",
    "                stats_window = img[y0:y1,x0:x1]\n",
    "                \n",
    "                x0,x1,y0,y1 = coords['Name']\n",
    "                attachment_window = img[y0:y1,x0:x1]\n",
    "                ret, thresh = cv2.threshold(attachment_window, 127, 255, cv2.THRESH_BINARY_INV)\n",
    "                att_name = tess.image_to_string(thresh)\n",
    "                \n",
    "                print(att_name)\n",
    "                \n",
    "                plt.imshow(attachment_name,'gray')\n",
    "                \n",
    "                \n",
    "                stat_lines = []    \n",
    "                slice_size = round(stats_window.shape[0]/6)\n",
    "                for i in range(0,6):\n",
    "                    start = i * slice_size\n",
    "                    end = start + slice_size\n",
    "                    stat = stats_window[start:end,:]\n",
    "                    stat_lines.append(stat)\n",
    "                \n",
    "                attachment_stats = []\n",
    "                for i,each in enumerate(stat_lines):\n",
    "                    mid = round(each.shape[0]/2)\n",
    "                    arr = each[mid,:]\n",
    "                    attachment_stats.append(color_classifier(arr,category))\n",
    "\n",
    "                print(attachment_stats)"
   ]
  },
  {
   "cell_type": "code",
   "execution_count": 99,
   "metadata": {},
   "outputs": [
    {
     "name": "stdout",
     "output_type": "stream",
     "text": [
      "5.56 NATO 60-Round Drums\n"
     ]
    },
    {
     "data": {
      "text/plain": [
       "<matplotlib.image.AxesImage at 0x13260d978>"
      ]
     },
     "execution_count": 99,
     "metadata": {},
     "output_type": "execute_result"
    },
    {
     "data": {
      "image/png": "[encoded data removed]",
      "text/plain": [
       "<Figure size 432x288 with 1 Axes>"
      ]
     },
     "metadata": {
      "needs_background": "light"
     },
     "output_type": "display_data"
    }
   ],
   "source": [
    "import pytesseract as tess\n",
    "\n",
    "path = 'data/Guns/Rifles/Aug/Ammunition/screenshot.png'\n",
    "img = cv2.imread(path, 0)\n",
    "cropped = halfsize(img)\n",
    "\n",
    "x0, x1, y0, y1 = (1550, 1870, 175, 205)\n",
    "attachment_window = img[y0:y1,x0:x1]\n",
    "ret, thresh = cv2.threshold(attachment_window, 127, 255, cv2.THRESH_BINARY_INV)\n",
    "print(tess.image_to_string(thresh))\n",
    "plt.imshow(thresh,'gray')\n",
    "# plt.imshow(attachment_window,'gray')"
   ]
  },
  {
   "cell_type": "code",
   "execution_count": null,
   "metadata": {},
   "outputs": [],
   "source": []
  }
 ],
 "metadata": {
  "kernelspec": {
   "display_name": "Python 3",
   "language": "python",
   "name": "python3"
  },
  "language_info": {
   "codemirror_mode": {
    "name": "ipython",
    "version": 3
   },
   "file_extension": ".py",
   "mimetype": "text/x-python",
   "name": "python",
   "nbconvert_exporter": "python",
   "pygments_lexer": "ipython3",
   "version": "3.7.3"
  }
 },
 "nbformat": 4,
 "nbformat_minor": 2
}
