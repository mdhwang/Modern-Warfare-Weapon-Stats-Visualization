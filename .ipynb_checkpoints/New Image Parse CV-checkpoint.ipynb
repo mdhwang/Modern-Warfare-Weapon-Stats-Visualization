{
 "cells": [
  {
   "cell_type": "code",
   "execution_count": 15,
   "metadata": {},
   "outputs": [
    {
     "name": "stdout",
     "output_type": "stream",
     "text": [
      "['Rifles']\n",
      "['Aug']\n",
      "['Barrel', 'Underbarrel', 'Base']\n",
      "['screenshot.png']\n",
      "['screenshot.png']\n",
      "['screenshot.png']\n"
     ]
    }
   ],
   "source": [
    "import cv2\n",
    "\n",
    "from os import listdir\n",
    "# from os.path import isfile, join\n",
    "\n",
    "# from color_classifier import *\n",
    "\n",
    "# import csv\n",
    "\n",
    "rows = []\n",
    "classes = listdir('data/Guns/')\n",
    "classes.remove(\".DS_Store\")\n",
    "print(classes)\n",
    "for wep_class in classes:\n",
    "    guns = listdir('data/Guns/{}'.format(wep_class))\n",
    "    guns.remove(\".DS_Store\")\n",
    "    print(guns)\n",
    "    for gun in guns:\n",
    "        categories = listdir('data/Guns/{}/{}'.format(wep_class,gun))\n",
    "        categories.remove(\".DS_Store\")\n",
    "        print(categories)\n",
    "        for category in categories:\n",
    "            attachments = listdir('data/Guns/{}/{}/{}'.format(wep_class,gun,category))\n",
    "            print(attachments)"
   ]
  },
  {
   "cell_type": "code",
   "execution_count": null,
   "metadata": {},
   "outputs": [],
   "source": []
  }
 ],
 "metadata": {
  "kernelspec": {
   "display_name": "Python 3",
   "language": "python",
   "name": "python3"
  },
  "language_info": {
   "codemirror_mode": {
    "name": "ipython",
    "version": 3
   },
   "file_extension": ".py",
   "mimetype": "text/x-python",
   "name": "python",
   "nbconvert_exporter": "python",
   "pygments_lexer": "ipython3",
   "version": "3.7.3"
  }
 },
 "nbformat": 4,
 "nbformat_minor": 2
}
