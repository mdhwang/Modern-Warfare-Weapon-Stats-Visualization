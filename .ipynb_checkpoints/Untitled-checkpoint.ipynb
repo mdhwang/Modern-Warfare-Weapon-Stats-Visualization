{
 "cells": [
  {
   "cell_type": "code",
   "execution_count": 1,
   "metadata": {},
   "outputs": [],
   "source": [
    "import cv2\n",
    "\n",
    "from os import listdir\n",
    "from os.path import isfile, join\n",
    "\n",
    "from color_classifier import *\n",
    "\n",
    "import json\n",
    "import csv\n",
    "\n",
    "# weapon = input(\"What Gun? : \")\n",
    "weapon = \"M4A1\"\n",
    "mypath = 'data/images/{}'.format(weapon)\n",
    "files = [f for f in listdir(mypath) if isfile(join(mypath, f))]\n",
    "\n",
    "x0,x1,y0,y1 = (195,490,831,970)\n",
    "categories = ['Accuracy','Damage','Range','Fire Rate','Mobility','Control']\n",
    "types = ['MUZZLE','BARREL','UNDERBARREL','GRIP','STOCK','LASER','BASE']\n",
    "csv_header = ['Weapon','Category','Attachment','Acc+','Acc-','Dmg+','Dmg-','Rng+','Rng-','Mob+','Mob-','Ctrl+','Ctrl-']\n",
    "\n",
    "attachment_data = {}\n",
    "attachment_data[weapon] = {}\n",
    "for each in types:\n",
    "    attachment_data[weapon][each] = {}\n",
    "\n",
    "for attachment in files:\n",
    "    category = attachment.split('-')[1]\n",
    "    name = '_'.join(attachment.split('.')[0].split('-')[2:])\n",
    "    path = 'data/images/{}/{}'.format(weapon,attachment)\n",
    "    img = cv2.imread(path,0)\n",
    "    crop = img[y0:y1,x0:x1]\n",
    "    crop_path = 'images/cropped/{}/{}'.format(weapon,attachment)\n",
    "    cv2.imwrite(crop_path, crop) \n",
    "    slice_size = round(crop.shape[0]/6)\n",
    "    stat_lines = []\n",
    "    for i in range(0,6):\n",
    "        start = i * slice_size\n",
    "        end = start + slice_size\n",
    "        stat = crop[start:end,:]\n",
    "        stat_lines.append(stat)\n",
    "\n",
    "    attachment_stats = []\n",
    "    for i,each in enumerate(stat_lines):\n",
    "        mid = round(each.shape[0]/2)\n",
    "        arr = each[mid,:]\n",
    "        stats = color_classifier(arr)\n",
    "        attachment_stats.append(stats[0])\n",
    "        attachment_stats.append(stats[1])\n",
    "    \n",
    "    attachment_data[weapon][category][name] = attachment_stats\n",
    "    row = [weapon,category,name]+attachment_stats\n",
    "\n",
    "# with open(\"attachment_data.json\", \"w\") as file:\n",
    "#     json.dump(attachment_data, file)\n",
    "\n",
    "with open(\"attachment_data.csv\",\"w\") as file:\n",
    "    writer = csv.writer(file)\n"
   ]
  },
  {
   "cell_type": "code",
   "execution_count": 2,
   "metadata": {},
   "outputs": [
    {
     "data": {
      "text/plain": [
       "['M4A1',\n",
       " 'BARREL',\n",
       " 'FSS_14',\n",
       " 0.0,\n",
       " 0.0,\n",
       " 0.0,\n",
       " 0.0,\n",
       " 0.0,\n",
       " 3.17,\n",
       " 0.0,\n",
       " 0.0,\n",
       " 2.82,\n",
       " 0.0,\n",
       " 0.0,\n",
       " 0.0]"
      ]
     },
     "execution_count": 2,
     "metadata": {},
     "output_type": "execute_result"
    }
   ],
   "source": [
    "row"
   ]
  },
  {
   "cell_type": "code",
   "execution_count": null,
   "metadata": {},
   "outputs": [],
   "source": []
  }
 ],
 "metadata": {
  "kernelspec": {
   "display_name": "Python 3",
   "language": "python",
   "name": "python3"
  },
  "language_info": {
   "codemirror_mode": {
    "name": "ipython",
    "version": 3
   },
   "file_extension": ".py",
   "mimetype": "text/x-python",
   "name": "python",
   "nbconvert_exporter": "python",
   "pygments_lexer": "ipython3",
   "version": "3.7.3"
  }
 },
 "nbformat": 4,
 "nbformat_minor": 2
}
