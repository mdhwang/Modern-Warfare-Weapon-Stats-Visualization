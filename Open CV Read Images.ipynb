{
 "cells": [
  {
   "cell_type": "code",
   "execution_count": 1,
   "metadata": {},
   "outputs": [],
   "source": [
    "import cv2\n",
    "import matplotlib.pyplot as plt\n",
    "%matplotlib inline\n",
    "import numpy as np"
   ]
  },
  {
   "cell_type": "code",
   "execution_count": 46,
   "metadata": {},
   "outputs": [],
   "source": [
    "filepath = 'data/test/single.png'\n",
    "b = 'data/test/break.png'\n",
    "full = 'data/test/No_Titles.png'"
   ]
  },
  {
   "cell_type": "code",
   "execution_count": 54,
   "metadata": {},
   "outputs": [],
   "source": [
    "img = cv2.imread(filepath,0)\n",
    "# gray = cv2.cvtColor(img,cv2.COLOR_BGR2GRAY)\n"
   ]
  },
  {
   "cell_type": "code",
   "execution_count": 55,
   "metadata": {},
   "outputs": [],
   "source": [
    "br = cv2.imread(b,0)\n",
    "# bgray = cv2.cvtColor(br,cv2.COLOR_BGR2GRAY)"
   ]
  },
  {
   "cell_type": "code",
   "execution_count": 73,
   "metadata": {},
   "outputs": [
    {
     "data": {
      "image/png": "[encoded data removed]",
      "text/plain": [
       "<Figure size 432x288 with 1 Axes>"
      ]
     },
     "metadata": {
      "needs_background": "light"
     },
     "output_type": "display_data"
    }
   ],
   "source": [
    "five = cv2.imread(full,0)\n",
    "plt.imshow(five)\n",
    "slice_size = round(five.shape[0]/5)\n",
    "lib = []\n",
    "for i in range(0,5):\n",
    "    start = i * slice_size\n",
    "    end = start + slice_size\n",
    "    lib.append(five[start:end,:])"
   ]
  },
  {
   "cell_type": "code",
   "execution_count": 76,
   "metadata": {},
   "outputs": [
    {
     "data": {
      "text/plain": [
       "<matplotlib.image.AxesImage at 0x127785b00>"
      ]
     },
     "execution_count": 76,
     "metadata": {},
     "output_type": "execute_result"
    },
    {
     "data": {
      "image/png": "[encoded data removed]",
      "text/plain": [
       "<Figure size 432x288 with 1 Axes>"
      ]
     },
     "metadata": {
      "needs_background": "light"
     },
     "output_type": "display_data"
    }
   ],
   "source": [
    "plt.imshow(lib[0])\n",
    "plt.imshow(lib[1])\n"
   ]
  },
  {
   "cell_type": "code",
   "execution_count": 57,
   "metadata": {},
   "outputs": [],
   "source": [
    "middle = round(gray.shape[0]/2)"
   ]
  },
  {
   "cell_type": "code",
   "execution_count": 58,
   "metadata": {},
   "outputs": [],
   "source": [
    "X = gray[middle]"
   ]
  },
  {
   "cell_type": "code",
   "execution_count": 59,
   "metadata": {},
   "outputs": [],
   "source": [
    "def color_classifier(segment):\n",
    "    colors = {}\n",
    "    values = ['border','base','boost','break','remain']\n",
    "    for each in values:\n",
    "        colors[each] = 0\n",
    "        \n",
    "    for each in segment:\n",
    "        if each < 40:\n",
    "            colors['border'] += 1\n",
    "        elif each < 70:\n",
    "            colors['remain'] += 1\n",
    "        elif each < 105:\n",
    "            colors['break'] += 1\n",
    "        elif each < 145:\n",
    "            colors['base'] += 1\n",
    "        else:\n",
    "            colors['boost'] += 1\n",
    "    total = colors['base'] + colors['boost'] + colors['break'] + colors['remain']\n",
    "    value = colors['base'] + colors['boost'] - colors['break']\n",
    "    add = colors['boost']\n",
    "    weak = colors['break']\n",
    "    value_pct = round(value*100 / total,2)\n",
    "    add_pct = round(add*100 / total,2)\n",
    "    weak_pct = round(weak*100 / total,2)\n",
    "    return value_pct, add_pct, weak_pct,colors\n",
    "            "
   ]
  },
  {
   "cell_type": "code",
   "execution_count": 60,
   "metadata": {},
   "outputs": [],
   "source": [
    "a = color_classifier(X)"
   ]
  },
  {
   "cell_type": "code",
   "execution_count": 61,
   "metadata": {},
   "outputs": [
    {
     "data": {
      "text/plain": [
       "(73.28,\n",
       " 10.19,\n",
       " 0.0,\n",
       " {'border': 11, 'base': 229, 'boost': 37, 'break': 0, 'remain': 97})"
      ]
     },
     "execution_count": 61,
     "metadata": {},
     "output_type": "execute_result"
    }
   ],
   "source": [
    "a"
   ]
  },
  {
   "cell_type": "code",
   "execution_count": 62,
   "metadata": {},
   "outputs": [],
   "source": [
    "b = color_classifier(bgray[14])\n",
    "\n"
   ]
  },
  {
   "cell_type": "code",
   "execution_count": 63,
   "metadata": {},
   "outputs": [
    {
     "data": {
      "text/plain": [
       "(66.38,\n",
       " 0.0,\n",
       " 3.47,\n",
       " {'border': 18, 'base': 322, 'boost': 0, 'break': 16, 'remain': 123})"
      ]
     },
     "execution_count": 63,
     "metadata": {},
     "output_type": "execute_result"
    }
   ],
   "source": [
    "b"
   ]
  },
  {
   "cell_type": "code",
   "execution_count": null,
   "metadata": {},
   "outputs": [],
   "source": []
  },
  {
   "cell_type": "code",
   "execution_count": null,
   "metadata": {},
   "outputs": [],
   "source": []
  },
  {
   "cell_type": "code",
   "execution_count": null,
   "metadata": {},
   "outputs": [],
   "source": []
  }
 ],
 "metadata": {
  "kernelspec": {
   "display_name": "Python 3",
   "language": "python",
   "name": "python3"
  },
  "language_info": {
   "codemirror_mode": {
    "name": "ipython",
    "version": 3
   },
   "file_extension": ".py",
   "mimetype": "text/x-python",
   "name": "python",
   "nbconvert_exporter": "python",
   "pygments_lexer": "ipython3",
   "version": "3.7.3"
  }
 },
 "nbformat": 4,
 "nbformat_minor": 2
}
