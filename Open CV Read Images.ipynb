{
 "cells": [
  {
   "cell_type": "code",
   "execution_count": 3,
   "metadata": {},
   "outputs": [],
   "source": [
    "import cv2\n",
    "import matplotlib.pyplot as plt\n",
    "%matplotlib inline\n",
    "import numpy as np"
   ]
  },
  {
   "cell_type": "code",
   "execution_count": 4,
   "metadata": {},
   "outputs": [],
   "source": [
    "filepath = 'data/test/single.png'\n",
    "b = 'data/test/break.png'"
   ]
  },
  {
   "cell_type": "code",
   "execution_count": 5,
   "metadata": {},
   "outputs": [],
   "source": [
    "img = cv2.imread(filepath)\n",
    "gray = cv2.cvtColor(img,cv2.COLOR_BGR2GRAY)\n"
   ]
  },
  {
   "cell_type": "code",
   "execution_count": 6,
   "metadata": {},
   "outputs": [],
   "source": [
    "br = cv2.imread(b)\n",
    "bgray = cv2.cvtColor(br,cv2.COLOR_BGR2GRAY)"
   ]
  },
  {
   "cell_type": "code",
   "execution_count": 7,
   "metadata": {},
   "outputs": [
    {
     "data": {
      "text/plain": [
       "array([ 10,  10,   4,  13,  63, 120, 133, 130, 130, 130, 130, 130, 130,\n",
       "       130, 130, 131, 131, 131, 131, 131, 131, 131, 131, 131, 131, 131,\n",
       "       131, 131, 131, 131, 132, 131, 131, 131, 131, 131, 131, 131, 131,\n",
       "       131, 131, 131, 131, 131, 131, 132, 131, 131, 131, 131, 131, 131,\n",
       "       131, 131, 131, 131, 132, 131, 131, 131, 131, 131, 131, 131, 131,\n",
       "       131, 131, 131, 131, 131, 131, 131, 131, 131, 131, 131, 131, 131,\n",
       "       131, 131, 131, 131, 131, 131, 131, 131, 132, 131, 131, 131, 131,\n",
       "       131, 131, 131, 131, 131, 131, 131, 131, 131, 131, 131, 131, 131,\n",
       "       131, 131, 131, 131, 131, 131, 131, 131, 131, 131, 131, 131, 131,\n",
       "       131, 131, 131, 131, 131, 131, 131, 131, 131, 131, 131, 131, 131,\n",
       "       131, 131, 131, 131, 131, 131, 131, 131, 131, 131, 131, 131, 131,\n",
       "       131, 131, 131, 132, 131, 131, 131, 131, 131, 131, 131, 131, 131,\n",
       "       131, 132, 131, 131, 131, 131, 131, 131, 131, 131, 132, 132, 131,\n",
       "       131, 131, 131, 131, 131, 131, 131, 131, 131, 131, 131, 131, 131,\n",
       "       131, 131, 131, 131, 131, 132, 131, 131, 131, 131, 131, 131, 131,\n",
       "       131, 131, 131, 132, 132, 131, 131, 131, 131, 131, 131, 131, 131,\n",
       "       131, 131, 131, 131, 131, 131, 131, 131, 131, 131, 131, 132, 132,\n",
       "       132, 132, 132, 132, 131, 131, 131, 131, 129, 126, 129, 140, 155,\n",
       "       169, 173, 168, 166, 166, 167, 168, 168, 168, 168, 168, 168, 168,\n",
       "       168, 169, 169, 168, 168, 168, 168, 168, 168, 168, 168, 169, 169,\n",
       "       168, 168, 168, 168, 168, 168, 168, 169, 166, 155, 120,  69,  58,\n",
       "        55,  57,  56,  57,  58,  56,  57,  57,  57,  57,  57,  58,  58,\n",
       "        58,  58,  58,  58,  57,  57,  57,  57,  57,  57,  57,  57,  57,\n",
       "        57,  57,  58,  58,  58,  58,  58,  58,  58,  58,  58,  57,  57,\n",
       "        57,  57,  57,  57,  57,  57,  57,  57,  57,  57,  58,  58,  58,\n",
       "        58,  58,  58,  58,  58,  58,  57,  57,  57,  57,  57,  57,  57,\n",
       "        57,  57,  57,  58,  58,  58,  58,  58,  58,  58,  58,  58,  57,\n",
       "        57,  57,  57,  57,  57,  57,  57,  57,  57,  57,  55,  56,  57,\n",
       "        57,  56,  48,  21,   4,  10,  11,  11,  11,  10], dtype=uint8)"
      ]
     },
     "execution_count": 7,
     "metadata": {},
     "output_type": "execute_result"
    }
   ],
   "source": [
    "gray[14]"
   ]
  },
  {
   "cell_type": "code",
   "execution_count": 8,
   "metadata": {},
   "outputs": [],
   "source": [
    "X = gray[14]"
   ]
  },
  {
   "cell_type": "code",
   "execution_count": 48,
   "metadata": {},
   "outputs": [],
   "source": [
    "def color_classifier(segment):\n",
    "    colors = {}\n",
    "    values = ['border','base','boost','break','remain']\n",
    "    for each in values:\n",
    "        colors[each] = 0\n",
    "        \n",
    "    for each in segment:\n",
    "        if each < 40:\n",
    "            colors['border'] += 1\n",
    "        elif each < 70:\n",
    "            colors['remain'] += 1\n",
    "        elif each < 105:\n",
    "            colors['break'] += 1\n",
    "        elif each < 145:\n",
    "            colors['base'] += 1\n",
    "        else:\n",
    "            colors['boost'] += 1\n",
    "    total = colors['base'] + colors['boost'] + colors['break'] + colors['remain']\n",
    "    value = colors['base'] + colors['boost'] - colors['break']\n",
    "    add = colors['boost']\n",
    "    weak = colors['break']\n",
    "    value_pct = round(value*100 / total,2)\n",
    "    add_pct = round(add*100 / total,2)\n",
    "    weak_pct = round(weak*100 / total,2)\n",
    "    return value_pct, add_pct, weak_pct,colors\n",
    "            "
   ]
  },
  {
   "cell_type": "code",
   "execution_count": 49,
   "metadata": {},
   "outputs": [],
   "source": [
    "a = color_classifier(X)"
   ]
  },
  {
   "cell_type": "code",
   "execution_count": 50,
   "metadata": {},
   "outputs": [
    {
     "data": {
      "text/plain": [
       "(73.28,\n",
       " 10.19,\n",
       " 0.0,\n",
       " {'border': 11, 'base': 229, 'boost': 37, 'break': 0, 'remain': 97})"
      ]
     },
     "execution_count": 50,
     "metadata": {},
     "output_type": "execute_result"
    }
   ],
   "source": [
    "a"
   ]
  },
  {
   "cell_type": "code",
   "execution_count": 46,
   "metadata": {},
   "outputs": [],
   "source": [
    "b = color_classifier(bgray[14])\n",
    "\n"
   ]
  },
  {
   "cell_type": "code",
   "execution_count": 47,
   "metadata": {},
   "outputs": [
    {
     "data": {
      "text/plain": [
       "(66.38,\n",
       " 0.0,\n",
       " 3.47,\n",
       " {'border': 18, 'base': 322, 'boost': 0, 'break': 16, 'remain': 123})"
      ]
     },
     "execution_count": 47,
     "metadata": {},
     "output_type": "execute_result"
    }
   ],
   "source": [
    "b"
   ]
  },
  {
   "cell_type": "code",
   "execution_count": null,
   "metadata": {},
   "outputs": [],
   "source": []
  },
  {
   "cell_type": "code",
   "execution_count": null,
   "metadata": {},
   "outputs": [],
   "source": []
  }
 ],
 "metadata": {
  "kernelspec": {
   "display_name": "Python 3",
   "language": "python",
   "name": "python3"
  },
  "language_info": {
   "codemirror_mode": {
    "name": "ipython",
    "version": 3
   },
   "file_extension": ".py",
   "mimetype": "text/x-python",
   "name": "python",
   "nbconvert_exporter": "python",
   "pygments_lexer": "ipython3",
   "version": "3.7.3"
  }
 },
 "nbformat": 4,
 "nbformat_minor": 2
}
