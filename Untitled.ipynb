{
 "cells": [
  {
   "cell_type": "code",
   "execution_count": 1,
   "metadata": {},
   "outputs": [],
   "source": [
    "import pandas as pd\n",
    "\n",
    "categories = ['   Accuracy','Damage','Range','Fire Rate','Mobility','Control']\n",
    "    \n",
    "formatting = {}\n",
    "for each in categories:\n",
    "    formatting[each] = float"
   ]
  },
  {
   "cell_type": "code",
   "execution_count": 4,
   "metadata": {},
   "outputs": [],
   "source": [
    "\n",
    "df = pd.read_csv('attachment_data.csv',dtype=formatting)\n"
   ]
  },
  {
   "cell_type": "code",
   "execution_count": 13,
   "metadata": {},
   "outputs": [
    {
     "data": {
      "text/html": [
       "<div>\n",
       "<style scoped>\n",
       "    .dataframe tbody tr th:only-of-type {\n",
       "        vertical-align: middle;\n",
       "    }\n",
       "\n",
       "    .dataframe tbody tr th {\n",
       "        vertical-align: top;\n",
       "    }\n",
       "\n",
       "    .dataframe thead th {\n",
       "        text-align: right;\n",
       "    }\n",
       "</style>\n",
       "<table border=\"1\" class=\"dataframe\">\n",
       "  <thead>\n",
       "    <tr style=\"text-align: right;\">\n",
       "      <th></th>\n",
       "      <th>Class</th>\n",
       "      <th>Weapon</th>\n",
       "      <th>Category</th>\n",
       "      <th>Attachment</th>\n",
       "      <th>Accuracy</th>\n",
       "      <th>Damage</th>\n",
       "      <th>Range</th>\n",
       "      <th>Fire Rate</th>\n",
       "      <th>Mobility</th>\n",
       "      <th>Control</th>\n",
       "    </tr>\n",
       "  </thead>\n",
       "  <tbody>\n",
       "    <tr>\n",
       "      <th>0</th>\n",
       "      <td>Handgun</td>\n",
       "      <td>1911</td>\n",
       "      <td>Barrel</td>\n",
       "      <td>.45 Compact</td>\n",
       "      <td>-1.06</td>\n",
       "      <td>0.00</td>\n",
       "      <td>-2.11</td>\n",
       "      <td>0.00</td>\n",
       "      <td>3.17</td>\n",
       "      <td>-1.06</td>\n",
       "    </tr>\n",
       "    <tr>\n",
       "      <th>1</th>\n",
       "      <td>Handgun</td>\n",
       "      <td>1911</td>\n",
       "      <td>Barrel</td>\n",
       "      <td>.45 Match Grade</td>\n",
       "      <td>1.41</td>\n",
       "      <td>0.00</td>\n",
       "      <td>2.82</td>\n",
       "      <td>0.00</td>\n",
       "      <td>-1.06</td>\n",
       "      <td>2.11</td>\n",
       "    </tr>\n",
       "    <tr>\n",
       "      <th>2</th>\n",
       "      <td>Handgun</td>\n",
       "      <td>1911</td>\n",
       "      <td>Barrel</td>\n",
       "      <td>1911 Stalker</td>\n",
       "      <td>1.06</td>\n",
       "      <td>0.00</td>\n",
       "      <td>5.99</td>\n",
       "      <td>0.00</td>\n",
       "      <td>-3.87</td>\n",
       "      <td>0.00</td>\n",
       "    </tr>\n",
       "    <tr>\n",
       "      <th>3</th>\n",
       "      <td>Handgun</td>\n",
       "      <td>1911</td>\n",
       "      <td>Perk</td>\n",
       "      <td>Frangible - Disabling</td>\n",
       "      <td>0.00</td>\n",
       "      <td>0.00</td>\n",
       "      <td>0.00</td>\n",
       "      <td>0.00</td>\n",
       "      <td>0.00</td>\n",
       "      <td>0.00</td>\n",
       "    </tr>\n",
       "    <tr>\n",
       "      <th>4</th>\n",
       "      <td>Handgun</td>\n",
       "      <td>1911</td>\n",
       "      <td>Perk</td>\n",
       "      <td>Frangible - Wounding</td>\n",
       "      <td>0.00</td>\n",
       "      <td>0.00</td>\n",
       "      <td>0.00</td>\n",
       "      <td>0.00</td>\n",
       "      <td>0.00</td>\n",
       "      <td>0.00</td>\n",
       "    </tr>\n",
       "    <tr>\n",
       "      <th>...</th>\n",
       "      <td>...</td>\n",
       "      <td>...</td>\n",
       "      <td>...</td>\n",
       "      <td>...</td>\n",
       "      <td>...</td>\n",
       "      <td>...</td>\n",
       "      <td>...</td>\n",
       "      <td>...</td>\n",
       "      <td>...</td>\n",
       "      <td>...</td>\n",
       "    </tr>\n",
       "    <tr>\n",
       "      <th>2317</th>\n",
       "      <td>Sub Machine Gun</td>\n",
       "      <td>Fennec</td>\n",
       "      <td>Stock</td>\n",
       "      <td>FORGE TAC CQs</td>\n",
       "      <td>-2.11</td>\n",
       "      <td>0.00</td>\n",
       "      <td>0.00</td>\n",
       "      <td>0.00</td>\n",
       "      <td>2.82</td>\n",
       "      <td>-1.06</td>\n",
       "    </tr>\n",
       "    <tr>\n",
       "      <th>2318</th>\n",
       "      <td>Sub Machine Gun</td>\n",
       "      <td>Fennec</td>\n",
       "      <td>Stock</td>\n",
       "      <td>ZLR Blade</td>\n",
       "      <td>3.87</td>\n",
       "      <td>0.00</td>\n",
       "      <td>0.00</td>\n",
       "      <td>0.00</td>\n",
       "      <td>-3.17</td>\n",
       "      <td>3.87</td>\n",
       "    </tr>\n",
       "    <tr>\n",
       "      <th>2319</th>\n",
       "      <td>Sub Machine Gun</td>\n",
       "      <td>Fennec</td>\n",
       "      <td>Ammunition</td>\n",
       "      <td>.45 Hollow Point 12-R Mags</td>\n",
       "      <td>0.00</td>\n",
       "      <td>3.17</td>\n",
       "      <td>-2.11</td>\n",
       "      <td>0.00</td>\n",
       "      <td>3.87</td>\n",
       "      <td>1.76</td>\n",
       "    </tr>\n",
       "    <tr>\n",
       "      <th>2320</th>\n",
       "      <td>Sub Machine Gun</td>\n",
       "      <td>Fennec</td>\n",
       "      <td>Ammunition</td>\n",
       "      <td>40 Round Drum Mags</td>\n",
       "      <td>0.00</td>\n",
       "      <td>0.00</td>\n",
       "      <td>0.00</td>\n",
       "      <td>0.00</td>\n",
       "      <td>-2.11</td>\n",
       "      <td>-2.11</td>\n",
       "    </tr>\n",
       "    <tr>\n",
       "      <th>2321</th>\n",
       "      <td>Sub Machine Gun</td>\n",
       "      <td>Fennec</td>\n",
       "      <td>Base</td>\n",
       "      <td>NaN</td>\n",
       "      <td>69.01</td>\n",
       "      <td>48.94</td>\n",
       "      <td>50.00</td>\n",
       "      <td>82.04</td>\n",
       "      <td>70.07</td>\n",
       "      <td>71.13</td>\n",
       "    </tr>\n",
       "  </tbody>\n",
       "</table>\n",
       "<p>2322 rows × 10 columns</p>\n",
       "</div>"
      ],
      "text/plain": [
       "                Class  Weapon    Category                  Attachment  \\\n",
       "0             Handgun    1911      Barrel                 .45 Compact   \n",
       "1             Handgun    1911      Barrel             .45 Match Grade   \n",
       "2             Handgun    1911      Barrel                1911 Stalker   \n",
       "3             Handgun    1911        Perk       Frangible - Disabling   \n",
       "4             Handgun    1911        Perk        Frangible - Wounding   \n",
       "...               ...     ...         ...                         ...   \n",
       "2317  Sub Machine Gun  Fennec       Stock               FORGE TAC CQs   \n",
       "2318  Sub Machine Gun  Fennec       Stock                   ZLR Blade   \n",
       "2319  Sub Machine Gun  Fennec  Ammunition  .45 Hollow Point 12-R Mags   \n",
       "2320  Sub Machine Gun  Fennec  Ammunition          40 Round Drum Mags   \n",
       "2321  Sub Machine Gun  Fennec        Base                         NaN   \n",
       "\n",
       "      Accuracy  Damage  Range  Fire Rate  Mobility  Control  \n",
       "0        -1.06    0.00  -2.11       0.00      3.17    -1.06  \n",
       "1         1.41    0.00   2.82       0.00     -1.06     2.11  \n",
       "2         1.06    0.00   5.99       0.00     -3.87     0.00  \n",
       "3         0.00    0.00   0.00       0.00      0.00     0.00  \n",
       "4         0.00    0.00   0.00       0.00      0.00     0.00  \n",
       "...        ...     ...    ...        ...       ...      ...  \n",
       "2317     -2.11    0.00   0.00       0.00      2.82    -1.06  \n",
       "2318      3.87    0.00   0.00       0.00     -3.17     3.87  \n",
       "2319      0.00    3.17  -2.11       0.00      3.87     1.76  \n",
       "2320      0.00    0.00   0.00       0.00     -2.11    -2.11  \n",
       "2321     69.01   48.94  50.00      82.04     70.07    71.13  \n",
       "\n",
       "[2322 rows x 10 columns]"
      ]
     },
     "execution_count": 13,
     "metadata": {},
     "output_type": "execute_result"
    }
   ],
   "source": [
    "df"
   ]
  },
  {
   "cell_type": "code",
   "execution_count": 16,
   "metadata": {},
   "outputs": [
    {
     "data": {
      "text/plain": [
       "[71.13, 71.83, 63.03, 67.96, 63.03, 71.83]"
      ]
     },
     "execution_count": 16,
     "metadata": {},
     "output_type": "execute_result"
    }
   ],
   "source": [
    "df[(df.Weapon == 'M4A1') & (df.Category == \"Base\")].iloc[0,4:].tolist()"
   ]
  },
  {
   "cell_type": "code",
   "execution_count": 1,
   "metadata": {},
   "outputs": [],
   "source": [
    "from image_helpers import *"
   ]
  },
  {
   "cell_type": "code",
   "execution_count": 2,
   "metadata": {},
   "outputs": [],
   "source": [
    "img = cv2.imread('data/Guns_Full/Assault Rifle/AK-47/Base/Screenshot (846).png')"
   ]
  },
  {
   "cell_type": "code",
   "execution_count": 3,
   "metadata": {},
   "outputs": [
    {
     "data": {
      "text/plain": [
       "(1080, 3840, 3)"
      ]
     },
     "execution_count": 3,
     "metadata": {},
     "output_type": "execute_result"
    }
   ],
   "source": [
    "img.shape"
   ]
  },
  {
   "cell_type": "code",
   "execution_count": 4,
   "metadata": {},
   "outputs": [],
   "source": [
    "def halfsize(img):\n",
    "    y,x,z = img.shape\n",
    "    half = int(x/2)\n",
    "    cropped = img[0:y,0:half,0:z]\n",
    "    return cropped"
   ]
  },
  {
   "cell_type": "code",
   "execution_count": 5,
   "metadata": {},
   "outputs": [],
   "source": [
    "c = halfsize(img)"
   ]
  },
  {
   "cell_type": "code",
   "execution_count": 6,
   "metadata": {},
   "outputs": [
    {
     "data": {
      "text/plain": [
       "(1080, 1920, 3)"
      ]
     },
     "execution_count": 6,
     "metadata": {},
     "output_type": "execute_result"
    }
   ],
   "source": [
    "c.shape"
   ]
  },
  {
   "cell_type": "code",
   "execution_count": 8,
   "metadata": {},
   "outputs": [
    {
     "data": {
      "text/plain": [
       "True"
      ]
     },
     "execution_count": 8,
     "metadata": {},
     "output_type": "execute_result"
    }
   ],
   "source": [
    "cv2.imwrite('a.png',c)"
   ]
  },
  {
   "cell_type": "code",
   "execution_count": null,
   "metadata": {},
   "outputs": [],
   "source": []
  }
 ],
 "metadata": {
  "kernelspec": {
   "display_name": "Python 3",
   "language": "python",
   "name": "python3"
  },
  "language_info": {
   "codemirror_mode": {
    "name": "ipython",
    "version": 3
   },
   "file_extension": ".py",
   "mimetype": "text/x-python",
   "name": "python",
   "nbconvert_exporter": "python",
   "pygments_lexer": "ipython3",
   "version": "3.7.3"
  }
 },
 "nbformat": 4,
 "nbformat_minor": 2
}
