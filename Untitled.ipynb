{
 "cells": [
  {
   "cell_type": "code",
   "execution_count": 10,
   "metadata": {},
   "outputs": [],
   "source": [
    "import pandas as pd\n",
    "\n",
    "categories = ['   Accuracy','Damage','Range','Fire Rate','Mobility','Control']\n",
    "    \n",
    "formatting = {}\n",
    "for each in categories:\n",
    "    formatting[each] = float"
   ]
  },
  {
   "cell_type": "code",
   "execution_count": 11,
   "metadata": {},
   "outputs": [],
   "source": [
    "\n",
    "df = pd.read_csv('attachment_data.csv',dtype=formatting)\n"
   ]
  },
  {
   "cell_type": "code",
   "execution_count": 14,
   "metadata": {},
   "outputs": [
    {
     "data": {
      "text/plain": [
       "2322"
      ]
     },
     "execution_count": 14,
     "metadata": {},
     "output_type": "execute_result"
    }
   ],
   "source": [
    "len(df)"
   ]
  },
  {
   "cell_type": "code",
   "execution_count": 15,
   "metadata": {},
   "outputs": [
    {
     "data": {
      "text/plain": [
       "43"
      ]
     },
     "execution_count": 15,
     "metadata": {},
     "output_type": "execute_result"
    }
   ],
   "source": [
    "df.Weapon.nunique()"
   ]
  },
  {
   "cell_type": "code",
   "execution_count": 13,
   "metadata": {
    "scrolled": true
   },
   "outputs": [
    {
     "data": {
      "text/html": [
       "<div>\n",
       "<style scoped>\n",
       "    .dataframe tbody tr th:only-of-type {\n",
       "        vertical-align: middle;\n",
       "    }\n",
       "\n",
       "    .dataframe tbody tr th {\n",
       "        vertical-align: top;\n",
       "    }\n",
       "\n",
       "    .dataframe thead th {\n",
       "        text-align: right;\n",
       "    }\n",
       "</style>\n",
       "<table border=\"1\" class=\"dataframe\">\n",
       "  <thead>\n",
       "    <tr style=\"text-align: right;\">\n",
       "      <th></th>\n",
       "      <th>Class</th>\n",
       "      <th>Weapon</th>\n",
       "      <th>Category</th>\n",
       "      <th>Attachment</th>\n",
       "      <th>Accuracy</th>\n",
       "      <th>Damage</th>\n",
       "      <th>Range</th>\n",
       "      <th>Fire Rate</th>\n",
       "      <th>Mobility</th>\n",
       "      <th>Control</th>\n",
       "    </tr>\n",
       "  </thead>\n",
       "  <tbody>\n",
       "    <tr>\n",
       "      <th>1818</th>\n",
       "      <td>Assault Rifle</td>\n",
       "      <td>M4A1</td>\n",
       "      <td>Barrel</td>\n",
       "      <td>Stock M16 Grenadier</td>\n",
       "      <td>3.87</td>\n",
       "      <td>0.00</td>\n",
       "      <td>7.04</td>\n",
       "      <td>0.00</td>\n",
       "      <td>-5.99</td>\n",
       "      <td>5.28</td>\n",
       "    </tr>\n",
       "    <tr>\n",
       "      <th>1819</th>\n",
       "      <td>Assault Rifle</td>\n",
       "      <td>M4A1</td>\n",
       "      <td>Barrel</td>\n",
       "      <td>FSS 12.4\" Predator</td>\n",
       "      <td>1.76</td>\n",
       "      <td>0.00</td>\n",
       "      <td>-5.99</td>\n",
       "      <td>0.00</td>\n",
       "      <td>2.82</td>\n",
       "      <td>0.00</td>\n",
       "    </tr>\n",
       "    <tr>\n",
       "      <th>1820</th>\n",
       "      <td>Assault Rifle</td>\n",
       "      <td>M4A1</td>\n",
       "      <td>Barrel</td>\n",
       "      <td>FSS 11.5\" Commando</td>\n",
       "      <td>-2.11</td>\n",
       "      <td>0.00</td>\n",
       "      <td>-3.87</td>\n",
       "      <td>0.00</td>\n",
       "      <td>5.99</td>\n",
       "      <td>-1.76</td>\n",
       "    </tr>\n",
       "    <tr>\n",
       "      <th>1821</th>\n",
       "      <td>Assault Rifle</td>\n",
       "      <td>M4A1</td>\n",
       "      <td>Barrel</td>\n",
       "      <td>Corvus Custom Marksman</td>\n",
       "      <td>2.82</td>\n",
       "      <td>0.00</td>\n",
       "      <td>4.93</td>\n",
       "      <td>0.00</td>\n",
       "      <td>-3.17</td>\n",
       "      <td>4.23</td>\n",
       "    </tr>\n",
       "    <tr>\n",
       "      <th>1822</th>\n",
       "      <td>Assault Rifle</td>\n",
       "      <td>M4A1</td>\n",
       "      <td>Barrel</td>\n",
       "      <td>FSS 14.5\" Tac Lite</td>\n",
       "      <td>0.00</td>\n",
       "      <td>0.00</td>\n",
       "      <td>-3.17</td>\n",
       "      <td>0.00</td>\n",
       "      <td>2.82</td>\n",
       "      <td>0.00</td>\n",
       "    </tr>\n",
       "    <tr>\n",
       "      <th>...</th>\n",
       "      <td>...</td>\n",
       "      <td>...</td>\n",
       "      <td>...</td>\n",
       "      <td>...</td>\n",
       "      <td>...</td>\n",
       "      <td>...</td>\n",
       "      <td>...</td>\n",
       "      <td>...</td>\n",
       "      <td>...</td>\n",
       "      <td>...</td>\n",
       "    </tr>\n",
       "    <tr>\n",
       "      <th>1884</th>\n",
       "      <td>Assault Rifle</td>\n",
       "      <td>M4A1</td>\n",
       "      <td>Ammunition</td>\n",
       "      <td>50 Round Mags</td>\n",
       "      <td>0.00</td>\n",
       "      <td>0.00</td>\n",
       "      <td>0.00</td>\n",
       "      <td>0.00</td>\n",
       "      <td>-2.11</td>\n",
       "      <td>-1.76</td>\n",
       "    </tr>\n",
       "    <tr>\n",
       "      <th>1885</th>\n",
       "      <td>Assault Rifle</td>\n",
       "      <td>M4A1</td>\n",
       "      <td>Ammunition</td>\n",
       "      <td>60 Round Mags</td>\n",
       "      <td>0.00</td>\n",
       "      <td>0.00</td>\n",
       "      <td>0.00</td>\n",
       "      <td>0.00</td>\n",
       "      <td>-3.87</td>\n",
       "      <td>-2.46</td>\n",
       "    </tr>\n",
       "    <tr>\n",
       "      <th>1886</th>\n",
       "      <td>Assault Rifle</td>\n",
       "      <td>M4A1</td>\n",
       "      <td>Ammunition</td>\n",
       "      <td>9mm Para 32-Round Mags</td>\n",
       "      <td>3.87</td>\n",
       "      <td>-2.82</td>\n",
       "      <td>-3.17</td>\n",
       "      <td>7.04</td>\n",
       "      <td>0.00</td>\n",
       "      <td>3.17</td>\n",
       "    </tr>\n",
       "    <tr>\n",
       "      <th>1887</th>\n",
       "      <td>Assault Rifle</td>\n",
       "      <td>M4A1</td>\n",
       "      <td>Ammunition</td>\n",
       "      <td>.458 SOCOM 10-Round Mags</td>\n",
       "      <td>3.87</td>\n",
       "      <td>5.28</td>\n",
       "      <td>2.82</td>\n",
       "      <td>-2.82</td>\n",
       "      <td>0.00</td>\n",
       "      <td>-1.76</td>\n",
       "    </tr>\n",
       "    <tr>\n",
       "      <th>1888</th>\n",
       "      <td>Assault Rifle</td>\n",
       "      <td>M4A1</td>\n",
       "      <td>Base</td>\n",
       "      <td>NaN</td>\n",
       "      <td>71.13</td>\n",
       "      <td>71.83</td>\n",
       "      <td>63.03</td>\n",
       "      <td>67.96</td>\n",
       "      <td>63.03</td>\n",
       "      <td>71.83</td>\n",
       "    </tr>\n",
       "  </tbody>\n",
       "</table>\n",
       "<p>71 rows × 10 columns</p>\n",
       "</div>"
      ],
      "text/plain": [
       "              Class Weapon    Category                Attachment  Accuracy  \\\n",
       "1818  Assault Rifle   M4A1      Barrel       Stock M16 Grenadier      3.87   \n",
       "1819  Assault Rifle   M4A1      Barrel        FSS 12.4\" Predator      1.76   \n",
       "1820  Assault Rifle   M4A1      Barrel        FSS 11.5\" Commando     -2.11   \n",
       "1821  Assault Rifle   M4A1      Barrel    Corvus Custom Marksman      2.82   \n",
       "1822  Assault Rifle   M4A1      Barrel        FSS 14.5\" Tac Lite      0.00   \n",
       "...             ...    ...         ...                       ...       ...   \n",
       "1884  Assault Rifle   M4A1  Ammunition             50 Round Mags      0.00   \n",
       "1885  Assault Rifle   M4A1  Ammunition             60 Round Mags      0.00   \n",
       "1886  Assault Rifle   M4A1  Ammunition    9mm Para 32-Round Mags      3.87   \n",
       "1887  Assault Rifle   M4A1  Ammunition  .458 SOCOM 10-Round Mags      3.87   \n",
       "1888  Assault Rifle   M4A1        Base                       NaN     71.13   \n",
       "\n",
       "      Damage  Range  Fire Rate  Mobility  Control  \n",
       "1818    0.00   7.04       0.00     -5.99     5.28  \n",
       "1819    0.00  -5.99       0.00      2.82     0.00  \n",
       "1820    0.00  -3.87       0.00      5.99    -1.76  \n",
       "1821    0.00   4.93       0.00     -3.17     4.23  \n",
       "1822    0.00  -3.17       0.00      2.82     0.00  \n",
       "...      ...    ...        ...       ...      ...  \n",
       "1884    0.00   0.00       0.00     -2.11    -1.76  \n",
       "1885    0.00   0.00       0.00     -3.87    -2.46  \n",
       "1886   -2.82  -3.17       7.04      0.00     3.17  \n",
       "1887    5.28   2.82      -2.82      0.00    -1.76  \n",
       "1888   71.83  63.03      67.96     63.03    71.83  \n",
       "\n",
       "[71 rows x 10 columns]"
      ]
     },
     "execution_count": 13,
     "metadata": {},
     "output_type": "execute_result"
    }
   ],
   "source": [
    "df[df.Weapon == \"M4A1\"]"
   ]
  },
  {
   "cell_type": "code",
   "execution_count": 16,
   "metadata": {},
   "outputs": [
    {
     "data": {
      "text/plain": [
       "[71.13, 71.83, 63.03, 67.96, 63.03, 71.83]"
      ]
     },
     "execution_count": 16,
     "metadata": {},
     "output_type": "execute_result"
    }
   ],
   "source": [
    "df[(df.Weapon == 'M4A1') & (df.Category == \"Base\")].iloc[0,4:].tolist()"
   ]
  },
  {
   "cell_type": "code",
   "execution_count": 1,
   "metadata": {},
   "outputs": [],
   "source": [
    "from image_helpers import *"
   ]
  },
  {
   "cell_type": "code",
   "execution_count": 2,
   "metadata": {},
   "outputs": [],
   "source": [
    "img = cv2.imread('data/Guns_Full/Assault Rifle/AK-47/Base/Screenshot (846).png')"
   ]
  },
  {
   "cell_type": "code",
   "execution_count": 3,
   "metadata": {},
   "outputs": [
    {
     "data": {
      "text/plain": [
       "(1080, 3840, 3)"
      ]
     },
     "execution_count": 3,
     "metadata": {},
     "output_type": "execute_result"
    }
   ],
   "source": [
    "img.shape"
   ]
  },
  {
   "cell_type": "code",
   "execution_count": 4,
   "metadata": {},
   "outputs": [],
   "source": [
    "def halfsize(img):\n",
    "    y,x,z = img.shape\n",
    "    half = int(x/2)\n",
    "    cropped = img[0:y,0:half,0:z]\n",
    "    return cropped"
   ]
  },
  {
   "cell_type": "code",
   "execution_count": 5,
   "metadata": {},
   "outputs": [],
   "source": [
    "c = halfsize(img)"
   ]
  },
  {
   "cell_type": "code",
   "execution_count": 6,
   "metadata": {},
   "outputs": [
    {
     "data": {
      "text/plain": [
       "(1080, 1920, 3)"
      ]
     },
     "execution_count": 6,
     "metadata": {},
     "output_type": "execute_result"
    }
   ],
   "source": [
    "c.shape"
   ]
  },
  {
   "cell_type": "code",
   "execution_count": 8,
   "metadata": {},
   "outputs": [
    {
     "data": {
      "text/plain": [
       "True"
      ]
     },
     "execution_count": 8,
     "metadata": {},
     "output_type": "execute_result"
    }
   ],
   "source": [
    "cv2.imwrite('a.png',c)"
   ]
  },
  {
   "cell_type": "code",
   "execution_count": null,
   "metadata": {},
   "outputs": [],
   "source": []
  }
 ],
 "metadata": {
  "kernelspec": {
   "display_name": "Python 3",
   "language": "python",
   "name": "python3"
  },
  "language_info": {
   "codemirror_mode": {
    "name": "ipython",
    "version": 3
   },
   "file_extension": ".py",
   "mimetype": "text/x-python",
   "name": "python",
   "nbconvert_exporter": "python",
   "pygments_lexer": "ipython3",
   "version": "3.7.3"
  }
 },
 "nbformat": 4,
 "nbformat_minor": 2
}
